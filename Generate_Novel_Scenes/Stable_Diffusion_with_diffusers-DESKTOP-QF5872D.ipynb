{
 "cells": [
  {
   "cell_type": "code",
   "execution_count": 1,
   "metadata": {
    "colab": {
     "base_uri": "https://localhost:8080/"
    },
    "id": "PQIhFY7zauWD",
    "outputId": "0d3b6169-ff20-4868-90f7-fc625ede9cb4"
   },
   "outputs": [],
   "source": [
    "#from google.colab import drive\n",
    "import pandas as pd\n",
    "#drive.mount('/content/drive')\n",
    "from tqdm import tqdm"
   ]
  },
  {
   "cell_type": "code",
   "execution_count": 2,
   "metadata": {
    "id": "AXElz0POXVsP"
   },
   "outputs": [
    {
     "name": "stdout",
     "output_type": "stream",
     "text": [
      "Requirement already satisfied: transformers in /opt/homebrew/lib/python3.10/site-packages (4.24.0)\n",
      "Requirement already satisfied: pyyaml>=5.1 in /opt/homebrew/lib/python3.10/site-packages (from transformers) (6.0)\n",
      "Requirement already satisfied: huggingface-hub<1.0,>=0.10.0 in /opt/homebrew/lib/python3.10/site-packages (from transformers) (0.10.1)\n",
      "Requirement already satisfied: numpy>=1.17 in /opt/homebrew/lib/python3.10/site-packages (from transformers) (1.23.4)\n",
      "Requirement already satisfied: requests in /opt/homebrew/lib/python3.10/site-packages (from transformers) (2.28.1)\n",
      "Requirement already satisfied: packaging>=20.0 in /opt/homebrew/lib/python3.10/site-packages (from transformers) (21.3)\n",
      "Requirement already satisfied: tokenizers!=0.11.3,<0.14,>=0.11.1 in /opt/homebrew/lib/python3.10/site-packages (from transformers) (0.13.2)\n",
      "Requirement already satisfied: tqdm>=4.27 in /opt/homebrew/lib/python3.10/site-packages (from transformers) (4.64.1)\n",
      "Requirement already satisfied: filelock in /opt/homebrew/lib/python3.10/site-packages (from transformers) (3.8.0)\n",
      "Requirement already satisfied: regex!=2019.12.17 in /opt/homebrew/lib/python3.10/site-packages (from transformers) (2022.10.31)\n",
      "Requirement already satisfied: typing-extensions>=3.7.4.3 in /opt/homebrew/lib/python3.10/site-packages (from huggingface-hub<1.0,>=0.10.0->transformers) (4.4.0)\n",
      "Requirement already satisfied: pyparsing!=3.0.5,>=2.0.2 in /opt/homebrew/lib/python3.10/site-packages (from packaging>=20.0->transformers) (3.0.9)\n",
      "Requirement already satisfied: urllib3<1.27,>=1.21.1 in /opt/homebrew/lib/python3.10/site-packages (from requests->transformers) (1.26.12)\n",
      "Requirement already satisfied: certifi>=2017.4.17 in /opt/homebrew/lib/python3.10/site-packages (from requests->transformers) (2022.9.24)\n",
      "Requirement already satisfied: idna<4,>=2.5 in /opt/homebrew/lib/python3.10/site-packages (from requests->transformers) (3.4)\n",
      "Requirement already satisfied: charset-normalizer<3,>=2 in /opt/homebrew/lib/python3.10/site-packages (from requests->transformers) (2.1.1)\n",
      "\n",
      "\u001b[1m[\u001b[0m\u001b[34;49mnotice\u001b[0m\u001b[1;39;49m]\u001b[0m\u001b[39;49m A new release of pip available: \u001b[0m\u001b[31;49m22.3\u001b[0m\u001b[39;49m -> \u001b[0m\u001b[32;49m22.3.1\u001b[0m\n",
      "\u001b[1m[\u001b[0m\u001b[34;49mnotice\u001b[0m\u001b[1;39;49m]\u001b[0m\u001b[39;49m To update, run: \u001b[0m\u001b[32;49mpython3.10 -m pip install --upgrade pip\u001b[0m\n"
     ]
    },
    {
     "name": "stderr",
     "output_type": "stream",
     "text": [
      "/opt/homebrew/lib/python3.10/site-packages/tqdm/auto.py:22: TqdmWarning: IProgress not found. Please update jupyter and ipywidgets. See https://ipywidgets.readthedocs.io/en/stable/user_install.html\n",
      "  from .autonotebook import tqdm as notebook_tqdm\n"
     ]
    }
   ],
   "source": [
    "# 모델 불러오기\n",
    "!pip install transformers\n",
    "from transformers import pipeline \n",
    "mysummarization = pipeline(\"summarization\", model=\"MS-Go/autotrain-hjuihu-1974565969\") # 모델 번호 입력하기"
   ]
  },
  {
   "cell_type": "code",
   "execution_count": 3,
   "metadata": {
    "id": "yMo6MQfRaHm9"
   },
   "outputs": [],
   "source": [
    "# Define the input\n",
    "import os\n",
    "book_list=[]\n",
    "def search(dirname):\n",
    "    filenames = os.listdir(dirname)\n",
    "    for filename in filenames:\n",
    "        full_filename = os.path.join(dirname, filename)\n",
    "        book_list.append(full_filename)\n",
    "    \n",
    "search(\"book\")"
   ]
  },
  {
   "cell_type": "code",
   "execution_count": 5,
   "metadata": {
    "colab": {
     "base_uri": "https://localhost:8080/"
    },
    "id": "Mhppsw6sa6Cj",
    "outputId": "9d24f3b5-cafb-4b25-adfd-996818af1e2a"
   },
   "outputs": [],
   "source": [
    "# book 할거 지정\n",
    "#book_list = book_list[4:] + book_list[:2]"
   ]
  },
  {
   "cell_type": "code",
   "execution_count": 6,
   "metadata": {},
   "outputs": [
    {
     "data": {
      "text/plain": [
       "['book/The_Scarlet_Letter(주홍글씨).csv',\n",
       " 'book/The_Merchant_of_Venice(베니스의_상인).csv',\n",
       " 'book/Hamlet(햄릿).csv',\n",
       " \"book/Gulliver's_Travels(걸리버_여행기).csv\",\n",
       " 'book/Romeo_and_Juliet(로미오와_줄리엣).csv']"
      ]
     },
     "execution_count": 6,
     "metadata": {},
     "output_type": "execute_result"
    }
   ],
   "source": [
    "book_list"
   ]
  },
  {
   "cell_type": "code",
   "execution_count": 7,
   "metadata": {
    "id": "2DexLbpJdop2"
   },
   "outputs": [],
   "source": [
    "def split_text(x):\n",
    "    print(\"글자수 길이 : \", len(x))\n",
    "    text_list=[]\n",
    "    while len(x)>2000:\n",
    "        id = x.index(x[:2000].split('.')[-1])\n",
    "        if id < 1700:\n",
    "            id = 1800\n",
    "        text_list.append(x[:id])\n",
    "        x = x[id:]\n",
    "    text_list.append(x)\n",
    "    print(\"요약 단락 갯수 : \", len(text_list))\n",
    "    return text_sum(text_list)"
   ]
  },
  {
   "cell_type": "code",
   "execution_count": 8,
   "metadata": {
    "id": "myo2A_bDeCbr"
   },
   "outputs": [],
   "source": [
    "def text_sum(x):\n",
    "    sum_list=[]\n",
    "    for i in x:\n",
    "        if len(i)<200:\n",
    "            continue;\n",
    "        sum_list.append(mysummarization(i)[0]['summary_text'])\n",
    "    if len(sum_list)>1:\n",
    "        text = ' '.join(sum_list)\n",
    "        if len(text) > 2000:\n",
    "            text = mysummarization(split_text(text))[0]['summary_text']\n",
    "        else:\n",
    "            text = mysummarization(text)[0]['summary_text']\n",
    "    else:\n",
    "        text = sum_list[0]\n",
    "    print(len(text),\"개 \",  text)\n",
    "    if len(text) > 2000:\n",
    "        text = split_text(text)\n",
    "        text_sum(text)\n",
    "    return text"
   ]
  },
  {
   "cell_type": "code",
   "execution_count": 12,
   "metadata": {
    "colab": {
     "base_uri": "https://localhost:8080/"
    },
    "id": "R15duCPObHuA",
    "outputId": "f4559b3d-28ed-4f86-e693-94f13842e409",
    "scrolled": true
   },
   "outputs": [
    {
     "name": "stderr",
     "output_type": "stream",
     "text": [
      "\r",
      "  0%|                                                     | 0/5 [00:00<?, ?it/s]"
     ]
    },
    {
     "name": "stdout",
     "output_type": "stream",
     "text": [
      "\n",
      " 주홍글씨 요약 시작하겠습니다.!\n",
      "chapter 갯수 :  24\n"
     ]
    },
    {
     "name": "stderr",
     "output_type": "stream",
     "text": [
      "\n",
      "  0%|                                                    | 0/24 [00:00<?, ?it/s]\u001b[A"
     ]
    },
    {
     "name": "stdout",
     "output_type": "stream",
     "text": [
      "\n",
      " 요약 시작 타이틀 :  The Scarlet Letter.chapter 1\n",
      "글자수 길이 :  2942\n",
      "요약 단락 갯수 :  2\n"
     ]
    },
    {
     "name": "stderr",
     "output_type": "stream",
     "text": [
      "\n",
      "  4%|█▊                                          | 1/24 [00:36<13:49, 36.07s/it]\u001b[A"
     ]
    },
    {
     "name": "stdout",
     "output_type": "stream",
     "text": [
      "610 개  The first prison is described as an ugly wooden jail, covered with weather-stains and covered in rust. On the other side of the prison door is a rose-bush, which is covered with delicate gems. The rose is a symbol of a moral blossom that may be found along the track, or relieve the darkening close of a tale of human frailty and sorrow. The reader is told that the rose is the flower of Ann Hutchinson, who entered the prison in the footsteps of the sainted Ann Hutchinson. We pluck one of the flowers and present it to the reader to symbolize some sweet moral blossoms that may find their way along the road.\n",
      "\n",
      " 요약 시작 타이틀 :  The Scarlet Letter.chapter 2\n",
      "글자수 길이 :  20284\n",
      "요약 단락 갯수 :  11\n",
      "글자수 길이 :  6420\n",
      "요약 단락 갯수 :  4\n",
      "글자수 길이 :  2345\n",
      "요약 단락 갯수 :  2\n"
     ]
    },
    {
     "name": "stderr",
     "output_type": "stream",
     "text": [
      "Your max_length is set to 142, but you input_length is only 131. You might consider decreasing max_length manually, e.g. summarizer('...', max_length=65)\n",
      "Your max_length is set to 142, but you input_length is only 141. You might consider decreasing max_length manually, e.g. summarizer('...', max_length=70)\n"
     ]
    },
    {
     "name": "stdout",
     "output_type": "stream",
     "text": [
      "653 개  Two centuries ago, a large number of the inhabitants of Boston stood outside the jail, all with their eyes fastened on the iron-clamped oaken door of the jail. The women who were standing about the prison-door stood within less than half a century of the period when the man-like Elizabeth had been the not altogether unsuitable representative of the sex. They were her countrywomen; and the beef and ale of their native land, with a moral diet not a whit more refined, entered largely into their composition. The bright morning sun shone on broad shoulders and well-developed busts, and on round and ruddy cheeks, that had ripened in the far-off island\n"
     ]
    },
    {
     "name": "stderr",
     "output_type": "stream",
     "text": [
      "Your max_length is set to 142, but you input_length is only 141. You might consider decreasing max_length manually, e.g. summarizer('...', max_length=70)\n"
     ]
    },
    {
     "name": "stdout",
     "output_type": "stream",
     "text": [
      "653 개  Two centuries ago, a large number of the inhabitants of Boston stood outside the jail, all with their eyes fastened on the iron-clamped oaken door of the jail. The women who were standing about the prison-door stood within less than half a century of the period when the man-like Elizabeth had been the not altogether unsuitable representative of the sex. They were her countrywomen; and the beef and ale of their native land, with a moral diet not a whit more refined, entered largely into their composition. The bright morning sun shone on broad shoulders and well-developed busts, and on round and ruddy cheeks, that had ripened in the far-off island\n"
     ]
    },
    {
     "name": "stderr",
     "output_type": "stream",
     "text": [
      "\n",
      "  8%|███▌                                       | 2/24 [04:41<58:28, 159.47s/it]\u001b[A"
     ]
    },
    {
     "name": "stdout",
     "output_type": "stream",
     "text": [
      "653 개  Two centuries ago, a large number of the inhabitants of Boston stood outside the jail, all with their eyes fastened on the iron-clamped oaken door of the jail. The women who were standing about the prison-door stood within less than half a century of the period when the man-like Elizabeth had been the not altogether unsuitable representative of the sex. They were her countrywomen; and the beef and ale of their native land, with a moral diet not a whit more refined, entered largely into their composition. The bright morning sun shone on broad shoulders and well-developed busts, and on round and ruddy cheeks, that had ripened in the far-off island\n",
      "\n",
      " 요약 시작 타이틀 :  The Scarlet Letter.chapter 3\n",
      "글자수 길이 :  18528\n",
      "요약 단락 갯수 :  10\n",
      "글자수 길이 :  5943\n",
      "요약 단락 갯수 :  4\n"
     ]
    },
    {
     "name": "stderr",
     "output_type": "stream",
     "text": [
      "Your max_length is set to 142, but you input_length is only 73. You might consider decreasing max_length manually, e.g. summarizer('...', max_length=36)\n"
     ]
    },
    {
     "name": "stdout",
     "output_type": "stream",
     "text": [
      "글자수 길이 :  2086\n",
      "요약 단락 갯수 :  2\n"
     ]
    },
    {
     "name": "stderr",
     "output_type": "stream",
     "text": [
      "Your max_length is set to 142, but you input_length is only 140. You might consider decreasing max_length manually, e.g. summarizer('...', max_length=70)\n"
     ]
    },
    {
     "name": "stdout",
     "output_type": "stream",
     "text": [
      "624 개  The Reverend John Wilson, the eldest clergyman of Boston, stands before Hester Prynne. He is a great scholar and a man of kind and genial spirit, but his intellectual gifts have not been developed as well as his moral gifts. He tells Hester that he has been trying to persuade her to confess her guilt to her younger brother, who is sitting beside her. Reverend Mr. Dimmesdale, a young clergyman from one of the great English universities, addresses the crowd. He says that the Governor and Mr. Wilson have asked him to speak openly to the woman's soul, and he has no choice but to do so. The Reverend asks Hester to confess\n"
     ]
    },
    {
     "name": "stderr",
     "output_type": "stream",
     "text": [
      "Your max_length is set to 142, but you input_length is only 133. You might consider decreasing max_length manually, e.g. summarizer('...', max_length=66)\n"
     ]
    },
    {
     "name": "stdout",
     "output_type": "stream",
     "text": [
      "588 개  The Reverend John Wilson, the eldest clergyman of Boston, stands before Hester Prynne. He is a great scholar and a man of kind and genial spirit, but his intellectual gifts have not been developed as well as his moral gifts. He tells Hester that he has been trying to persuade her to confess her guilt to her younger brother, who is sitting beside her. Reverend Mr. Dimmesdale, a young clergyman from one of the great English universities, addresses the crowd. He says that the Governor and Mr. Wilson have asked him to speak openly to the woman's soul, and he has no choice but to do so.\n"
     ]
    },
    {
     "name": "stderr",
     "output_type": "stream",
     "text": [
      "\n",
      " 12%|█████▏                                   | 3/24 [08:14<1:04:15, 183.60s/it]\u001b[A"
     ]
    },
    {
     "name": "stdout",
     "output_type": "stream",
     "text": [
      "588 개  The Reverend John Wilson, the eldest clergyman of Boston, stands before Hester Prynne. He is a great scholar and a man of kind and genial spirit, but his intellectual gifts have not been developed as well as his moral gifts. He tells Hester that he has been trying to persuade her to confess her guilt to her younger brother, who is sitting beside her. Reverend Mr. Dimmesdale, a young clergyman from one of the great English universities, addresses the crowd. He says that the Governor and Mr. Wilson have asked him to speak openly to the woman's soul, and he has no choice but to do so.\n",
      "\n",
      " 요약 시작 타이틀 :  The Scarlet Letter.chapter 4\n",
      "글자수 길이 :  13370\n",
      "요약 단락 갯수 :  7\n",
      "글자수 길이 :  4206\n",
      "요약 단락 갯수 :  3\n"
     ]
    },
    {
     "name": "stderr",
     "output_type": "stream",
     "text": [
      "Your max_length is set to 142, but you input_length is only 102. You might consider decreasing max_length manually, e.g. summarizer('...', max_length=51)\n",
      "Your max_length is set to 142, but you input_length is only 139. You might consider decreasing max_length manually, e.g. summarizer('...', max_length=69)\n"
     ]
    },
    {
     "name": "stdout",
     "output_type": "stream",
     "text": [
      "582 개  Hester returns to the prison and is treated by a doctor who is a scholar. He gives her a draught of the medicine that he learned from an Indian, a recipe that an Indian taught him, in requital of some lessons of his own that were as old as Paracelsus. Hester tells her husband that she feels no love for him, and he tells her that he felt no love either. He says that he feels no remorse for having betrayed her, and that they have both wronged each other. He asks her to tell him who the man is who has wronged them both, but Hester says that she will not tell him, but the scholar\n"
     ]
    },
    {
     "name": "stderr",
     "output_type": "stream",
     "text": [
      "\n",
      " 17%|███████▏                                   | 4/24 [10:44<56:51, 170.57s/it]\u001b[A"
     ]
    },
    {
     "name": "stdout",
     "output_type": "stream",
     "text": [
      "582 개  Hester returns to the prison and is treated by a doctor who is a scholar. He gives her a draught of the medicine that he learned from an Indian, a recipe that an Indian taught him, in requital of some lessons of his own that were as old as Paracelsus. Hester tells her husband that she feels no love for him, and he tells her that he felt no love either. He says that he feels no remorse for having betrayed her, and that they have both wronged each other. He asks her to tell him who the man is who has wronged them both, but Hester says that she will not tell him, but the scholar\n",
      "\n",
      " 요약 시작 타이틀 :  The Scarlet Letter.chapter 5\n",
      "글자수 길이 :  20160\n",
      "요약 단락 갯수 :  11\n",
      "글자수 길이 :  6873\n",
      "요약 단락 갯수 :  4\n",
      "글자수 길이 :  2513\n",
      "요약 단락 갯수 :  2\n"
     ]
    },
    {
     "name": "stderr",
     "output_type": "stream",
     "text": [
      "Your max_length is set to 142, but you input_length is only 141. You might consider decreasing max_length manually, e.g. summarizer('...', max_length=70)\n",
      "Your max_length is set to 142, but you input_length is only 141. You might consider decreasing max_length manually, e.g. summarizer('...', max_length=70)\n"
     ]
    },
    {
     "name": "stdout",
     "output_type": "stream",
     "text": [
      "648 개  Hester Prynne is released from prison and returns to the forest to hide her identity under a new exterior. She does not flee from New England because she believes that she is bound by an iron chain that can never be broken. She believes that the torture of her daily shame will purge her soul, and work out another purity than that which she had lost. On the outskirts of the town, on the verge of the peninsula, there is a small thatched cottage. There, Hester sees a man whom she believes to be the one who will bring them together before the bar of final judgment, and make that their marriage-altar, for a joint futurity of endless retribution.\n"
     ]
    },
    {
     "name": "stderr",
     "output_type": "stream",
     "text": [
      "Your max_length is set to 142, but you input_length is only 132. You might consider decreasing max_length manually, e.g. summarizer('...', max_length=66)\n"
     ]
    },
    {
     "name": "stdout",
     "output_type": "stream",
     "text": [
      "603 개  Hester Prynne is released from prison and returns to the forest to hide her identity under a new exterior. She does not flee from New England because she believes that she is bound by an iron chain that can never be broken. She believes that the torture of her daily shame will purge her soul, and work out another purity than that which she had lost. On the outskirts of the town, on the verge of the peninsula, there is a small thatched cottage. There, Hester sees a man whom she believes to be the one who will bring them together before the bar of final judgment, and make that their marriage-altar.\n"
     ]
    },
    {
     "name": "stderr",
     "output_type": "stream",
     "text": [
      "\n",
      " 21%|████████▌                                | 5/24 [14:59<1:03:36, 200.87s/it]\u001b[A"
     ]
    },
    {
     "name": "stdout",
     "output_type": "stream",
     "text": [
      "603 개  Hester Prynne is released from prison and returns to the forest to hide her identity under a new exterior. She does not flee from New England because she believes that she is bound by an iron chain that can never be broken. She believes that the torture of her daily shame will purge her soul, and work out another purity than that which she had lost. On the outskirts of the town, on the verge of the peninsula, there is a small thatched cottage. There, Hester sees a man whom she believes to be the one who will bring them together before the bar of final judgment, and make that their marriage-altar.\n",
      "\n",
      " 요약 시작 타이틀 :  The Scarlet Letter.chapter 6\n",
      "글자수 길이 :  20389\n",
      "요약 단락 갯수 :  11\n",
      "글자수 길이 :  6647\n",
      "요약 단락 갯수 :  4\n",
      "글자수 길이 :  2438\n",
      "요약 단락 갯수 :  2\n"
     ]
    },
    {
     "name": "stderr",
     "output_type": "stream",
     "text": [
      "Your max_length is set to 142, but you input_length is only 140. You might consider decreasing max_length manually, e.g. summarizer('...', max_length=70)\n"
     ]
    },
    {
     "name": "stdout",
     "output_type": "stream",
     "text": [
      "618 개  Hester Prynne gives birth to a daughter named Pearl, who is described as having \"a native grace which does not invariably coexist with faultless beauty.\" Her attire, however, always impressed the beholder as if it were the very garb that precisely became it best. Pearl's aspect was imbued with a spell of infinite variety; in this one child there were many children, comprehending the full scope between the wild-flower prettiness of a peasant-baby, and the pomp, in little, of an infant princess. Throughout all, there was a trait of passion, a certain depth of hue, which she never lost; and if, in any of her Pearl\n"
     ]
    },
    {
     "name": "stderr",
     "output_type": "stream",
     "text": [
      "Your max_length is set to 142, but you input_length is only 138. You might consider decreasing max_length manually, e.g. summarizer('...', max_length=69)\n"
     ]
    },
    {
     "name": "stdout",
     "output_type": "stream",
     "text": [
      "611 개  Hester Prynne gives birth to a daughter named Pearl, who is described as having \"a native grace which does not invariably coexist with faultless beauty.\" Her attire, however, always impressed the beholder as if it were the very garb that precisely became it best. Pearl's aspect was imbued with a spell of infinite variety; in this one child there were many children, comprehending the full scope between the wild-flower prettiness of a peasant-baby and the pomp, in little, of an infant princess. Throughout all, there was a trait of passion, a certain depth of hue, which she never lost; and if, in any of her\n"
     ]
    },
    {
     "name": "stderr",
     "output_type": "stream",
     "text": [
      "\n",
      " 25%|██████████▎                              | 6/24 [19:13<1:05:39, 218.85s/it]\u001b[A"
     ]
    },
    {
     "name": "stdout",
     "output_type": "stream",
     "text": [
      "591 개  Hester Prynne gives birth to a daughter named Pearl. Pearl is described as having \"a native grace which does not invariably coexist with faultless beauty.\" Her attire, however, always impressed the beholder as if it were the very garb that precisely became it best. Pearl's aspect was imbued with a spell of infinite variety; in this one child there were many children, comprehending the full scope between the wild-flower prettiness of a peasant-baby and the pomp, in little, of an infant princess. Throughout all, there was a trait of passion, a certain depth of hue, which she never lost.\n",
      "\n",
      " 요약 시작 타이틀 :  The Scarlet Letter.chapter 7\n",
      "글자수 길이 :  14686\n",
      "요약 단락 갯수 :  8\n",
      "글자수 길이 :  4942\n",
      "요약 단락 갯수 :  3\n"
     ]
    },
    {
     "name": "stderr",
     "output_type": "stream",
     "text": [
      "Your max_length is set to 142, but you input_length is only 139. You might consider decreasing max_length manually, e.g. summarizer('...', max_length=69)\n"
     ]
    },
    {
     "name": "stdout",
     "output_type": "stream",
     "text": [
      "645 개  Hester Prynne goes to the Bellingham mansion of Governor Bellingham to deliver a pair of gloves that she has embroidered to his order. She is concerned that there is a plan on the part of some of the leading inhabitants, cherishing the more rigid order of principles in religion and government, to deprive her of her child. Among those who promote the design is Governor Bellhampton, who is said to be one of the most busy among the colonial magistrates. Hester is also concerned that Pearl is of demon origin, and wants to know if the child is capable of moral and religious growth, and if so, should be transferred from her care to that of the\n"
     ]
    },
    {
     "name": "stderr",
     "output_type": "stream",
     "text": [
      "\n",
      " 29%|████████████▌                              | 7/24 [22:00<57:16, 202.15s/it]\u001b[A"
     ]
    },
    {
     "name": "stdout",
     "output_type": "stream",
     "text": [
      "645 개  Hester Prynne goes to the Bellingham mansion of Governor Bellingham to deliver a pair of gloves that she has embroidered to his order. She is concerned that there is a plan on the part of some of the leading inhabitants, cherishing the more rigid order of principles in religion and government, to deprive her of her child. Among those who promote the design is Governor Bellhampton, who is said to be one of the most busy among the colonial magistrates. Hester is also concerned that Pearl is of demon origin, and wants to know if the child is capable of moral and religious growth, and if so, should be transferred from her care to that of the\n",
      "\n",
      " 요약 시작 타이틀 :  The Scarlet Letter.chapter 8\n",
      "글자수 길이 :  18046\n",
      "요약 단락 갯수 :  10\n",
      "글자수 길이 :  6104\n",
      "요약 단락 갯수 :  4\n"
     ]
    },
    {
     "name": "stderr",
     "output_type": "stream",
     "text": [
      "Your max_length is set to 142, but you input_length is only 55. You might consider decreasing max_length manually, e.g. summarizer('...', max_length=27)\n"
     ]
    },
    {
     "name": "stdout",
     "output_type": "stream",
     "text": [
      "글자수 길이 :  2071\n",
      "요약 단락 갯수 :  2\n"
     ]
    },
    {
     "name": "stderr",
     "output_type": "stream",
     "text": [
      "Your max_length is set to 142, but you input_length is only 63. You might consider decreasing max_length manually, e.g. summarizer('...', max_length=31)\n",
      "Your max_length is set to 142, but you input_length is only 113. You might consider decreasing max_length manually, e.g. summarizer('...', max_length=56)\n"
     ]
    },
    {
     "name": "stdout",
     "output_type": "stream",
     "text": [
      "516 개  Governor Bellingham asks Hester Wilson to examine her daughter, Pearl, to see if she has had \"Christian nurture as befits a child of her age.\" Bellingham then asks where is the child's mother, and Hester tells him that it is the same child of whom they have held speech together. She has no idea who made her, and would have gone with them if they had not taken her daughter from her. This is an illustration of the young minister's argument against suing. Herein is the sinful mother happier than the sinful father.\n"
     ]
    },
    {
     "name": "stderr",
     "output_type": "stream",
     "text": [
      "Your max_length is set to 142, but you input_length is only 113. You might consider decreasing max_length manually, e.g. summarizer('...', max_length=56)\n"
     ]
    },
    {
     "name": "stdout",
     "output_type": "stream",
     "text": [
      "516 개  Governor Bellingham asks Hester Wilson to examine her daughter, Pearl, to see if she has had \"Christian nurture as befits a child of her age.\" Bellingham then asks where is the child's mother, and Hester tells him that it is the same child of whom they have held speech together. She has no idea who made her, and would have gone with them if they had not taken her daughter from her. This is an illustration of the young minister's argument against suing. Herein is the sinful mother happier than the sinful father.\n"
     ]
    },
    {
     "name": "stderr",
     "output_type": "stream",
     "text": [
      "\n",
      " 33%|██████████████▎                            | 8/24 [25:45<55:49, 209.32s/it]\u001b[A"
     ]
    },
    {
     "name": "stdout",
     "output_type": "stream",
     "text": [
      "516 개  Governor Bellingham asks Hester Wilson to examine her daughter, Pearl, to see if she has had \"Christian nurture as befits a child of her age.\" Bellingham then asks where is the child's mother, and Hester tells him that it is the same child of whom they have held speech together. She has no idea who made her, and would have gone with them if they had not taken her daughter from her. This is an illustration of the young minister's argument against suing. Herein is the sinful mother happier than the sinful father.\n",
      "\n",
      " 요약 시작 타이틀 :  The Scarlet Letter.chapter 9\n",
      "글자수 길이 :  20939\n",
      "요약 단락 갯수 :  11\n",
      "글자수 길이 :  6799\n",
      "요약 단락 갯수 :  4\n",
      "글자수 길이 :  2505\n",
      "요약 단락 갯수 :  2\n"
     ]
    },
    {
     "name": "stderr",
     "output_type": "stream",
     "text": [
      "Your max_length is set to 142, but you input_length is only 140. You might consider decreasing max_length manually, e.g. summarizer('...', max_length=70)\n"
     ]
    },
    {
     "name": "stdout",
     "output_type": "stream",
     "text": [
      "622 개  Reverend Arthur Dimmesdale moves in with a pious widow, of good social rank, who lives near the site of King's Chapel. He is given a front apartment with a sunny exposure, and heavy window-curtains to create a noontide shadow, when desirable. On the other side of the house old Roger Chillingworth arranged his study and laboratory. The two men, so different in age, come gradually to spend much time together. The physician is moved to look into the character and qualities of the patient, and they take long walks on the sea-shore or in the forest. There is a fascination for the Reverend for Hester Prynne. One Londoner\n"
     ]
    },
    {
     "name": "stderr",
     "output_type": "stream",
     "text": [
      "Your max_length is set to 142, but you input_length is only 134. You might consider decreasing max_length manually, e.g. summarizer('...', max_length=67)\n"
     ]
    },
    {
     "name": "stdout",
     "output_type": "stream",
     "text": [
      "593 개  Reverend Arthur Dimmesdale moves in with a pious widow, of good social rank, who lives near the site of King's Chapel. He is given a front apartment with a sunny exposure, and heavy window-curtains to create a noontide shadow. On the other side of the house old Roger Chillingworth arranged his study and laboratory. The two men, so different in age, come gradually to spend much time together. The physician is moved to look into the character and qualities of the patient, and they take long walks on the sea-shore or in the forest. There is a fascination for the Reverend for Hester Prynne.\n"
     ]
    },
    {
     "name": "stderr",
     "output_type": "stream",
     "text": [
      "\n",
      " 38%|████████████████▏                          | 9/24 [29:57<55:40, 222.70s/it]\u001b[A"
     ]
    },
    {
     "name": "stdout",
     "output_type": "stream",
     "text": [
      "503 개  Reverend Arthur Dimmesdale moves in with a pious widow, of good social rank, who lives near the site of King's Chapel. He is given a front apartment with a sunny exposure, and heavy window-curtains to create a noontide shadow. The two men, so different in age, come gradually to spend much time together. There is a fascination for the Reverend for Hester Prynne. The physician is moved to look into the character and qualities of the patient, and they take long walks on the sea-shore or in the forest.\n",
      "\n",
      " 요약 시작 타이틀 :  The Scarlet Letter.chapter 10\n",
      "글자수 길이 :  19435\n",
      "요약 단락 갯수 :  11\n",
      "글자수 길이 :  6579\n",
      "요약 단락 갯수 :  4\n",
      "글자수 길이 :  2210\n",
      "요약 단락 갯수 :  2\n"
     ]
    },
    {
     "name": "stderr",
     "output_type": "stream",
     "text": [
      "Your max_length is set to 142, but you input_length is only 97. You might consider decreasing max_length manually, e.g. summarizer('...', max_length=48)\n",
      "Your max_length is set to 142, but you input_length is only 132. You might consider decreasing max_length manually, e.g. summarizer('...', max_length=66)\n"
     ]
    },
    {
     "name": "stdout",
     "output_type": "stream",
     "text": [
      "566 개  Dr. Dimmesdale and Roger Chillingworth continue their daily visits to the old man's house. Roger asks the doctor where he found the herbs, and the doctor replies that he found them growing on a grave that bore no tombstone. The next day, Roger is overcome by a sense of wonder and throws his arms up towards the ceiling and stamps his foot upon the floor. He has lost his soul to heaven, and Satan has won it into his kingdom. The physician's ecstasy differs from Satan's in that it has a \"trait of wonder\" in it: it is the \"exquisite wonder\" of the human condition.\n"
     ]
    },
    {
     "name": "stderr",
     "output_type": "stream",
     "text": [
      "Your max_length is set to 142, but you input_length is only 131. You might consider decreasing max_length manually, e.g. summarizer('...', max_length=65)\n"
     ]
    },
    {
     "name": "stdout",
     "output_type": "stream",
     "text": [
      "565 개  Dr. Dimmesdale and Roger Chillingworth continue their daily visits to the old man's house. Roger asks the doctor where he found the herbs, and the doctor replies that he found them growing on a grave that bore no tombstone. The next day, Roger is overcome by a sense of wonder and throws his arms up towards the ceiling and stamps his foot upon the floor. He has lost his soul to heaven and Satan has won it into his kingdom. The physician's ecstasy differs from Satan's in that it has a \"trait of wonder\" in it: it is the \"exquisite wonder\" of the human condition.\n"
     ]
    },
    {
     "name": "stderr",
     "output_type": "stream",
     "text": [
      "\n",
      " 42%|█████████████████▌                        | 10/24 [34:03<53:39, 229.96s/it]\u001b[A"
     ]
    },
    {
     "name": "stdout",
     "output_type": "stream",
     "text": [
      "565 개  Dr. Dimmesdale and Roger Chillingworth continue their daily visits to the old man's house. Roger asks the doctor where he found the herbs, and the doctor replies that he found them growing on a grave that bore no tombstone. The next day, Roger is overcome by a sense of wonder and throws his arms up towards the ceiling and stamps his foot upon the floor. He has lost his soul to heaven and Satan has won it into his kingdom. The physician's ecstasy differs from Satan's in that it has a \"trait of wonder\" in it: it is the \"exquisite wonder\" of the human condition.\n",
      "\n",
      " 요약 시작 타이틀 :  The Scarlet Letter.chapter 11\n",
      "글자수 길이 :  14504\n",
      "요약 단락 갯수 :  8\n",
      "글자수 길이 :  4882\n",
      "요약 단락 갯수 :  3\n"
     ]
    },
    {
     "name": "stderr",
     "output_type": "stream",
     "text": [
      "Your max_length is set to 142, but you input_length is only 141. You might consider decreasing max_length manually, e.g. summarizer('...', max_length=70)\n"
     ]
    },
    {
     "name": "stdout",
     "output_type": "stream",
     "text": [
      "647 개  After the incident last described, the intercourse between the clergyman and the physician is of another character than it had previously been. Roger Chillingworth is inclined to be less satisfied with the aspect of affairs, which Providence has substituted for his black devices. The clergyman's shy and sensitive reserve had balked at the idea of confiding in Dimmesdale, but now he can play upon him as he chooses. He becomes, then, not a spectator only, but a chief actor, in the poor minister's interior world. A revelation, he could almost say, had been granted to him. By its aid, in all the subsequent relations betwixt him and Mr. Dimmes,\n"
     ]
    },
    {
     "name": "stderr",
     "output_type": "stream",
     "text": [
      "\n",
      " 46%|███████████████████▎                      | 11/24 [36:59<46:14, 213.41s/it]\u001b[A"
     ]
    },
    {
     "name": "stdout",
     "output_type": "stream",
     "text": [
      "643 개  After the incident last described, the intercourse between the clergyman and the physician is of another character than it had previously been. Roger Chillingworth is inclined to be less satisfied with the aspect of affairs, which Providence has substituted for his black devices. The clergyman's shy and sensitive reserve had balked at the idea of confiding in Dimmesdale, but now he can play upon him as he chooses. He becomes, then, not a spectator only, but a chief actor, in the poor minister's interior world. A revelation, he could almost say, had been granted to him. By its aid, in all the subsequent relations betwixt him and Dimmes,\n",
      "\n",
      " 요약 시작 타이틀 :  The Scarlet Letter.chapter 12\n",
      "글자수 길이 :  22264\n",
      "요약 단락 갯수 :  12\n",
      "글자수 길이 :  7134\n",
      "요약 단락 갯수 :  4\n",
      "글자수 길이 :  2350\n",
      "요약 단락 갯수 :  2\n"
     ]
    },
    {
     "name": "stderr",
     "output_type": "stream",
     "text": [
      "Your max_length is set to 142, but you input_length is only 90. You might consider decreasing max_length manually, e.g. summarizer('...', max_length=45)\n",
      "Your max_length is set to 142, but you input_length is only 141. You might consider decreasing max_length manually, e.g. summarizer('...', max_length=70)\n"
     ]
    },
    {
     "name": "stdout",
     "output_type": "stream",
     "text": [
      "603 개  Mr. Dimmesdale returns to the spot where Hester Prynne had lived through her first hours of public ignominy. He is overcome with a great horror of mind, as if the universe were gazing at a scarlet token on his naked breast, right over his heart. On that spot, there was, and there had long been, the gnawing and poisonous tooth of bodily pain. Without any effort of his will, or power to restrain himself, he shrieked aloud; an outcry that went pealing through the night, and was beaten back from one house to another, and reverberated from the hills in the background. The town did The Reverend Mr. Dim\n"
     ]
    },
    {
     "name": "stderr",
     "output_type": "stream",
     "text": [
      "Your max_length is set to 142, but you input_length is only 136. You might consider decreasing max_length manually, e.g. summarizer('...', max_length=68)\n"
     ]
    },
    {
     "name": "stdout",
     "output_type": "stream",
     "text": [
      "582 개  Mr. Dimmesdale returns to the spot where Hester Prynne had lived through her first hours of public ignominy. He is overcome with a great horror of mind, as if the universe were gazing at a scarlet token on his naked breast, right over his heart. On that spot, there was, and there had long been, the gnawing and poisonous tooth of bodily pain. Without any effort of his will, or power to restrain himself, he shrieked aloud; an outcry that went pealing through the night, and was beaten back from one house to another, and reverberated from the hills in the background. The town did\n"
     ]
    },
    {
     "name": "stderr",
     "output_type": "stream",
     "text": [
      "\n",
      " 50%|█████████████████████                     | 12/24 [41:43<46:59, 234.92s/it]\u001b[A"
     ]
    },
    {
     "name": "stdout",
     "output_type": "stream",
     "text": [
      "520 개  Mr. Dimmesdale returns to the spot where Hester Prynne had lived through her first hours of public ignominy. He is overcome with a great horror of mind, as if the universe were gazing at a scarlet token on his naked breast, right over his heart. On that spot, there was, and there had long been, the gnawing and poisonous tooth of bodily pain. He shrieked aloud; an outcry that went pealing through the night, and was beaten back from one house to another, and reverberated from the hills in the background. The town did\n",
      "\n",
      " 요약 시작 타이틀 :  The Scarlet Letter.chapter 13\n",
      "글자수 길이 :  17023\n",
      "요약 단락 갯수 :  9\n",
      "글자수 길이 :  5508\n",
      "요약 단락 갯수 :  3\n"
     ]
    },
    {
     "name": "stderr",
     "output_type": "stream",
     "text": [
      "Your max_length is set to 142, but you input_length is only 139. You might consider decreasing max_length manually, e.g. summarizer('...', max_length=69)\n"
     ]
    },
    {
     "name": "stdout",
     "output_type": "stream",
     "text": [
      "634 개  Hester is shocked to find Dimmesdale's moral force reduced to childish weakness. She decides, moreover, that he has a right to her aid. The links that united her to the rest of human kind had all been broken. Here was the iron link of mutual crime, which neither he nor she could break. Like all other ties, it brought along with it its obligations. Even the attractiveness of her person has undergone a similar change. There seems to be no longer anything in Hester's face for Love to dwell upon. Some attribute had departed from her, the permanence of which had been essential to keep her a woman. If she be all tenderness, she will\n"
     ]
    },
    {
     "name": "stderr",
     "output_type": "stream",
     "text": [
      "\n",
      " 54%|██████████████████████▊                   | 13/24 [44:54<40:35, 221.43s/it]\u001b[A"
     ]
    },
    {
     "name": "stdout",
     "output_type": "stream",
     "text": [
      "571 개  Hester is shocked to find Dimmesdale's moral force reduced to childish weakness. She decides, moreover, that he has a right to her aid. The links that united her to the rest of human kind had all been broken. Here was the iron link of mutual crime, which neither he nor she could break. Even the attractiveness of her person has undergone a similar change. There seems to be no longer anything in Hester's face for Love to dwell upon. Some attribute had departed from her, the permanence of which had been essential to keep her a woman. If she be all tenderness, she will\n",
      "\n",
      " 요약 시작 타이틀 :  The Scarlet Letter.chapter 14\n",
      "글자수 길이 :  12420\n",
      "요약 단락 갯수 :  7\n",
      "글자수 길이 :  3897\n",
      "요약 단락 갯수 :  3\n"
     ]
    },
    {
     "name": "stderr",
     "output_type": "stream",
     "text": [
      "Your max_length is set to 142, but you input_length is only 76. You might consider decreasing max_length manually, e.g. summarizer('...', max_length=38)\n",
      "Your max_length is set to 142, but you input_length is only 122. You might consider decreasing max_length manually, e.g. summarizer('...', max_length=61)\n"
     ]
    },
    {
     "name": "stdout",
     "output_type": "stream",
     "text": [
      "497 개  Hester Prynne tells Roger Chillingworth that the scarlet letter has \" avenged thee\" and that she must reveal the secret to him. She tells him that she will reveal the truth to him, and that he will be able to discern her true character. She asks him to forgive her for the hatred that has \"transformed a wise and just man to a fiend\" . Roger replies that he pityes Hester for the \"good that has been wasted in thy nature.\" Hester \"Peace, Hester, peace!\" replied the old man, with gloomy sternness.\n"
     ]
    },
    {
     "name": "stderr",
     "output_type": "stream",
     "text": [
      "\n",
      " 58%|████████████████████████▌                 | 14/24 [47:21<33:09, 199.00s/it]\u001b[A"
     ]
    },
    {
     "name": "stdout",
     "output_type": "stream",
     "text": [
      "388 개  Hester Prynne tells Roger Chillingworth that the scarlet letter has \" avenged thee\" and that she must reveal the secret to him. She asks him to forgive her for the hatred that has \"transformed a wise and just man to a fiend\" . Roger replies that he pityes Hester for the \"good that has been wasted in thy nature.\" Hester \"Peace, Hester, peace!\" replied the old man, with gloomy sternness.\n",
      "\n",
      " 요약 시작 타이틀 :  The Scarlet Letter.chapter 15\n",
      "글자수 길이 :  13131\n",
      "요약 단락 갯수 :  7\n",
      "글자수 길이 :  4223\n",
      "요약 단락 갯수 :  3\n"
     ]
    },
    {
     "name": "stderr",
     "output_type": "stream",
     "text": [
      "Your max_length is set to 142, but you input_length is only 84. You might consider decreasing max_length manually, e.g. summarizer('...', max_length=42)\n",
      "Your max_length is set to 142, but you input_length is only 139. You might consider decreasing max_length manually, e.g. summarizer('...', max_length=69)\n"
     ]
    },
    {
     "name": "stdout",
     "output_type": "stream",
     "text": [
      "593 개  The next day, Hester and Pelear go to the Prynnes' house, and Hester thinks of the happy times when she and Roger Chillingworth used to sit together in the study of their home, and he used to bask in the light of her nuptial smile. Such scenes had once appeared not otherwise than happy, but now, as viewed through the dismal medium of her subsequent life, they classed themselves among her ugliest remembrances. She marvelled how such scenes could have been, and how she could ever have been wrought upon to marry him. She deemed it her crime most to be repented of, that she reciprocated the\n"
     ]
    },
    {
     "name": "stderr",
     "output_type": "stream",
     "text": [
      "\n",
      " 62%|██████████████████████████▎               | 15/24 [49:54<27:47, 185.28s/it]\u001b[A"
     ]
    },
    {
     "name": "stdout",
     "output_type": "stream",
     "text": [
      "593 개  The next day, Hester and Pelear go to the Prynnes' house, and Hester thinks of the happy times when she and Roger Chillingworth used to sit together in the study of their home, and he used to bask in the light of her nuptial smile. Such scenes had once appeared not otherwise than happy, but now, as viewed through the dismal medium of her subsequent life, they classed themselves among her ugliest remembrances. She marvelled how such scenes could have been, and how she could ever have been wrought upon to marry him. She deemed it her crime most to be repented of, that she reciprocated the\n",
      "\n",
      " 요약 시작 타이틀 :  The Scarlet Letter.chapter 16\n",
      "글자수 길이 :  12519\n",
      "요약 단락 갯수 :  7\n",
      "글자수 길이 :  4169\n",
      "요약 단락 갯수 :  3\n"
     ]
    },
    {
     "name": "stderr",
     "output_type": "stream",
     "text": [
      "Your max_length is set to 142, but you input_length is only 67. You might consider decreasing max_length manually, e.g. summarizer('...', max_length=33)\n",
      "Your max_length is set to 142, but you input_length is only 139. You might consider decreasing max_length manually, e.g. summarizer('...', max_length=69)\n"
     ]
    },
    {
     "name": "stdout",
     "output_type": "stream",
     "text": [
      "607 개  The next day, Hester tells Dimmesdale the truth about the man who has crept into her life. The Reverend has gone to visit the Apostle Eliot, among his Indian converts, and that he will probably return that afternoon. Hester takes Pearl, who is necessarily the companion of all her mother's trips, with her on a forest walk. They come upon a glistening patch of sunshine, and Pearl tells Hester that the sun is afraid of her bosom and runs away, but Hester assures her that she will catch it and catch it when she is a grown woman. When they are done, the sun has disappeared, and Hester is able to reach out\n"
     ]
    },
    {
     "name": "stderr",
     "output_type": "stream",
     "text": [
      "\n",
      " 67%|████████████████████████████              | 16/24 [52:22<23:10, 173.81s/it]\u001b[A"
     ]
    },
    {
     "name": "stdout",
     "output_type": "stream",
     "text": [
      "570 개  The next day, Hester tells Dimmesdale the truth about the man who has crept into her life. The Reverend has gone to visit the Apostle Eliot, among his Indian converts, and that he will probably return that afternoon. Hester takes Pearl, who is necessarily the companion of all her mother's trips, with her on a forest walk. Pearl tells Hester that the sun is afraid of her bosom and runs away, but Hester assures her that she will catch it and catch it when she is a grown woman. When they are done, the sun has disappeared, and Hester is able to reach out and touch it.\n",
      "\n",
      " 요약 시작 타이틀 :  The Scarlet Letter.chapter 17\n",
      "글자수 길이 :  18550\n",
      "요약 단락 갯수 :  10\n",
      "글자수 길이 :  5972\n",
      "요약 단락 갯수 :  4\n"
     ]
    },
    {
     "name": "stderr",
     "output_type": "stream",
     "text": [
      "Your max_length is set to 142, but you input_length is only 141. You might consider decreasing max_length manually, e.g. summarizer('...', max_length=70)\n"
     ]
    },
    {
     "name": "stdout",
     "output_type": "stream",
     "text": [
      "612 개  Arthur Dimmesdale and Hester Prynne meet in the woods. They are both shocked by the sight of the scarlet letter, and they question one another's existence. Hester confesses to Arthur that she lied to him about her marriage to Roger Chillingworth, and that she would have preferred to die rather than confess the truth to him. She asks Arthur to forgive her for lying to him, but he refuses to do so. He says that he wishes he could have a friend to weep with him over his sin, but that is not possible. He tells Hester that he must die, that he has no strength or courage left to venture into the world alone. He\n"
     ]
    },
    {
     "name": "stderr",
     "output_type": "stream",
     "text": [
      "\n",
      " 71%|█████████████████████████████▊            | 17/24 [55:30<20:46, 178.04s/it]\u001b[A"
     ]
    },
    {
     "name": "stdout",
     "output_type": "stream",
     "text": [
      "530 개  Arthur Dimmesdale and Hester Prynne meet in the woods. They are both shocked by the sight of the scarlet letter, and they question one another's existence. Hester confesses to Arthur that she lied to him about her marriage to Roger Chillingworth. She asks Arthur to forgive her for lying to him, but he refuses to do so. He says that he wishes he could have a friend to weep with him over his sin, but that is not possible. He tells Hester that he must die, that he has no strength or courage left to venture into the world alone.\n",
      "\n",
      " 요약 시작 타이틀 :  The Scarlet Letter.chapter 18\n",
      "글자수 길이 :  12176\n",
      "요약 단락 갯수 :  7\n",
      "글자수 길이 :  3960\n",
      "요약 단락 갯수 :  3\n"
     ]
    },
    {
     "name": "stderr",
     "output_type": "stream",
     "text": [
      "Your max_length is set to 142, but you input_length is only 138. You might consider decreasing max_length manually, e.g. summarizer('...', max_length=69)\n"
     ]
    },
    {
     "name": "stdout",
     "output_type": "stream",
     "text": [
      "623 개  Arthur Dimmesdale and Hester Prynne discuss the future of their relationship. Hester has been estranged from society for so long that she has become accustomed to a kind of free-floating speculation that is foreign to the clergyman. For years she has looked at human institutions with less reverence than the Indian would feel for the clerical band, the pillory, the gallows, the fireside, or the church. The scarlet letter was her passport into regions where other women dared not tread. These had been her teachers,--stern and wild ones,--and they had Arthur Dimmesdal's seven years of outlaw and ignominy had been little\n"
     ]
    },
    {
     "name": "stderr",
     "output_type": "stream",
     "text": [
      "\n",
      " 75%|███████████████████████████████▌          | 18/24 [57:44<16:29, 164.93s/it]\u001b[A"
     ]
    },
    {
     "name": "stdout",
     "output_type": "stream",
     "text": [
      "546 개  Hester has been estranged from society for so long that she has become accustomed to a kind of free-floating speculation that is foreign to the clergyman. For years she has looked at human institutions with less reverence than the Indian would feel for the clerical band, the pillory, the gallows, the fireside, or the church. The scarlet letter was her passport into regions where other women dared not tread. These had been her teachers,--stern and wild ones,--and they had Arthur Dimmesdal's seven years of outlaw and ignominy had been little.\n",
      "\n",
      " 요약 시작 타이틀 :  The Scarlet Letter.chapter 19\n",
      "글자수 길이 :  13901\n",
      "요약 단락 갯수 :  8\n",
      "글자수 길이 :  4722\n",
      "요약 단락 갯수 :  3\n"
     ]
    },
    {
     "name": "stderr",
     "output_type": "stream",
     "text": [
      "Your max_length is set to 142, but you input_length is only 131. You might consider decreasing max_length manually, e.g. summarizer('...', max_length=65)\n"
     ]
    },
    {
     "name": "stdout",
     "output_type": "stream",
     "text": [
      "567 개  Hester Prynne and Arthur Dimmesdale sit on a mossy tree trunk, waiting for Pearl to arrive. The mother and the minister are both struck by the beauty of the child, and Hester tells Arthur that she will love her dearly. Arthur worries that his own features will be imprinted on the child's face, but Hester assures him that she is mostly his. The two are united in their love for Pearl, who is the link between their lives and their destinies. In her seven years past, she had been offered to the world as the living hieroglyphic, in which was revealed the secret they\n"
     ]
    },
    {
     "name": "stderr",
     "output_type": "stream",
     "text": [
      "\n",
      " 79%|███████████████████████████████▋        | 19/24 [1:00:30<13:46, 165.31s/it]\u001b[A"
     ]
    },
    {
     "name": "stdout",
     "output_type": "stream",
     "text": [
      "593 개  Hester Prynne and Arthur Dimmesdale sit on a mossy tree trunk, waiting for Pearl to arrive. The mother and the minister are both struck by the beauty of the child, and Hester tells Arthur that she will love her dearly. Arthur worries that his own features will be imprinted on the child's face, but Hester assures him that she is mostly his. The two are united in their love for Pearl, who is the link between their lives and their destinies. In her seven years past, she had been offered to the world as the living hieroglyphic, in which was revealed the secret they had kept for seven years.\n",
      "\n",
      " 요약 시작 타이틀 :  The Scarlet Letter.chapter 20\n",
      "글자수 길이 :  22402\n",
      "요약 단락 갯수 :  13\n",
      "글자수 길이 :  7489\n",
      "요약 단락 갯수 :  4\n",
      "글자수 길이 :  2524\n",
      "요약 단락 갯수 :  2\n"
     ]
    },
    {
     "name": "stderr",
     "output_type": "stream",
     "text": [
      "Your max_length is set to 142, but you input_length is only 131. You might consider decreasing max_length manually, e.g. summarizer('...', max_length=65)\n",
      "Your max_length is set to 142, but you input_length is only 141. You might consider decreasing max_length manually, e.g. summarizer('...', max_length=70)\n"
     ]
    },
    {
     "name": "stdout",
     "output_type": "stream",
     "text": [
      "619 개  When Dimmesdale returns to town, he is amazed to find that he has not changed much from the place he left two days before. He is also struck by how different the people he met are from the ones to whom he had given a parting glance two days earlier. He also notices that his own church is very different from the one he left, and he is struck by the fact that it is not as old or younger as he thought. He meets the eldest female member of his church, a most pious and exemplary old dame, poor, widowed, and with a heart as full of reminiscences about her dead husband and children, and her dead friends of The Reverend\n"
     ]
    },
    {
     "name": "stderr",
     "output_type": "stream",
     "text": [
      "Your max_length is set to 142, but you input_length is only 141. You might consider decreasing max_length manually, e.g. summarizer('...', max_length=70)\n"
     ]
    },
    {
     "name": "stdout",
     "output_type": "stream",
     "text": [
      "619 개  When Dimmesdale returns to town, he is amazed to find that he has not changed much from the place he left two days before. He is also struck by how different the people he met are from the ones to whom he had given a parting glance two days earlier. He also notices that his own church is very different from the one he left, and he is struck by the fact that it is not as old or younger as he thought. He meets the eldest female member of his church, a most pious and exemplary old dame, poor, widowed, and with a heart as full of reminiscences about her dead husband and children, and her dead friends of The Reverend\n"
     ]
    },
    {
     "name": "stderr",
     "output_type": "stream",
     "text": [
      "\n",
      " 83%|█████████████████████████████████▎      | 20/24 [1:04:56<13:02, 195.55s/it]\u001b[A"
     ]
    },
    {
     "name": "stdout",
     "output_type": "stream",
     "text": [
      "619 개  When Dimmesdale returns to town, he is amazed to find that he has not changed much from the place he left two days before. He is also struck by how different the people he met are from the ones to whom he had given a parting glance two days earlier. He also notices that his own church is very different from the one he left, and he is struck by the fact that it is not as old or younger as he thought. He meets the eldest female member of his church, a most pious and exemplary old dame, poor, widowed, and with a heart as full of reminiscences about her dead husband and children, and her dead friends of The Reverend\n",
      "\n",
      " 요약 시작 타이틀 :  The Scarlet Letter.chapter 21\n",
      "글자수 길이 :  18328\n",
      "요약 단락 갯수 :  10\n",
      "글자수 길이 :  6062\n",
      "요약 단락 갯수 :  4\n"
     ]
    },
    {
     "name": "stderr",
     "output_type": "stream",
     "text": [
      "Your max_length is set to 142, but you input_length is only 73. You might consider decreasing max_length manually, e.g. summarizer('...', max_length=36)\n"
     ]
    },
    {
     "name": "stdout",
     "output_type": "stream",
     "text": [
      "글자수 길이 :  2137\n",
      "요약 단락 갯수 :  2\n"
     ]
    },
    {
     "name": "stderr",
     "output_type": "stream",
     "text": [
      "Your max_length is set to 142, but you input_length is only 81. You might consider decreasing max_length manually, e.g. summarizer('...', max_length=40)\n",
      "Your max_length is set to 142, but you input_length is only 140. You might consider decreasing max_length manually, e.g. summarizer('...', max_length=70)\n"
     ]
    },
    {
     "name": "stdout",
     "output_type": "stream",
     "text": [
      "622 개  Hester Prynne and Pearl enter the market-place on the day of the new Governor's inauguration. Hester is dressed in the same gray garment as she has worn every day for seven years. The scarlet letter brings her back from the shadows of the past and reveals her under the moral aspect of its own moral aspect. She shows her face, so long familiar to the towns-people, with the marble quietude which they were accustomed to behold there. It is like a mask, like the frozen calmness of a dead woman's features. Pearl asks her mother if the minister will be there, and her mother says he will be, but that he will not greet her\n"
     ]
    },
    {
     "name": "stderr",
     "output_type": "stream",
     "text": [
      "Your max_length is set to 142, but you input_length is only 140. You might consider decreasing max_length manually, e.g. summarizer('...', max_length=70)\n"
     ]
    },
    {
     "name": "stdout",
     "output_type": "stream",
     "text": [
      "622 개  Hester Prynne and Pearl enter the market-place on the day of the new Governor's inauguration. Hester is dressed in the same gray garment as she has worn every day for seven years. The scarlet letter brings her back from the shadows of the past and reveals her under the moral aspect of its own moral aspect. She shows her face, so long familiar to the towns-people with the marble quietude which they were accustomed to behold there. It is like a mask, like the frozen calmness of a dead woman's features. Pearl asks her mother if the minister will be there, and her mother says he will be, but that he will not greet her.\n"
     ]
    },
    {
     "name": "stderr",
     "output_type": "stream",
     "text": [
      "\n",
      " 88%|███████████████████████████████████     | 21/24 [1:08:49<10:20, 206.80s/it]\u001b[A"
     ]
    },
    {
     "name": "stdout",
     "output_type": "stream",
     "text": [
      "617 개  Hester Prynne and Pearl enter the market-place on the day of the new Governor's inauguration. Hester is dressed in the same gray garment as she has worn every day for seven years. The scarlet letter brings her back from the shadows of the past and reveals her under the moral aspect of its own moral aspect. She shows her face, so long familiar to the towns-people with the marble quietude which they were accustomed to behold there. It is like a mask, like the frozen calmness of a dead woman's features. Pearl asks her mother if the minister will be there, and her mother says he will be. But he will not greet her.\n",
      "\n",
      " 요약 시작 타이틀 :  The Scarlet Letter.chapter 22\n",
      "글자수 길이 :  21774\n",
      "요약 단락 갯수 :  12\n",
      "글자수 길이 :  7282\n",
      "요약 단락 갯수 :  4\n",
      "글자수 길이 :  2489\n",
      "요약 단락 갯수 :  2\n"
     ]
    },
    {
     "name": "stderr",
     "output_type": "stream",
     "text": [
      "Your max_length is set to 142, but you input_length is only 114. You might consider decreasing max_length manually, e.g. summarizer('...', max_length=57)\n",
      "Your max_length is set to 142, but you input_length is only 140. You might consider decreasing max_length manually, e.g. summarizer('...', max_length=70)\n"
     ]
    },
    {
     "name": "stdout",
     "output_type": "stream",
     "text": [
      "586 개  Mistress Hibbin tells Hester Prynne that she has seen Dimmesdale in the procession, and that he is a \"divine man\" and a \"saint on earth\" . Hester is shocked by the old lady's confidence, but she is also startled by the fact that she believes that the two women have a personal connection between them and the \"evil one\" . The two women stand in front of the crowd, and the crowd begins to move away from them, fearing the touch of Hester's dress. Even the Indians are affected by the cold shadow of the white man's curiosity, and they place their snake-like black eyes on Hester. Hester\n"
     ]
    },
    {
     "name": "stderr",
     "output_type": "stream",
     "text": [
      "Your max_length is set to 142, but you input_length is only 140. You might consider decreasing max_length manually, e.g. summarizer('...', max_length=70)\n"
     ]
    },
    {
     "name": "stdout",
     "output_type": "stream",
     "text": [
      "586 개  Mistress Hibbin tells Hester Prynne that she has seen Dimmesdale in the procession, and that he is a \"divine man\" and a \"saint on earth\" . Hester is shocked by the old lady's confidence, but she is also startled by the fact that she believes that the two women have a personal connection between them and the \"evil one\" . The two women stand in front of the crowd, and the crowd begins to move away from them, fearing the touch of Hester's dress. Even the Indians are affected by the cold shadow of the white man's curiosity, and they place their snake-like black eyes on Hester. Hester\n"
     ]
    },
    {
     "name": "stderr",
     "output_type": "stream",
     "text": [
      "\n",
      " 92%|████████████████████████████████████▋   | 22/24 [1:13:18<07:30, 225.36s/it]\u001b[A"
     ]
    },
    {
     "name": "stdout",
     "output_type": "stream",
     "text": [
      "586 개  Mistress Hibbin tells Hester Prynne that she has seen Dimmesdale in the procession, and that he is a \"divine man\" and a \"saint on earth\" . Hester is shocked by the old lady's confidence, but she is also startled by the fact that she believes that the two women have a personal connection between them and the \"evil one\" . The two women stand in front of the crowd, and the crowd begins to move away from them, fearing the touch of Hester's dress. Even the Indians are affected by the cold shadow of the white man's curiosity, and they place their snake-like black eyes on Hester. Hester\n",
      "\n",
      " 요약 시작 타이틀 :  The Scarlet Letter.chapter 23\n",
      "글자수 길이 :  17648\n",
      "요약 단락 갯수 :  10\n",
      "글자수 길이 :  5962\n",
      "요약 단락 갯수 :  4\n"
     ]
    },
    {
     "name": "stderr",
     "output_type": "stream",
     "text": [
      "Your max_length is set to 142, but you input_length is only 115. You might consider decreasing max_length manually, e.g. summarizer('...', max_length=57)\n"
     ]
    },
    {
     "name": "stdout",
     "output_type": "stream",
     "text": [
      "491 개  Seven years later, Dimmesdale confesses to the people of New England that he has been guilty of sin. He pleads with them to forgive him, and says that they have loved him and deemed him holy. He tells the congregation that he and his wife have broken the law, and that he fears that they will never be able to see each other again. It is revealed that Hester has escaped the clutches of Roger Chillingworth. The clergyman's dying eyes are fixed on the old man, and he says, \"My little Pearl\"\n"
     ]
    },
    {
     "name": "stderr",
     "output_type": "stream",
     "text": [
      "\n",
      " 96%|██████████████████████████████████████▎ | 23/24 [1:16:24<03:33, 213.46s/it]\u001b[A"
     ]
    },
    {
     "name": "stdout",
     "output_type": "stream",
     "text": [
      "491 개  Seven years later, Dimmesdale confesses to the people of New England that he has been guilty of sin. He pleads with them to forgive him, and says that they have loved him and deemed him holy. He tells the congregation that he and his wife have broken the law, and that he fears that they will never be able to see each other again. It is revealed that Hester has escaped the clutches of Roger Chillingworth. The clergyman's dying eyes are fixed on the old man, and he says, \"My little Pearl\"\n",
      "\n",
      " 요약 시작 타이틀 :  The Scarlet Letter.chapter 24\n",
      "글자수 길이 :  13516\n",
      "요약 단락 갯수 :  8\n"
     ]
    },
    {
     "name": "stderr",
     "output_type": "stream",
     "text": [
      "Your max_length is set to 142, but you input_length is only 134. You might consider decreasing max_length manually, e.g. summarizer('...', max_length=67)\n"
     ]
    },
    {
     "name": "stdout",
     "output_type": "stream",
     "text": [
      "글자수 길이 :  4771\n",
      "요약 단락 갯수 :  3\n"
     ]
    },
    {
     "name": "stderr",
     "output_type": "stream",
     "text": [
      "Your max_length is set to 142, but you input_length is only 141. You might consider decreasing max_length manually, e.g. summarizer('...', max_length=70)\n"
     ]
    },
    {
     "name": "stdout",
     "output_type": "stream",
     "text": [
      "582 개  Hester returns to the cottage where she had lived as a child and finds that it is filled with possessions that only wealth could have imagined for her. There is a scarlet letter on Hester's breast, and Hester returns it to her mother. Hester has returned, and has taken up her long-forsaken shame. But where is little Pearl? If Hester Prynne returns to New England, where she has made a new life for herself, the scarred letter has become something to be sorrowed over. On page 147, the writer changes the word \"physican\" from \"physician\" to \"physicist\" and \"physiologist\" . On page\n"
     ]
    },
    {
     "name": "stderr",
     "output_type": "stream",
     "text": [
      "\n",
      "100%|████████████████████████████████████████| 24/24 [1:19:10<00:00, 197.93s/it]\u001b[A\n",
      " 20%|███████▊                               | 1/5 [1:19:10<5:16:40, 4750.23s/it]"
     ]
    },
    {
     "name": "stdout",
     "output_type": "stream",
     "text": [
      "552 개  Hester returns to the cottage where she had lived as a child and finds that it is filled with possessions that only wealth could have imagined for her. There is a scarlet letter on Hester's breast and Hester returns it to her mother. Hester has returned, and has taken up her long-forsaken shame. But where is little Pearl? If Hester Prynne returns to New England, where she has made a new life for herself, the scarred letter has become something to be sorrowed over. On page 147, the writer changes the word \"physican\" from \"physician\" to \"physicist\"\n",
      "\n",
      " 베니스의_상인 요약 시작하겠습니다.!\n",
      "chapter 갯수 :  20\n"
     ]
    },
    {
     "name": "stderr",
     "output_type": "stream",
     "text": [
      "\n",
      "  0%|                                                    | 0/20 [00:00<?, ?it/s]\u001b[A"
     ]
    },
    {
     "name": "stdout",
     "output_type": "stream",
     "text": [
      "\n",
      " 요약 시작 타이틀 :  The Merchant of Venice.act 1.scene 1\n",
      "글자수 길이 :  8243\n",
      "요약 단락 갯수 :  5\n",
      "글자수 길이 :  2873\n",
      "요약 단락 갯수 :  2\n"
     ]
    },
    {
     "name": "stderr",
     "output_type": "stream",
     "text": [
      "Your max_length is set to 142, but you input_length is only 138. You might consider decreasing max_length manually, e.g. summarizer('...', max_length=69)\n"
     ]
    },
    {
     "name": "stdout",
     "output_type": "stream",
     "text": [
      "557 개  Antonio, Salarino, and Salanio enter a street in Venice, and Antonio tells Salsanio that he is sad because he has no idea how he came to be sad, or how he caught it, found it, or came by it, and that such a want-wit sadness makes him want to know himself. Antonio tells them to leave him alone, for he has business to attend to, and asks them to meet him at dinner the next day. Lorenzo and Lorenzo tell him that they will go to dinner with him, and Bassanio tells him that he will not fail him. Antonio asks Lorenzo what he has promised to tell him. Bassan\n"
     ]
    },
    {
     "name": "stderr",
     "output_type": "stream",
     "text": [
      "\n",
      "  5%|██▏                                        | 1/20 [01:56<36:46, 116.15s/it]\u001b[A"
     ]
    },
    {
     "name": "stdout",
     "output_type": "stream",
     "text": [
      "489 개  Antonio tells Salsanio that he is sad because he has no idea how he came to be sad, or how he caught it, found it, or came by it, and that such a want-wit sadness makes him want to know himself. Antonio tells them to leave him alone, for he has business to attend to, and asks them to meet him at dinner the next day. Lorenzo and Lorenzo tell him that they will go to dinner with him, and Bassanio tells him that he will not fail him. Antonio asks Lorenzo what he has promised to tell him.\n",
      "\n",
      " 요약 시작 타이틀 :  The Merchant of Venice.act 1.scene 2\n",
      "글자수 길이 :  6300\n",
      "요약 단락 갯수 :  4\n",
      "글자수 길이 :  2309\n",
      "요약 단락 갯수 :  2\n"
     ]
    },
    {
     "name": "stderr",
     "output_type": "stream",
     "text": [
      "Your max_length is set to 142, but you input_length is only 81. You might consider decreasing max_length manually, e.g. summarizer('...', max_length=40)\n",
      "Your max_length is set to 142, but you input_length is only 124. You might consider decreasing max_length manually, e.g. summarizer('...', max_length=62)\n"
     ]
    },
    {
     "name": "stdout",
     "output_type": "stream",
     "text": [
      "504 개  Nerissa and Portia discuss the three chests of gold, silver, and lead that her father gave her. Portia tells Nerissa that she will never be able to choose one of the suitors. Nerissa suggests that Portia over-name them, and then she will describe them to Portia. The three suitors are the Neapolitan prince, the Italian prince, and the Venetian prince, who is also a friend of Portia's father's. The four suitors seek for Nerissa to take their leave; and there is a forerunner from a fifth, the Prince of\n"
     ]
    },
    {
     "name": "stderr",
     "output_type": "stream",
     "text": [
      "\n",
      " 10%|████▎                                      | 2/20 [03:31<31:06, 103.68s/it]\u001b[A"
     ]
    },
    {
     "name": "stdout",
     "output_type": "stream",
     "text": [
      "498 개  Nerissa and Portia discuss the three chests of gold, silver, and lead that her father gave her. Portia tells Nerissa that she will never be able to choose one of the suitors. Nerissa suggests that Portia over-name them, and then she will describe them to Portia. The suitors are the Neapolitan prince, the Italian prince, and the Venetian prince, who is also a friend of Portia's father's. The four suitors seek for Nerissa to take their leave; and there is a forerunner from a fifth, the Prince of\n",
      "\n",
      " 요약 시작 타이틀 :  The Merchant of Venice.act 1.scene 3\n",
      "글자수 길이 :  7979\n",
      "요약 단락 갯수 :  5\n",
      "글자수 길이 :  2801\n",
      "요약 단락 갯수 :  2\n"
     ]
    },
    {
     "name": "stderr",
     "output_type": "stream",
     "text": [
      "Your max_length is set to 142, but you input_length is only 140. You might consider decreasing max_length manually, e.g. summarizer('...', max_length=70)\n"
     ]
    },
    {
     "name": "stdout",
     "output_type": "stream",
     "text": [
      "579 개  Bassano and Shylock are sitting in a public place in Venice when Antonio enters. He asks them to give him three thousand ducats for three months, and he will have Antonio bound to him for the time being. Shylocks says that Antonio is a good man, but that his means are in supposition, and that he is not sufficient to pay for his bond. He adds that he will buy with Antonio, sell with him, talk to him, walk with him and so on, but he will not eat with him or drink with him. Antonio asks him why he would lend money to a man who has spurned him before, and then asks him to give\n"
     ]
    },
    {
     "name": "stderr",
     "output_type": "stream",
     "text": [
      "\n",
      " 15%|██████▍                                    | 3/20 [05:27<30:58, 109.33s/it]\u001b[A"
     ]
    },
    {
     "name": "stdout",
     "output_type": "stream",
     "text": [
      "518 개  Antonio asks Bassano and Shylock to give him three thousand ducats for three months, and he will have Antonio bound to him for the time being. Shylocks says that Antonio is a good man, but that his means are in supposition, and that he is not sufficient to pay for his bond. He adds that he will buy with Antonio, sell with him, talk to him, walk with him and so on, but he will not eat with him or drink with him. Antonio asks him why he would lend money to a man who has spurned him before, and then asks him to give\n",
      "\n",
      " 요약 시작 타이틀 :  The Merchant of Venice.act 2.scene 1\n",
      "글자수 길이 :  2239\n",
      "요약 단락 갯수 :  2\n"
     ]
    },
    {
     "name": "stderr",
     "output_type": "stream",
     "text": [
      "Your max_length is set to 142, but you input_length is only 137. You might consider decreasing max_length manually, e.g. summarizer('...', max_length=68)\n",
      "\n",
      " 20%|████████▊                                   | 4/20 [06:05<21:38, 81.13s/it]\u001b[A"
     ]
    },
    {
     "name": "stdout",
     "output_type": "stream",
     "text": [
      "592 개  The Prince of Morocco enters Portia's house and tells her that he does not like her because of her skin color, but because she is his neighbour and near bred. He asks her to bring him the fairest creature northward born, where Phoebus' fire scarce thaws the icicles, to prove whose blood is reddest, his or hers. Portia tells him that she does not fear the valiant, and that the best-regarded virgins of the clime have loved it too. The Prince tells Portia that he would not change this hue, except to steal her thoughts, for he is not solely led by the direction of a maiden's eyes. He tells\n",
      "\n",
      " 요약 시작 타이틀 :  The Merchant of Venice.act 2.scene 2\n",
      "글자수 길이 :  9618\n",
      "요약 단락 갯수 :  5\n",
      "글자수 길이 :  2685\n",
      "요약 단락 갯수 :  2\n"
     ]
    },
    {
     "name": "stderr",
     "output_type": "stream",
     "text": [
      "Your max_length is set to 142, but you input_length is only 139. You might consider decreasing max_length manually, e.g. summarizer('...', max_length=69)\n"
     ]
    },
    {
     "name": "stdout",
     "output_type": "stream",
     "text": [
      "558 개  Lacelot tells his father that he is Launcelot, his son that was, your son that is, your child that shall be, and asks for his father's blessing. He has brought a present for Bassanio, a Jew who gives rare liveries, to give to his father, who has set up his rest to run away. He asks Bassano to give him a livery that is more guarded than his fellow servants' livery. Bassano tells him that he cannot get a service because he has no tongue in his head. He tells Leonardo to put on a sober habit, talk with respect, and swear but now and then, and wear prayer-\n"
     ]
    },
    {
     "name": "stderr",
     "output_type": "stream",
     "text": [
      "\n",
      " 25%|███████████                                 | 5/20 [08:02<23:32, 94.18s/it]\u001b[A"
     ]
    },
    {
     "name": "stdout",
     "output_type": "stream",
     "text": [
      "521 개  Lacelot tells his father that he is Launcelot, his son that was, your son that is, your child that shall be, and asks for his father's blessing. He has brought a present for Bassanio, a Jew who gives rare liveries, to give to his father. He asks Bassano to give him a livery that is more guarded than his fellow servants' livery. Bassano tells him that he cannot get a service because he has no tongue in his head. He tells Leonardo to put on a sober habit, talk with respect, and swear but now and then, and wear prayer-\n",
      "\n",
      " 요약 시작 타이틀 :  The Merchant of Venice.act 2.scene 3\n",
      "글자수 길이 :  992\n",
      "요약 단락 갯수 :  1\n"
     ]
    },
    {
     "name": "stderr",
     "output_type": "stream",
     "text": [
      "\n",
      " 30%|█████████████▏                              | 6/20 [08:14<15:30, 66.45s/it]\u001b[A"
     ]
    },
    {
     "name": "stdout",
     "output_type": "stream",
     "text": [
      "608 개  Scenes 3 and 4 Scene 3 opens in a room in Shylock's house. Jessica tells Launcelot that she is sorry to have to leave her father's house, but there is a ducat for him and a letter for Lorenzo. She promises Lorenzo that if he keeps his promise to become a Christian, she will become his wife. Scene 4 opens in the same room. Lorenzo and Jessica leave. Scene 5 opens with a scene between Shylocks and Lorenzo. Lorenzo tells Jessica that he is leaving because he cannot bear to see her with her father. She tells him to give the letter to her father secretly. Scene 6 opens with the scene between Lorenzo and Sh\n",
      "\n",
      " 요약 시작 타이틀 :  The Merchant of Venice.act 2.scene 4\n",
      "글자수 길이 :  1873\n",
      "요약 단락 갯수 :  1\n"
     ]
    },
    {
     "name": "stderr",
     "output_type": "stream",
     "text": [
      "\n",
      " 35%|███████████████▍                            | 7/20 [08:28<10:39, 49.18s/it]\u001b[A"
     ]
    },
    {
     "name": "stdout",
     "output_type": "stream",
     "text": [
      "580 개  Lorenzo, Gratiano, Salanio, and Launcelot enter with the news that Jessica has sent them a letter. They plan to disguise themselves as torch-bearers for the masque, and Lorenzo promises to tell Jessica that he will not fail her. He tells them that he has received a letter from Jessica, and that she has instructed him how to take her from her father's house, and what gold and jewels she has in her possession. He then tells them to meet him at Gratano's lodging an hour later, where he will tell them that Jessica will be the torchbearer for them. The men leave, leaving Launcel\n",
      "\n",
      " 요약 시작 타이틀 :  The Merchant of Venice.act 2.scene 5\n",
      "글자수 길이 :  2598\n",
      "요약 단락 갯수 :  2\n"
     ]
    },
    {
     "name": "stderr",
     "output_type": "stream",
     "text": [
      "\n",
      " 40%|█████████████████▌                          | 8/20 [09:03<08:57, 44.79s/it]\u001b[A"
     ]
    },
    {
     "name": "stdout",
     "output_type": "stream",
     "text": [
      "574 개  Shylock tells Jessica that he has been invited to a masque and asks her to lock up his house, but she refuses. Shylock says that he will not go to the masque because he is loath to go because he has dreamed of money, and that he does not want to see Christian fools with varnish-faced faces. He tells Jessica to lock the doors and not to look out the windows, because a Christian by will be worth a Jewess' eye. She agrees to do so, but warns him not to go out into the street to look at the Christian fools. She tells him that Jacob's staff will keep him away from the mas.\n",
      "\n",
      " 요약 시작 타이틀 :  The Merchant of Venice.act 2.scene 6\n",
      "글자수 길이 :  3271\n",
      "요약 단락 갯수 :  2\n"
     ]
    },
    {
     "name": "stderr",
     "output_type": "stream",
     "text": [
      "\n",
      " 45%|███████████████████▊                        | 9/20 [09:42<07:51, 42.87s/it]\u001b[A"
     ]
    },
    {
     "name": "stdout",
     "output_type": "stream",
     "text": [
      "577 개  Lorenzo, dressed in boy's clothes, enters the penthouse of his father's house and tells his friends that he has waited too long for them to come and play the thieves for wives, and that he will watch as long as he has to. He asks Jessica to catch the casket of a casket and tells her that he is certain of their love, but that he cannot be certain of her being his. Antonio enters and Gratano tells him that there will be no masque to-night, since the wind has come about and he has sent twenty men out to seek for him. Antonio asks Gratino where the rest of the men are and Gr\n",
      "\n",
      " 요약 시작 타이틀 :  The Merchant of Venice.act 2.scene 7\n",
      "글자수 길이 :  3667\n",
      "요약 단락 갯수 :  2\n"
     ]
    },
    {
     "name": "stderr",
     "output_type": "stream",
     "text": [
      "\n",
      " 50%|█████████████████████▌                     | 10/20 [10:21<06:57, 41.74s/it]\u001b[A"
     ]
    },
    {
     "name": "stdout",
     "output_type": "stream",
     "text": [
      "625 개  The Prince of Morocco is presented with three caskets, one of which contains a picture of Portia, and the other two of a dull lead and gold. Portia chooses the dull lead casket, which carries the inscription: \"Who chooseth me shall gain what many men desire.\" The gold casket contains the inscription, \"Those who choose me shall get as much as he deserves.\" The silver casket has the inscription \"Those that choose me must give and hazard all he hath.\" The third casket is the one that contains Portia's picture, and Portia decides to choose the one with her picture. The prince chooses the one of the dull cask Morocco opens\n",
      "\n",
      " 요약 시작 타이틀 :  The Merchant of Venice.act 2.scene 8\n",
      "글자수 길이 :  2413\n",
      "요약 단락 갯수 :  2\n"
     ]
    },
    {
     "name": "stderr",
     "output_type": "stream",
     "text": [
      "\n",
      " 55%|███████████████████████▋                   | 11/20 [10:58<06:02, 40.24s/it]\u001b[A"
     ]
    },
    {
     "name": "stdout",
     "output_type": "stream",
     "text": [
      "572 개  Salarino tells Antonio that he saw Bassanio and Gratiano under sail, and that Lorenzo and Jessica were seen together in a gondola with Lorenzo and his amorous Jessica. Antonio tells Salarino that they were not in his ship. Antonio asks Salarsio to tell him what he has heard, but not suddenly, for it may grieve him. Antonio says that he will not tell him, for he is not a kind man, and he should keep his day. Salarina tells him that they should go and find the Jew and find out what he knows about the Jew. The Jew tells them that he knows nothing, but that he loves the\n",
      "\n",
      " 요약 시작 타이틀 :  The Merchant of Venice.act 2.scene 9\n",
      "글자수 길이 :  4570\n",
      "요약 단락 갯수 :  3\n"
     ]
    },
    {
     "name": "stderr",
     "output_type": "stream",
     "text": [
      "\n",
      " 60%|█████████████████████████▊                 | 12/20 [11:50<05:51, 43.89s/it]\u001b[A"
     ]
    },
    {
     "name": "stdout",
     "output_type": "stream",
     "text": [
      "564 개  The Prince of Arragon, Portia, and their trains arrive at Portia's house. Portia asks Arragon to choose the casket in which she is to be buried. Aragon is enjoined by oath to never reveal to Portia which casket he chose. He is also enjoined to never woo a maid in the way of marriage, and if he fails to do so, to leave Portia immediately. The Prince asks Portia to tell him what the title of the chest he is to carry is, and Portia replies, \"Who chooseth me shall get as much as he deserves.\" Aragon opens the silver casket and reads the schedule for his fortunes\n",
      "\n",
      " 요약 시작 타이틀 :  The Merchant of Venice.act 3.scene 1\n",
      "글자수 길이 :  5853\n",
      "요약 단락 갯수 :  4\n"
     ]
    },
    {
     "name": "stderr",
     "output_type": "stream",
     "text": [
      "\n",
      " 65%|███████████████████████████▉               | 13/20 [12:44<05:27, 46.75s/it]\u001b[A"
     ]
    },
    {
     "name": "stdout",
     "output_type": "stream",
     "text": [
      "594 개  The next day, Shylock tells Tubal that his daughter's diamond has been stolen, and that he has lost two thousand ducats in Frankfort. Tubal tells him that the thief is in Genoa, where he has heard that Antonio has lost a large sum of money. The servant enters with news that Antonio is at the house of his master's servant, and asks if they can speak with him. He tells them that Antonio wants to speak with them about the villaiy they are about to execute. When they tell him that they have not found her, Tubal says that he will send an officer to find the thief and torture him. The next day\n",
      "\n",
      " 요약 시작 타이틀 :  The Merchant of Venice.act 3.scene 2\n",
      "글자수 길이 :  14420\n",
      "요약 단락 갯수 :  8\n",
      "글자수 길이 :  4407\n",
      "요약 단락 갯수 :  3\n"
     ]
    },
    {
     "name": "stderr",
     "output_type": "stream",
     "text": [
      "Your max_length is set to 142, but you input_length is only 138. You might consider decreasing max_length manually, e.g. summarizer('...', max_length=69)\n"
     ]
    },
    {
     "name": "stdout",
     "output_type": "stream",
     "text": [
      "562 개  Bassanio tells Salansio that he has been invited to accompany him on a trip to Venice. Salansi tells Bassano that Bassano has engag'd himself to a dear friend, Engag'd his friend to his mere enemy, to feed his means. Bassanio gives Nerissa a ring with the promise that if he loses it, it will ruin his love for Nerissa. Nerissa tells him that she will never marry him, and that she wishes him all the joy in the world. Bassano asks Portia if Antonio owes him three thousand ducats, and Bassano responds that he owes Antonio twenty times. She tells him to pay six\n"
     ]
    },
    {
     "name": "stderr",
     "output_type": "stream",
     "text": [
      "\n",
      " 70%|██████████████████████████████             | 14/20 [15:33<08:23, 83.87s/it]\u001b[A"
     ]
    },
    {
     "name": "stdout",
     "output_type": "stream",
     "text": [
      "562 개  Bassano tells Salansio that he has been invited to accompany him on a trip to Venice. Salansi tells Bassano that Bassano has engag'd himself to a dear friend, Engag'd his friend to his mere enemy, to feed his means. Bassano gives Nerissa a ring with the promise that if he loses it, it will ruin his love for Nerissa. Nerissa tells him that she will never marry him, and that she wishes him all the joy in the world. He asks Portia if Antonio owes him three thousand ducats, and Bassano responds that he owes Antonio twenty times. Portia tells him to pay six duc\n",
      "\n",
      " 요약 시작 타이틀 :  The Merchant of Venice.act 3.scene 3\n",
      "글자수 길이 :  1706\n",
      "요약 단락 갯수 :  1\n"
     ]
    },
    {
     "name": "stderr",
     "output_type": "stream",
     "text": [
      "\n",
      " 75%|████████████████████████████████▎          | 15/20 [15:47<05:12, 62.60s/it]\u001b[A"
     ]
    },
    {
     "name": "stdout",
     "output_type": "stream",
     "text": [
      "560 개  Shylock, Salarino, Antonio, and Gaoler enter the street, and Shylock tells them that he will have his bond, and that he has sworn an oath to the Duke of Venice that he would have justice. The gaoler tells them to leave him alone, and they leave. Shyllock tells the gaoler that the Duke will grant him justice, but warns him to beware his fangs, since he is a dog. The Gaoler says that he is sure the Duke cannot deny the course of law, since the trade and profit of the city will be affected if the law is not followed, and asks them to pray that Bassanio will\n",
      "\n",
      " 요약 시작 타이틀 :  The Merchant of Venice.act 3.scene 4\n",
      "글자수 길이 :  3751\n",
      "요약 단락 갯수 :  2\n"
     ]
    },
    {
     "name": "stderr",
     "output_type": "stream",
     "text": [
      "\n",
      " 80%|██████████████████████████████████▍        | 16/20 [16:26<03:42, 55.55s/it]\u001b[A"
     ]
    },
    {
     "name": "stdout",
     "output_type": "stream",
     "text": [
      "588 개  Lorenzo, Nerissa, Portia, Jessica, and Balthasar enter Portia's house. Portia tells Lorenzo to take charge of the house until Bassanio's return. She tells Lorenzo that she has made a vow to live in prayer and contemplation in a monastery two miles away. Lorenzo tells Jessica that he will obey Portia with all his heart, and asks Jessica to wish him good luck. Nerissa tells Baltharas to take the letter to Padua and deliver it to Doctor Bellario, who will give it to her cousin. She then asks BALTHasar to bring the notes and clothes to Venice, where they will be seen by their husbands.\n",
      "\n",
      " 요약 시작 타이틀 :  The Merchant of Venice.act 3.scene 5\n",
      "글자수 길이 :  4099\n",
      "요약 단락 갯수 :  3\n"
     ]
    },
    {
     "name": "stderr",
     "output_type": "stream",
     "text": [
      "\n",
      " 85%|████████████████████████████████████▌      | 17/20 [17:05<02:32, 50.74s/it]\u001b[A"
     ]
    },
    {
     "name": "stdout",
     "output_type": "stream",
     "text": [
      "584 개  Lucellot and Jessica enter the garden, and he tells her that the sins of the father are to be laid upon the children, and that he fears for her. She tells him that she will be saved by her husband, Launcelot, who has made her a Christian. He tells her there is no mercy for her in heaven, because she is a Jew's daughter, and she is no good to the commonwealth, for converting Jews to Christians will raise the price of pork. He then asks Jessica if she would like the Lord Bassanio's wife, and Jessica replies that she does not, but that she would rather have Portia as a wife. Lacon\n",
      "\n",
      " 요약 시작 타이틀 :  The Merchant of Venice.act 4.scene 1\n",
      "글자수 길이 :  20957\n",
      "요약 단락 갯수 :  12\n"
     ]
    },
    {
     "name": "stderr",
     "output_type": "stream",
     "text": [
      "Your max_length is set to 142, but you input_length is only 71. You might consider decreasing max_length manually, e.g. summarizer('...', max_length=35)\n"
     ]
    },
    {
     "name": "stdout",
     "output_type": "stream",
     "text": [
      "글자수 길이 :  6566\n",
      "요약 단락 갯수 :  4\n",
      "글자수 길이 :  2178\n",
      "요약 단락 갯수 :  2\n"
     ]
    },
    {
     "name": "stderr",
     "output_type": "stream",
     "text": [
      "Your max_length is set to 142, but you input_length is only 57. You might consider decreasing max_length manually, e.g. summarizer('...', max_length=28)\n",
      "Your max_length is set to 142, but you input_length is only 141. You might consider decreasing max_length manually, e.g. summarizer('...', max_length=70)\n"
     ]
    },
    {
     "name": "stdout",
     "output_type": "stream",
     "text": [
      "602 개  Ven Antonio and Shylock are brought before the Duke of Venice, who asks them to explain the difference between the two cases. Antonio confesses that he is a Jew and that he has a bond on his head, and asks for mercy from the Duke. Antonio tells the judge that he will give his hand to his wife, but only if she will give it to him. He offers to give her his hand in marriage, but she refuses him, saying that she loves him more than life itself. Shylocks offers to pay twice the amount offered by Portia for the bond, but he refuses, saying he will be bound to pay it ten times the amount if he is not.\n"
     ]
    },
    {
     "name": "stderr",
     "output_type": "stream",
     "text": [
      "Your max_length is set to 142, but you input_length is only 141. You might consider decreasing max_length manually, e.g. summarizer('...', max_length=70)\n"
     ]
    },
    {
     "name": "stdout",
     "output_type": "stream",
     "text": [
      "602 개  Ven Antonio and Shylock are brought before the Duke of Venice, who asks them to explain the difference between the two cases. Antonio confesses that he is a Jew and that he has a bond on his head, and asks for mercy from the Duke. Antonio tells the judge that he will give his hand to his wife, but only if she will give it to him. He offers to give her his hand in marriage, but she refuses him, saying that she loves him more than life itself. Shylocks offers to pay twice the amount offered by Portia for the bond, but he refuses, saying he will be bound to pay it ten times the amount if he is not.\n"
     ]
    },
    {
     "name": "stderr",
     "output_type": "stream",
     "text": [
      "\n",
      " 90%|█████████████████████████████████████▊    | 18/20 [21:20<03:44, 112.13s/it]\u001b[A"
     ]
    },
    {
     "name": "stdout",
     "output_type": "stream",
     "text": [
      "602 개  Ven Antonio and Shylock are brought before the Duke of Venice, who asks them to explain the difference between the two cases. Antonio confesses that he is a Jew and that he has a bond on his head, and asks for mercy from the Duke. Antonio tells the judge that he will give his hand to his wife, but only if she will give it to him. He offers to give her his hand in marriage, but she refuses him, saying that she loves him more than life itself. Shylocks offers to pay twice the amount offered by Portia for the bond, but he refuses, saying he will be bound to pay it ten times the amount if he is not.\n",
      "\n",
      " 요약 시작 타이틀 :  The Merchant of Venice.act 4.scene 2\n",
      "글자수 길이 :  1018\n",
      "요약 단락 갯수 :  1\n"
     ]
    },
    {
     "name": "stderr",
     "output_type": "stream",
     "text": [
      "\n",
      " 95%|████████████████████████████████████████▊  | 19/20 [21:33<01:22, 82.24s/it]\u001b[A"
     ]
    },
    {
     "name": "stdout",
     "output_type": "stream",
     "text": [
      "539 개  Porteria and Nerissa go to Shylock's house and ask him to give them the deed to the Jew's house. They are going to leave the next day, hoping to be home in time for Lorenzo's return. NerisSA asks Gratiano to show her husband's ring, which she had made him swear to keep for ever. She also asks him to take her to the house of her youth, who has given it to her husband. Gratiano enters and tells Nerisza that he has received the ring from Bassanio, and asks her to give it to him. She refuses, saying that she has made her husband swear to\n",
      "\n",
      " 요약 시작 타이틀 :  The Merchant of Venice.act 5.scene 1\n",
      "글자수 길이 :  14052\n",
      "요약 단락 갯수 :  8\n",
      "글자수 길이 :  4606\n",
      "요약 단락 갯수 :  3\n"
     ]
    },
    {
     "name": "stderr",
     "output_type": "stream",
     "text": [
      "Your max_length is set to 142, but you input_length is only 141. You might consider decreasing max_length manually, e.g. summarizer('...', max_length=70)\n"
     ]
    },
    {
     "name": "stdout",
     "output_type": "stream",
     "text": [
      "618 개  Act V opens in Carthage, where Lorenzo and Jessica are standing on the avenue leading to Portia's house. Jessica tells Lorenzo that she has heard from Dido, who is in Venice, and that she is going to Belmont with a holy hermit and her maid. The musicians enter the house, and Lorrenzo tells them that he has received a post from his master informing him that his master is on his way with good news. He asks them to bring their music into the house and to wake Diana with a hymn and draw her home with music. He tells Jessica that he is never merry when he hears sweet music. Bassano enters, and tells Porticia that he\n"
     ]
    },
    {
     "name": "stderr",
     "output_type": "stream",
     "text": [
      "\n",
      "100%|███████████████████████████████████████████| 20/20 [24:24<00:00, 73.20s/it]\u001b[A\n",
      " 40%|███████████████▌                       | 2/5 [1:43:34<2:20:51, 2817.19s/it]"
     ]
    },
    {
     "name": "stdout",
     "output_type": "stream",
     "text": [
      "618 개  Act V opens in Carthage, where Lorenzo and Jessica are standing on the avenue leading to Portia's house. Jessica tells Lorenzo that she has heard from Dido, who is in Venice, and that she is going to Belmont with a holy hermit and her maid. The musicians enter the house, and Lorrenzo tells them that he has received a post from his master informing him that his master is on his way with good news. He asks them to bring their music into the house and to wake Diana with a hymn and draw her home with music. He tells Jessica that he is never merry when he hears sweet music. Bassano enters, and tells Porticia that he\n",
      "\n",
      " 햄릿 요약 시작하겠습니다.!\n",
      "chapter 갯수 :  20\n"
     ]
    },
    {
     "name": "stderr",
     "output_type": "stream",
     "text": [
      "\n",
      "  0%|                                                    | 0/20 [00:00<?, ?it/s]\u001b[A"
     ]
    },
    {
     "name": "stdout",
     "output_type": "stream",
     "text": [
      "\n",
      " 요약 시작 타이틀 :  Hamlet.act 1.scene 1\n",
      "글자수 길이 :  8672\n",
      "요약 단락 갯수 :  5\n",
      "글자수 길이 :  2795\n",
      "요약 단락 갯수 :  2\n"
     ]
    },
    {
     "name": "stderr",
     "output_type": "stream",
     "text": [
      "Your max_length is set to 142, but you input_length is only 140. You might consider decreasing max_length manually, e.g. summarizer('...', max_length=70)\n"
     ]
    },
    {
     "name": "stdout",
     "output_type": "stream",
     "text": [
      "590 개  Act I opens on a platform before the Castle of Elsinore. Two Sentinels, Francisco and Bernardo, watch over the castle. Bernardo asks Francisco if he has seen Horatio and Marcellus, and Francisco replies that he has not seen them. Horatio enters and tells Bernardo that they have seen a piece of him, but that it is only a \"fantasy.\" Bernardo tells Horatio that he will not let belief take hold of him and that they must not believe in it. The next night, Marcelles and Horatio discuss the ghost again, and the ghost tells them that both times it has been in the same form as the dead Danish\n"
     ]
    },
    {
     "name": "stderr",
     "output_type": "stream",
     "text": [
      "\n",
      "  5%|██▏                                        | 1/20 [01:56<37:00, 116.86s/it]\u001b[A"
     ]
    },
    {
     "name": "stdout",
     "output_type": "stream",
     "text": [
      "590 개  Act I opens on a platform before the Castle of Elsinore. Two Sentinels, Francisco and Bernardo, watch over the castle. Bernardo asks Francisco if he has seen Horatio and Marcellus, and Francisco replies that he has not seen them. Horatio enters and tells Bernardo that they have seen a piece of him, but that it is only a \"fantasy.\" Bernardo tells Horatio that he will not let belief take hold of him and that they must not believe in it. The next night, Marcelles and Horatio discuss the ghost again, and the ghost tells them that both times it has been in the same form as the dead Danish\n",
      "\n",
      " 요약 시작 타이틀 :  Hamlet.act 1.scene 2\n",
      "글자수 길이 :  12727\n",
      "요약 단락 갯수 :  7\n",
      "글자수 길이 :  4034\n",
      "요약 단락 갯수 :  3\n"
     ]
    },
    {
     "name": "stderr",
     "output_type": "stream",
     "text": [
      "Your max_length is set to 142, but you input_length is only 45. You might consider decreasing max_length manually, e.g. summarizer('...', max_length=22)\n",
      "Your max_length is set to 142, but you input_length is only 140. You might consider decreasing max_length manually, e.g. summarizer('...', max_length=70)\n"
     ]
    },
    {
     "name": "stdout",
     "output_type": "stream",
     "text": [
      "574 개  Claudius, King of Denmark, Gertrude the Queen, Polonius, Laertes and his sister Ophelia, Voltemand, Cornelius, and Elsinore are mourning the death of their brother Hamlet, who was killed in a battle with the enemy. Claudius tells them that he has written to Norway, the uncle of Fortinbras, asking for the surrender of the lands lost by his father, with all bands of law, to his most valiant brother. Cornelius replies that his uncle is impotent and bedrid, and that they should dispatch Cornelius to suppress his nephew's rebellion. Hamlet is shocked to see that his father\n"
     ]
    },
    {
     "name": "stderr",
     "output_type": "stream",
     "text": [
      "\n",
      " 10%|████▎                                      | 2/20 [04:26<40:53, 136.33s/it]\u001b[A"
     ]
    },
    {
     "name": "stdout",
     "output_type": "stream",
     "text": [
      "574 개  Claudius, King of Denmark, Gertrude the Queen, Polonius, Laertes and his sister Ophelia, Voltemand, Cornelius, and Elsinore are mourning the death of their brother Hamlet, who was killed in a battle with the enemy. Claudius tells them that he has written to Norway, the uncle of Fortinbras, asking for the surrender of the lands lost by his father, with all bands of law, to his most valiant brother. Cornelius replies that his uncle is impotent and bedrid, and that they should dispatch Cornelius to suppress his nephew's rebellion. Hamlet is shocked to see that his father\n",
      "\n",
      " 요약 시작 타이틀 :  Hamlet.act 1.scene 3\n",
      "글자수 길이 :  6650\n",
      "요약 단락 갯수 :  4\n",
      "글자수 길이 :  2183\n",
      "요약 단락 갯수 :  2\n"
     ]
    },
    {
     "name": "stderr",
     "output_type": "stream",
     "text": [
      "Your max_length is set to 142, but you input_length is only 60. You might consider decreasing max_length manually, e.g. summarizer('...', max_length=30)\n",
      "Your max_length is set to 142, but you input_length is only 141. You might consider decreasing max_length manually, e.g. summarizer('...', max_length=70)\n"
     ]
    },
    {
     "name": "stdout",
     "output_type": "stream",
     "text": [
      "530 개  Ophelia and Laertes discuss Hamlet's love for Ophelia, and she tells him that it is not possible for Hamlet to love her, for he is a \"violet in the youth of primy nature, not permanent- sweet, not lasting\" . He tells her to fear it, for his love is not his own, but that of the people of Denmark, and that he is subject to the will of his birth. He warns her to think no more of Hamlet, for \"the temple waxes, and the inward service of the mind and soul ... Grows wide withal.\" He warns his sister to be wary of his love for Laert\n"
     ]
    },
    {
     "name": "stderr",
     "output_type": "stream",
     "text": [
      "\n",
      " 15%|██████▍                                    | 3/20 [06:04<33:39, 118.80s/it]\u001b[A"
     ]
    },
    {
     "name": "stdout",
     "output_type": "stream",
     "text": [
      "530 개  Ophelia and Laertes discuss Hamlet's love for Ophelia, and she tells him that it is not possible for Hamlet to love her, for he is a \"violet in the youth of primy nature, not permanent- sweet, not lasting\" . He tells her to fear it, for his love is not his own, but that of the people of Denmark, and that he is subject to the will of his birth. He warns her to think no more of Hamlet, for \"the temple waxes, and the inward service of the mind and soul ... Grows wide withal.\" He warns his sister to be wary of his love for Laert\n",
      "\n",
      " 요약 시작 타이틀 :  Hamlet.act 1.scene 4\n",
      "글자수 길이 :  4754\n",
      "요약 단락 갯수 :  3\n"
     ]
    },
    {
     "name": "stderr",
     "output_type": "stream",
     "text": [
      "\n",
      " 20%|████████▊                                   | 4/20 [06:56<24:39, 92.46s/it]\u001b[A"
     ]
    },
    {
     "name": "stdout",
     "output_type": "stream",
     "text": [
      "541 개  Hamlet, Horatio, and Marcellus enter the platform before the Castle. The ghost of Hamlet appears to Hamlet and tells him to follow it, but Hamlet refuses to go with it. Hamlet asks Horatio what this means, and Horatio replies that it means that the King will wake to-night and take his rouse, keep wassail, and the swaggling upspring reels, and, as he drains his draughts of Rhenish down, the kettledrum and trumpet thus bray out the triumph of his pledge. Ghost enters and tells Hamlet that it is a custom to marry in the breach rather than\n",
      "\n",
      " 요약 시작 타이틀 :  Hamlet.act 1.scene 5\n",
      "글자수 길이 :  9094\n",
      "요약 단락 갯수 :  5\n",
      "글자수 길이 :  2848\n",
      "요약 단락 갯수 :  2\n"
     ]
    },
    {
     "name": "stderr",
     "output_type": "stream",
     "text": [
      "Your max_length is set to 142, but you input_length is only 141. You might consider decreasing max_length manually, e.g. summarizer('...', max_length=70)\n"
     ]
    },
    {
     "name": "stdout",
     "output_type": "stream",
     "text": [
      "617 개  The ghost of Hamlet's father enters the castle and tells Hamlet that his time is near and that he is bound to tell Hamlet the truth about his past. Hamlet asks the ghost to lead him away from the castle, and the ghost tells him that he has been imprisoned there for a certain term and that the serpent that stung him while sleeping in his orchard is now wearing his crown. The ghost says that Hamlet will hear the truth of his past, and promises to tell it to his son. The Ghost then tells the ghost that he will tell the truth to Hamlet, and Hamlet promises to do so. The next morning Ham asks Horatio to swear never\n"
     ]
    },
    {
     "name": "stderr",
     "output_type": "stream",
     "text": [
      "\n",
      " 25%|██████████▊                                | 5/20 [08:53<25:19, 101.27s/it]\u001b[A"
     ]
    },
    {
     "name": "stdout",
     "output_type": "stream",
     "text": [
      "568 개  The ghost of Hamlet's father enters the castle and tells Hamlet that his time is near and that he is bound to tell Hamlet the truth about his past. Hamlet asks the ghost to lead him away from the castle, and the ghost tells him that he has been imprisoned there for a certain term and that the serpent that stung him while sleeping in his orchard is now wearing his crown. The ghost says that Hamlet will hear the truth of his past, and promises to tell it to his son. The Ghost then tells the ghost that he will tell the truth to Hamlet, and Hamlet promises to do so.\n",
      "\n",
      " 요약 시작 타이틀 :  Hamlet.act 2.scene 1\n",
      "글자수 길이 :  5843\n",
      "요약 단락 갯수 :  4\n"
     ]
    },
    {
     "name": "stderr",
     "output_type": "stream",
     "text": [
      "\n",
      " 30%|█████████████▏                              | 6/20 [09:47<19:51, 85.10s/it]\u001b[A"
     ]
    },
    {
     "name": "stdout",
     "output_type": "stream",
     "text": [
      "607 개  Act Two opens in a room in the house of Polonius and Reynaldo. Reynaldo tells his master that he knows the whereabouts of the Danskers in Paris, and that he has some distant knowledge of his son. He tells the master that they know his son and his father and his friends, and in part him. He also says that they are addicted to gambling, drinking, fencing, swearing, quarreling, and fighting. The master asks Reynaldo to give him the money and the notes he has with him, and tells him that he will visit him to inquire into his son's behaviour. He says that he does not want to put another scandal on him. Op\n",
      "\n",
      " 요약 시작 타이틀 :  Hamlet.act 2.scene 2\n",
      "글자수 길이 :  29419\n",
      "요약 단락 갯수 :  16\n",
      "글자수 길이 :  9228\n",
      "요약 단락 갯수 :  5\n",
      "글자수 길이 :  2883\n",
      "요약 단락 갯수 :  2\n"
     ]
    },
    {
     "name": "stderr",
     "output_type": "stream",
     "text": [
      "Your max_length is set to 142, but you input_length is only 141. You might consider decreasing max_length manually, e.g. summarizer('...', max_length=70)\n"
     ]
    },
    {
     "name": "stdout",
     "output_type": "stream",
     "text": [
      "608 개  King Polonius and Queen Elsinore welcome Rosencrantz and Guildenstern to the castle. They tell them about Hamlet's transformation and ask them to stay with him for a few days to give him some time to recuperate from his ordeal. Hamlet tells them that he has heard much about them, and that they are the only two men in the world to whom he adheres. The king and queen give up their service to them, saying that they will give their service freely at their feet to Hamlet. Voltem Norway, overcome with joy, gives him three thousand crowns in annual fee, and his commission to employ those soldiers, so that he\n"
     ]
    },
    {
     "name": "stderr",
     "output_type": "stream",
     "text": [
      "Your max_length is set to 142, but you input_length is only 141. You might consider decreasing max_length manually, e.g. summarizer('...', max_length=70)\n"
     ]
    },
    {
     "name": "stdout",
     "output_type": "stream",
     "text": [
      "608 개  King Polonius and Queen Elsinore welcome Rosencrantz and Guildenstern to the castle. They tell them about Hamlet's transformation and ask them to stay with him for a few days to give him some time to recuperate from his ordeal. Hamlet tells them that he has heard much about them, and that they are the only two men in the world to whom he adheres. The king and queen give up their service to them, saying that they will give their service freely at their feet to Hamlet. Voltem Norway, overcome with joy, gives him three thousand crowns in annual fee, and his commission to employ those soldiers, so that he\n"
     ]
    },
    {
     "name": "stderr",
     "output_type": "stream",
     "text": [
      "\n",
      " 35%|███████████████                            | 7/20 [15:31<36:48, 169.85s/it]\u001b[A"
     ]
    },
    {
     "name": "stdout",
     "output_type": "stream",
     "text": [
      "608 개  King Polonius and Queen Elsinore welcome Rosencrantz and Guildenstern to the castle. They tell them about Hamlet's transformation and ask them to stay with him for a few days to give him some time to recuperate from his ordeal. Hamlet tells them that he has heard much about them, and that they are the only two men in the world to whom he adheres. The king and queen give up their service to them, saying that they will give their service freely at their feet to Hamlet. Voltem Norway, overcome with joy, gives him three thousand crowns in annual fee, and his commission to employ those soldiers, so that he\n",
      "\n",
      " 요약 시작 타이틀 :  Hamlet.act 3.scene 1\n",
      "글자수 길이 :  9434\n",
      "요약 단락 갯수 :  5\n",
      "글자수 길이 :  2867\n",
      "요약 단락 갯수 :  2\n"
     ]
    },
    {
     "name": "stderr",
     "output_type": "stream",
     "text": [
      "Your max_length is set to 142, but you input_length is only 140. You might consider decreasing max_length manually, e.g. summarizer('...', max_length=70)\n"
     ]
    },
    {
     "name": "stdout",
     "output_type": "stream",
     "text": [
      "577 개  The King asks Ros Ros to explain to him why Hamlet is so distracted. Ros tells him that certain players have been invited to play before Hamlet, and that he seems to be enjoying the attention. The King asks Gertrude to send Hamlet to the court to give him an edge as well. Hamlet goes to the castle to see King Polonius and Queen Ophelia. He asks them to read the book they have brought with them and to give it to him. They tell him that they are often to blame for the misfortunes of the world, that with devotion's visage and pious action we do sugar o'er the Devil himself.\n"
     ]
    },
    {
     "name": "stderr",
     "output_type": "stream",
     "text": [
      "\n",
      " 40%|█████████████████▏                         | 8/20 [17:29<30:40, 153.41s/it]\u001b[A"
     ]
    },
    {
     "name": "stdout",
     "output_type": "stream",
     "text": [
      "577 개  The King asks Ros Ros to explain to him why Hamlet is so distracted. Ros tells him that certain players have been invited to play before Hamlet, and that he seems to be enjoying the attention. The King asks Gertrude to send Hamlet to the court to give him an edge as well. Hamlet goes to the castle to see King Polonius and Queen Ophelia. He asks them to read the book they have brought with them and to give it to him. They tell him that they are often to blame for the misfortunes of the world, that with devotion's visage and pious action we do sugar o'er the Devil himself.\n",
      "\n",
      " 요약 시작 타이틀 :  Hamlet.act 3.scene 2\n",
      "글자수 길이 :  19806\n",
      "요약 단락 갯수 :  11\n",
      "글자수 길이 :  6204\n",
      "요약 단락 갯수 :  4\n"
     ]
    },
    {
     "name": "stderr",
     "output_type": "stream",
     "text": [
      "Your max_length is set to 142, but you input_length is only 89. You might consider decreasing max_length manually, e.g. summarizer('...', max_length=44)\n"
     ]
    },
    {
     "name": "stdout",
     "output_type": "stream",
     "text": [
      "글자수 길이 :  2127\n",
      "요약 단락 갯수 :  2\n"
     ]
    },
    {
     "name": "stderr",
     "output_type": "stream",
     "text": [
      "Your max_length is set to 142, but you input_length is only 139. You might consider decreasing max_length manually, e.g. summarizer('...', max_length=69)\n"
     ]
    },
    {
     "name": "stdout",
     "output_type": "stream",
     "text": [
      "606 개  Hamlet and three of the Players enter the Castle and Elsinore instructs them to speak their lines as if they were the town crier. She tells them to be gentle with their speech and not to be too loud. She warns Hamlet that he must not be too tame either, but let his own discretion be his tutor. Polonius asks Ham if the King will hear this piece of work and Ham replies that the King and the Queen will hear it and that they must leave the theater immediately. The King, Queen, Ophelia, Rosencrantz, Guildenstern, and other Lords attendant, with the Guard attendant, enter carrying torches carrying torches\n"
     ]
    },
    {
     "name": "stderr",
     "output_type": "stream",
     "text": [
      "Your max_length is set to 142, but you input_length is only 117. You might consider decreasing max_length manually, e.g. summarizer('...', max_length=58)\n"
     ]
    },
    {
     "name": "stdout",
     "output_type": "stream",
     "text": [
      "511 개  Hamlet and three of the Players enter the Castle and Elsinore instructs them to speak their lines as if they were the town crier. She tells them to be gentle with their speech and not to be too loud. Polonius asks Ham if the King will hear this piece of work and Ham replies that the King and the Queen will hear it and that they must leave the theater immediately. The King, Queen, Ophelia, Rosencrantz, Guildenstern, and other Lords attendant, with the Guard attendant, enter carrying torches carrying torches\n"
     ]
    },
    {
     "name": "stderr",
     "output_type": "stream",
     "text": [
      "\n",
      " 45%|███████████████████▎                       | 9/20 [21:17<32:23, 176.67s/it]\u001b[A"
     ]
    },
    {
     "name": "stdout",
     "output_type": "stream",
     "text": [
      "511 개  Hamlet and three of the Players enter the Castle and Elsinore instructs them to speak their lines as if they were the town crier. She tells them to be gentle with their speech and not to be too loud. Polonius asks Ham if the King will hear this piece of work and Ham replies that the King and the Queen will hear it and that they must leave the theater immediately. The King, Queen, Ophelia, Rosencrantz, Guildenstern, and other Lords attendant, with the Guard attendant, enter carrying torches carrying torches\n",
      "\n",
      " 요약 시작 타이틀 :  Hamlet.act 3.scene 3\n",
      "글자수 길이 :  4979\n",
      "요약 단락 갯수 :  3\n"
     ]
    },
    {
     "name": "stderr",
     "output_type": "stream",
     "text": [
      "\n",
      " 50%|█████████████████████                     | 10/20 [22:10<23:05, 138.53s/it]\u001b[A"
     ]
    },
    {
     "name": "stdout",
     "output_type": "stream",
     "text": [
      "600 개  The next day, Hamlet kneels before God and asks for forgiveness for his brother's murther. He asks God to forgive him, but is unable to do so, for he still has his own crown, his own ambition, and his queen. Hamlet asks God what form of prayer can serve his turn, since he cannot ask for forgiveness because he is still in possession of the effects of the murther, and he cannot be pardoned and retain the offence. He pleads with God to pardon him and asks him to help him be saved from the consequences of his actions. He begs God to make him free from the curse of his brother, and begs him to make\n",
      "\n",
      " 요약 시작 타이틀 :  Hamlet.act 3.scene 4\n",
      "글자수 길이 :  10890\n",
      "요약 단락 갯수 :  6\n",
      "글자수 길이 :  3459\n",
      "요약 단락 갯수 :  2\n"
     ]
    },
    {
     "name": "stderr",
     "output_type": "stream",
     "text": [
      "Your max_length is set to 142, but you input_length is only 141. You might consider decreasing max_length manually, e.g. summarizer('...', max_length=70)\n"
     ]
    },
    {
     "name": "stdout",
     "output_type": "stream",
     "text": [
      "595 개  Hamlet enters the Queen's closet and tells her that he has killed Polonius, the King's brother. The Queen asks him what he has done, but Hamlet says he knows not, and that he is the son of the king's brother and the daughter of the queen's brother's wife. She tells him that she is his mother and that she has taken him for his \"better fortune\" . Hamlet asks his mother what a bloody deed he has committed, and she tells him it is almost as bad as killing a king and marrying his brother. He asks her to look at the picture of the two brothers and to see that they are the image of gods. Ham Ham\n"
     ]
    },
    {
     "name": "stderr",
     "output_type": "stream",
     "text": [
      "\n",
      " 55%|███████████████████████                   | 11/20 [24:22<20:26, 136.31s/it]\u001b[A"
     ]
    },
    {
     "name": "stdout",
     "output_type": "stream",
     "text": [
      "587 개  Hamlet enters the Queen's closet and tells her that he has killed Polonius, the King's brother. The Queen asks him what he has done, but Hamlet says he knows not, and that he is the son of the king's brother and the daughter of the queen's brother's wife. She tells him that she is his mother and that she has taken him for his \"better fortune\" . Hamlet asks his mother what a bloody deed he has committed, and she tells him it is almost as bad as killing a king and marrying his brother. He asks her to look at the picture of the two brothers and to see that they are the image of gods.\n",
      "\n",
      " 요약 시작 타이틀 :  Hamlet.act 4.scene 1\n",
      "글자수 길이 :  2463\n",
      "요약 단락 갯수 :  2\n"
     ]
    },
    {
     "name": "stderr",
     "output_type": "stream",
     "text": [
      "\n",
      " 60%|█████████████████████████▏                | 12/20 [25:01<14:13, 106.66s/it]\u001b[A"
     ]
    },
    {
     "name": "stdout",
     "output_type": "stream",
     "text": [
      "580 개  The King and Queen enter with Rosencrantz and Guildenstern and ask where their son Hamlet is. Hamlet has dragged Polonius from his mother's closet and dragged him into the chapel. The Queen tells the King that they will ship Hamlet off to prison, and that they must do this with all their majesty and skill. The two men go to find Hamlet and bring back the body. Rosencrrantz says that he is dismayed by what he has done, and asks Gertrude to come away with him. He is worried that he has made a mistake, for he has poisoned the poisoned shot and that it will miss the name of his\n",
      "\n",
      " 요약 시작 타이틀 :  Hamlet.act 4.scene 2\n",
      "글자수 길이 :  1468\n",
      "요약 단락 갯수 :  1\n"
     ]
    },
    {
     "name": "stderr",
     "output_type": "stream",
     "text": [
      "\n",
      " 65%|███████████████████████████▉               | 13/20 [25:14<09:08, 78.36s/it]\u001b[A"
     ]
    },
    {
     "name": "stdout",
     "output_type": "stream",
     "text": [
      "546 개  Hamlet enters the castle and tells Rosencrantz and Guildenstern that the body is with the King, but the King is not with the body. The two men ask Hamlet to tell them where it is, but Hamlet refuses, saying that he is only a \"sponge\" for the King. Hamlet then tells them that the King keeps the body in the corner of his mouth, like an ape, \"first mouth'd, to be last swallowed.\" Hamlet tells them to bring the body to the King and hide the fox, and all after. The men leave, and Hamlet returns to the castle. Scene II Hamlet enters and tells the\n",
      "\n",
      " 요약 시작 타이틀 :  Hamlet.act 4.scene 3\n",
      "글자수 길이 :  3523\n",
      "요약 단락 갯수 :  2\n"
     ]
    },
    {
     "name": "stderr",
     "output_type": "stream",
     "text": [
      "\n",
      " 70%|██████████████████████████████             | 14/20 [25:53<06:39, 66.63s/it]\u001b[A"
     ]
    },
    {
     "name": "stdout",
     "output_type": "stream",
     "text": [
      "550 개  King Polonius asks Hamlet and Guildenstern where the body is, and Hamlet tells him that it is in heaven. The king sends his messenger to find it, but Hamlet asks him to go to the place where he eats, not where he lives, but where he is eaten. Hamlet then tells the king that a man may fish with the worm that eats of a king, and eat of the fish that fed of that worm. The worm is the only emperor for diet, Hamlet says, and we fat ourselves for maggots. He then tells Hamlet that a king may go a progress through the guts of a beggar, and that Hamlet\n",
      "\n",
      " 요약 시작 타이틀 :  Hamlet.act 4.scene 4\n",
      "글자수 길이 :  3330\n",
      "요약 단락 갯수 :  2\n"
     ]
    },
    {
     "name": "stderr",
     "output_type": "stream",
     "text": [
      "\n",
      " 75%|████████████████████████████████▎          | 15/20 [26:33<04:51, 58.38s/it]\u001b[A"
     ]
    },
    {
     "name": "stdout",
     "output_type": "stream",
     "text": [
      "584 개  Hamlet, Rosencrantz, Guildenstern, and others enter the stage, and Hamlet asks the captain of Fortinbras' army where they are headed. The captain tells Hamlet that they are going to Poland to gain a little patch of ground that has \"no profit but the name\" . Hamlet thanks the captain for his advice, and the captain replies that the land is already garrisoned, and that he will not debate the question of whether or not to sell it to Norway or the Pole. Hamlet says he will be with the captain a little before the rendezvous. Marlow asks Hamlet how he can stand by and watch the death\n",
      "\n",
      " 요약 시작 타이틀 :  Hamlet.act 4.scene 5\n",
      "글자수 길이 :  10675\n",
      "요약 단락 갯수 :  6\n",
      "글자수 길이 :  3263\n",
      "요약 단락 갯수 :  2\n"
     ]
    },
    {
     "name": "stderr",
     "output_type": "stream",
     "text": [
      "Your max_length is set to 142, but you input_length is only 140. You might consider decreasing max_length manually, e.g. summarizer('...', max_length=70)\n"
     ]
    },
    {
     "name": "stdout",
     "output_type": "stream",
     "text": [
      "505 개  Ophelia's father, Horatio, tells her that her father, Polonius, has died, and she is distracted by thoughts of him. She sings a song about him, and the Queen asks Oph, \"Where is the beauteous Majesty of Denmark?\" . Oph replies that he does not know, and asks the Queen, \"How should I your true-love know from another one? . . . By his cockle bat and' staff and his sandal shoon?\" . Ophelia sings again, \"He is dead and gone, lady, he is dead.\" Horatio tells them that they must be patient, but he weeps to\n"
     ]
    },
    {
     "name": "stderr",
     "output_type": "stream",
     "text": [
      "\n",
      " 80%|██████████████████████████████████▍        | 16/20 [28:44<05:21, 80.33s/it]\u001b[A"
     ]
    },
    {
     "name": "stdout",
     "output_type": "stream",
     "text": [
      "463 개  Ophelia's father, Horatio, tells her that her father, Polonius, has died. She sings a song about him, and the Queen asks Oph, \"Where is the beauteous Majesty of Denmark?\" . Oph replies that he does not know, and asks the Queen, \"How should I your true-love know from another one? . . . By his cockle bat and' staff and his sandal shoon?\" . Ophelia sings again, \"He is dead and gone, lady, he is dead.\" Horatio tells them that they must be patient, but he weeps to\n",
      "\n",
      " 요약 시작 타이틀 :  Hamlet.act 4.scene 6\n",
      "글자수 길이 :  1863\n",
      "요약 단락 갯수 :  1\n"
     ]
    },
    {
     "name": "stderr",
     "output_type": "stream",
     "text": [
      "\n",
      " 85%|████████████████████████████████████▌      | 17/20 [28:57<03:00, 60.16s/it]\u001b[A"
     ]
    },
    {
     "name": "stdout",
     "output_type": "stream",
     "text": [
      "568 개  Horatio enters the castle and is greeted by sailors who say they have letters for him from Hamlet. Horatio reads the letter and is told to give the letters to the King of England. Hamlet tells Horatio that Rosencrantz and Guildenstern are on their way back to England and that he has much to tell him. He asks Horatio to tell Hamlet where he is, and Horatio replies that he knows where Hamlet is. The two men leave, and Hamlet says that he will send the letters back to Horatio when he is ready. Horio tells Hamlet that he is going to give them to Hamlet, and that Ham\n",
      "\n",
      " 요약 시작 타이틀 :  Hamlet.act 4.scene 7\n",
      "글자수 길이 :  9756\n",
      "요약 단락 갯수 :  6\n",
      "글자수 길이 :  3341\n",
      "요약 단락 갯수 :  2\n"
     ]
    },
    {
     "name": "stderr",
     "output_type": "stream",
     "text": [
      "Your max_length is set to 142, but you input_length is only 112. You might consider decreasing max_length manually, e.g. summarizer('...', max_length=56)\n"
     ]
    },
    {
     "name": "stdout",
     "output_type": "stream",
     "text": [
      "462 개  Laertes asks Elsinore why he did not kill the man who killed his father, and Elsinores replies that he did it for two reasons: The first is to protect his mother and sister, and the second is for the love of his mother's daughter, Elinore. He tells the king that he and his sister love each other, so that they can let their beard be shook with danger and think it a pastime. The king tells Elinores that he will soon tell her that he loves her and that she must\n"
     ]
    },
    {
     "name": "stderr",
     "output_type": "stream",
     "text": [
      "\n",
      " 90%|██████████████████████████████████████▋    | 18/20 [31:01<02:38, 79.27s/it]\u001b[A"
     ]
    },
    {
     "name": "stdout",
     "output_type": "stream",
     "text": [
      "462 개  Laertes asks Elsinore why he did not kill the man who killed his father, and Elsinores replies that he did it for two reasons: The first is to protect his mother and sister, and the second is for the love of his mother's daughter, Elinore. He tells the king that he and his sister love each other, so that they can let their beard be shook with danger and think it a pastime. The king tells Elinores that he will soon tell her that he loves her and that she must\n",
      "\n",
      " 요약 시작 타이틀 :  Hamlet.act 5.scene 1\n",
      "글자수 길이 :  14744\n",
      "요약 단락 갯수 :  8\n",
      "글자수 길이 :  4572\n",
      "요약 단락 갯수 :  3\n"
     ]
    },
    {
     "name": "stderr",
     "output_type": "stream",
     "text": [
      "Your max_length is set to 142, but you input_length is only 141. You might consider decreasing max_length manually, e.g. summarizer('...', max_length=70)\n"
     ]
    },
    {
     "name": "stdout",
     "output_type": "stream",
     "text": [
      "570 개  Elinor is buried in a churchyard and two clowns enter with spades and pickaxes. The clowns argue that she drowned herself in her own defence, so she must have committed an act of self-defence. They also argue that there are no ancient gentlemen but gardners, ditchers, and grave-makers, and they hold up Adam's profession by saying he was the first man to dig without arms. The funeral procession is led by Laertes, a noble youth, and the courtiers. Ophelia's father tells Hamlet that she should have been Hamlet's wife, and that he wishes she had not strewed her grave.\n"
     ]
    },
    {
     "name": "stderr",
     "output_type": "stream",
     "text": [
      "\n",
      " 95%|███████████████████████████████████████▉  | 19/20 [33:50<01:46, 106.35s/it]\u001b[A"
     ]
    },
    {
     "name": "stdout",
     "output_type": "stream",
     "text": [
      "488 개  Elinor is buried in a churchyard and two clowns enter with spades and pickaxes. They argue that she drowned herself in her own defence, so she must have committed an act of self-defence. They also argue that there are no ancient gentlemen but gardners, ditchers, and grave-makers, and they hold up Adam's profession by saying he was the first man to dig without arms. Ophelia's father tells Hamlet that she should have been Hamlet's wife, and that he wishes she had not strewed her grave.\n",
      "\n",
      " 요약 시작 타이틀 :  Hamlet.act 5.scene 2\n",
      "글자수 길이 :  20350\n",
      "요약 단락 갯수 :  11\n",
      "글자수 길이 :  6168\n",
      "요약 단락 갯수 :  4\n"
     ]
    },
    {
     "name": "stderr",
     "output_type": "stream",
     "text": [
      "Your max_length is set to 142, but you input_length is only 104. You might consider decreasing max_length manually, e.g. summarizer('...', max_length=52)\n"
     ]
    },
    {
     "name": "stdout",
     "output_type": "stream",
     "text": [
      "글자수 길이 :  2127\n",
      "요약 단락 갯수 :  2\n"
     ]
    },
    {
     "name": "stderr",
     "output_type": "stream",
     "text": [
      "Your max_length is set to 142, but you input_length is only 56. You might consider decreasing max_length manually, e.g. summarizer('...', max_length=28)\n",
      "Your max_length is set to 142, but you input_length is only 118. You might consider decreasing max_length manually, e.g. summarizer('...', max_length=59)\n"
     ]
    },
    {
     "name": "stdout",
     "output_type": "stream",
     "text": [
      "479 개  The next day, Hamlet tells Horatio that he had to unseal the commission for the play and that he found an exact command for him to write a new play. He then sat down and wrote a new commission and wrote it fair, but that he forgot how to do it. The next day Hamlet asks Horatio to explain how he got the Danish seal. He says he had his father's signet in his purse, which was the model of that Danish seal, and folded the writ up in the form of the other, Subscrib'd it, gave the\n"
     ]
    },
    {
     "name": "stderr",
     "output_type": "stream",
     "text": [
      "Your max_length is set to 142, but you input_length is only 118. You might consider decreasing max_length manually, e.g. summarizer('...', max_length=59)\n"
     ]
    },
    {
     "name": "stdout",
     "output_type": "stream",
     "text": [
      "479 개  The next day, Hamlet tells Horatio that he had to unseal the commission for the play and that he found an exact command for him to write a new play. He then sat down and wrote a new commission and wrote it fair, but that he forgot how to do it. The next day Hamlet asks Horatio to explain how he got the Danish seal. He says he had his father's signet in his purse, which was the model of that Danish seal, and folded the writ up in the form of the other, Subscrib'd it, gave the\n"
     ]
    },
    {
     "name": "stderr",
     "output_type": "stream",
     "text": [
      "\n",
      "100%|██████████████████████████████████████████| 20/20 [37:56<00:00, 113.81s/it]\u001b[A\n",
      " 60%|███████████████████████▍               | 3/5 [2:21:30<1:25:40, 2570.20s/it]"
     ]
    },
    {
     "name": "stdout",
     "output_type": "stream",
     "text": [
      "479 개  The next day, Hamlet tells Horatio that he had to unseal the commission for the play and that he found an exact command for him to write a new play. He then sat down and wrote a new commission and wrote it fair, but that he forgot how to do it. The next day Hamlet asks Horatio to explain how he got the Danish seal. He says he had his father's signet in his purse, which was the model of that Danish seal, and folded the writ up in the form of the other, Subscrib'd it, gave the\n",
      "\n",
      " 걸리버_여행기 요약 시작하겠습니다.!\n",
      "chapter 갯수 :  16\n"
     ]
    },
    {
     "name": "stderr",
     "output_type": "stream",
     "text": [
      "\n",
      "  0%|                                                    | 0/16 [00:00<?, ?it/s]\u001b[A"
     ]
    },
    {
     "name": "stdout",
     "output_type": "stream",
     "text": [
      "\n",
      " 요약 시작 타이틀 :  Gulliver's Travels.part 1.chapter 1\n",
      "글자수 길이 :  21568\n",
      "요약 단락 갯수 :  12\n",
      "글자수 길이 :  7016\n",
      "요약 단락 갯수 :  4\n",
      "글자수 길이 :  2405\n",
      "요약 단락 갯수 :  2\n"
     ]
    },
    {
     "name": "stderr",
     "output_type": "stream",
     "text": [
      "Your max_length is set to 142, but you input_length is only 108. You might consider decreasing max_length manually, e.g. summarizer('...', max_length=54)\n",
      "Your max_length is set to 142, but you input_length is only 141. You might consider decreasing max_length manually, e.g. summarizer('...', max_length=70)\n"
     ]
    },
    {
     "name": "stdout",
     "output_type": "stream",
     "text": [
      "619 개  Part I begins with an account of the author's life in Nottinghamshire. He is the third of five sons, and his father sent him to Emmanuel College in Cambridge at 14 years old. There he studied physic for two years and seven months, knowing it would be useful in long voyages. After his return from Leyden, he was an apprentice to Mr. James Bates, an eminent surgeon in London, for four years. When he left Mr. Bates, he went down to his father, where, by the assistance of his uncle John and some other relations, he got forty pounds and a promise of thirty pounds a year, to maintain him at Leyden. After some time, The\n"
     ]
    },
    {
     "name": "stderr",
     "output_type": "stream",
     "text": [
      "Your max_length is set to 142, but you input_length is only 140. You might consider decreasing max_length manually, e.g. summarizer('...', max_length=70)\n"
     ]
    },
    {
     "name": "stdout",
     "output_type": "stream",
     "text": [
      "618 개  Part I begins with an account of the author's life in Nottinghamshire. He is the third of five sons and his father sent him to Emmanuel College in Cambridge at 14 years old. There he studied physic for two years and seven months, knowing it would be useful in long voyages. After his return from Leyden, he was an apprentice to Mr. James Bates, an eminent surgeon in London, for four years. When he left Mr. Bates, he went down to his father, where, by the assistance of his uncle John and some other relations, he got forty pounds and a promise of thirty pounds a year, to maintain him at Leyden. After some time, The\n"
     ]
    },
    {
     "name": "stderr",
     "output_type": "stream",
     "text": [
      "\n",
      "  6%|██▌                                      | 1/16 [04:22<1:05:30, 262.03s/it]\u001b[A"
     ]
    },
    {
     "name": "stdout",
     "output_type": "stream",
     "text": [
      "597 개  Part I begins with an account of the author's life in Nottinghamshire. He is the third of five sons and his father sent him to Emmanuel College in Cambridge at 14 years old. There he studied physic for two years and seven months, knowing it would be useful in long voyages. After his return from Leyden, he was an apprentice to Mr. James Bates, an eminent surgeon in London, for four years. When he left Mr. Bates, he went down to his father, where, by the assistance of his uncle John and some other relations, he got forty pounds and a promise of thirty pounds a year, to maintain him at Leyden.\n",
      "\n",
      " 요약 시작 타이틀 :  Gulliver's Travels.part 1.chapter 2\n",
      "글자수 길이 :  18959\n",
      "요약 단락 갯수 :  10\n",
      "글자수 길이 :  6225\n",
      "요약 단락 갯수 :  4\n"
     ]
    },
    {
     "name": "stderr",
     "output_type": "stream",
     "text": [
      "Your max_length is set to 142, but you input_length is only 122. You might consider decreasing max_length manually, e.g. summarizer('...', max_length=61)\n"
     ]
    },
    {
     "name": "stdout",
     "output_type": "stream",
     "text": [
      "글자수 길이 :  2393\n",
      "요약 단락 갯수 :  2\n"
     ]
    },
    {
     "name": "stderr",
     "output_type": "stream",
     "text": [
      "Your max_length is set to 142, but you input_length is only 141. You might consider decreasing max_length manually, e.g. summarizer('...', max_length=70)\n"
     ]
    },
    {
     "name": "stdout",
     "output_type": "stream",
     "text": [
      "633 개  The emperor of Lilliput, accompanied by several of his advisors, comes to see the author in his confinement. He is surprised to find the author's weapons and weapons taken from him. The emperor orders all the villages to deliver in, every morning, six beeves, forty sheep, and other victuals, for his sustenance. He orders six hundred servants, tailors, scholars, and scholars to make him a suit of clothes, and six hundred domestics to be his domestics. He also orders that the emperor's horses, and those of the nobility and guards of guards, should be frequently exercised in my sight, to accustom themselves to me. In about three\n"
     ]
    },
    {
     "name": "stderr",
     "output_type": "stream",
     "text": [
      "Your max_length is set to 142, but you input_length is only 140. You might consider decreasing max_length manually, e.g. summarizer('...', max_length=70)\n"
     ]
    },
    {
     "name": "stdout",
     "output_type": "stream",
     "text": [
      "632 개  The emperor of Lilliput, accompanied by several of his advisors, comes to see the author in his confinement. He is surprised to find the author's weapons and weapons taken from him. The emperor orders all the villages to deliver in, every morning, six beeves, forty sheep, and other victuals for his sustenance. He orders six hundred servants, tailors, scholars, and scholars to make him a suit of clothes, and six hundred domestics to be his domestics. He also orders that the emperor's horses, and those of the nobility and guards of guards, should be frequently exercised in my sight, to accustom themselves to me. In about three\n"
     ]
    },
    {
     "name": "stderr",
     "output_type": "stream",
     "text": [
      "\n",
      " 12%|█████▍                                     | 2/16 [08:20<57:57, 248.42s/it]\u001b[A"
     ]
    },
    {
     "name": "stdout",
     "output_type": "stream",
     "text": [
      "583 개  The emperor of Lilliput, accompanied by several of his advisors, comes to see the author in his confinement. He is surprised to find the author's weapons and weapons taken from him. The emperor orders all the villages to deliver in, every morning, six beeves, forty sheep, and other victuals for his sustenance. He orders six hundred servants, tailors, scholars, and scholars to make him a suit of clothes, and six hundred domestics to be his domestics. He also orders that the emperor's horses should be frequently exercised in my sight, to accustom themselves to me. In about three\n",
      "\n",
      " 요약 시작 타이틀 :  Gulliver's Travels.part 1.chapter 3\n",
      "글자수 길이 :  15375\n",
      "요약 단락 갯수 :  9\n",
      "글자수 길이 :  5134\n",
      "요약 단락 갯수 :  3\n"
     ]
    },
    {
     "name": "stderr",
     "output_type": "stream",
     "text": [
      "Your max_length is set to 142, but you input_length is only 141. You might consider decreasing max_length manually, e.g. summarizer('...', max_length=70)\n"
     ]
    },
    {
     "name": "stdout",
     "output_type": "stream",
     "text": [
      "679 개  In Chapter III, The Diversions of the Court of Lilliput, the author has his liberty granted on certain conditions. He uses this privilege to divert attention from the emperor and his court by asking the emperor to entertain him with a dance on the rope. This diversion is only practised by those who are candidates for great employments and high favor at court. They are trained in this art from their youth, and are not always of noble birth or liberal education. When a great office is vacant, five or six of those candidates petition the Emperor to entertain his majesty, and the court, and whoever jumps the highest, without falling, succeeds in the office. The emperor is so\n"
     ]
    },
    {
     "name": "stderr",
     "output_type": "stream",
     "text": [
      "\n",
      " 19%|████████                                   | 3/16 [11:08<45:49, 211.46s/it]\u001b[A"
     ]
    },
    {
     "name": "stdout",
     "output_type": "stream",
     "text": [
      "660 개  In Chapter III, The Diversions of the Court of Lilliput, the author has his liberty granted on certain conditions. He uses this privilege to divert attention from the emperor and his court by asking the emperor to entertain him with a dance on the rope. This diversion is only practised by those who are candidates for great employments and high favor at court. They are trained in this art from their youth and are not always of noble birth or liberal education. When a great office is vacant, five or six of those candidates petition the Emperor to entertain his majesty, and the court, and whoever jumps the highest, without falling, succeeds in the office.\n",
      "\n",
      " 요약 시작 타이틀 :  Gulliver's Travels.part 1.chapter 4\n",
      "글자수 길이 :  10632\n",
      "요약 단락 갯수 :  6\n",
      "글자수 길이 :  3813\n",
      "요약 단락 갯수 :  2\n"
     ]
    },
    {
     "name": "stderr",
     "output_type": "stream",
     "text": [
      "Your max_length is set to 142, but you input_length is only 140. You might consider decreasing max_length manually, e.g. summarizer('...', max_length=70)\n"
     ]
    },
    {
     "name": "stdout",
     "output_type": "stream",
     "text": [
      "619 개  The author is granted permission by the emperor to visit Milendo, the metropolis of Milendo. The city is an exact square, each side of the wall being five hundred feet long. The emperor's palace is in the centre of the city, where the two greatstreets meet. It is enclosed by a wall of two foot high, and twenty foot distant from the buildings. The town is capable of holding five hundred thousand souls; the houses are from three to five stories. The shops and markets are well provided. The author offers to The emperor of Blefuscu has been fighting a bloody war with the Big Endians for six-and-a-half moons, and has\n"
     ]
    },
    {
     "name": "stderr",
     "output_type": "stream",
     "text": [
      "\n",
      " 25%|██████████▊                                | 4/16 [13:11<35:17, 176.48s/it]\u001b[A"
     ]
    },
    {
     "name": "stdout",
     "output_type": "stream",
     "text": [
      "488 개  The author is granted permission by the emperor to visit Milendo, the metropolis of Milendo. The city is an exact square, each side of the wall being five hundred feet long. The emperor's palace is in the centre of the city, where the two greatstreets meet. It is enclosed by a wall of two foot high, and twenty foot distant from the buildings. The town is capable of holding five hundred thousand souls; the houses are from three to five stories. The shops and markets are well provided.\n",
      "\n",
      " 요약 시작 타이틀 :  Gulliver's Travels.part 1.chapter 5\n",
      "글자수 길이 :  13137\n",
      "요약 단락 갯수 :  7\n",
      "글자수 길이 :  4075\n",
      "요약 단락 갯수 :  3\n"
     ]
    },
    {
     "name": "stderr",
     "output_type": "stream",
     "text": [
      "Your max_length is set to 142, but you input_length is only 71. You might consider decreasing max_length manually, e.g. summarizer('...', max_length=35)\n",
      "Your max_length is set to 142, but you input_length is only 140. You might consider decreasing max_length manually, e.g. summarizer('...', max_length=70)\n"
     ]
    },
    {
     "name": "stdout",
     "output_type": "stream",
     "text": [
      "593 개  The Emperor of Blefuscu is on the island of Lilliput, separated from the rest of the empire by a channel of eight hundred yards wide. He has not yet seen the enemy's fleet at anchor in the harbor, so he orders orders for the strongest cable and iron bars of iron to be made into a hook. Having fixed fifty hooks to as many cables, he went back to the northeast coast and put off his coat, shoes, and stockings, walked into the sea in his leathern jerkin, and swam in the middle of the sea for about thirty yards. He arrived at the fleet in less than half an hour. The enemy were so frightened,\n"
     ]
    },
    {
     "name": "stderr",
     "output_type": "stream",
     "text": [
      "\n",
      " 31%|█████████████▍                             | 5/16 [15:35<30:14, 164.93s/it]\u001b[A"
     ]
    },
    {
     "name": "stdout",
     "output_type": "stream",
     "text": [
      "593 개  The Emperor of Blefuscu is on the island of Lilliput, separated from the rest of the empire by a channel of eight hundred yards wide. He has not yet seen the enemy's fleet at anchor in the harbor, so he orders orders for the strongest cable and iron bars of iron to be made into a hook. Having fixed fifty hooks to as many cables, he went back to the northeast coast and put off his coat, shoes, and stockings, walked into the sea in his leathern jerkin, and swam in the middle of the sea for about thirty yards. He arrived at the fleet in less than half an hour. The enemy were so frightened,\n",
      "\n",
      " 요약 시작 타이틀 :  Gulliver's Travels.part 1.chapter 6\n",
      "글자수 길이 :  17474\n",
      "요약 단락 갯수 :  10\n",
      "글자수 길이 :  6459\n",
      "요약 단락 갯수 :  4\n",
      "글자수 길이 :  2504\n",
      "요약 단락 갯수 :  2\n"
     ]
    },
    {
     "name": "stderr",
     "output_type": "stream",
     "text": [
      "Your max_length is set to 142, but you input_length is only 140. You might consider decreasing max_length manually, e.g. summarizer('...', max_length=70)\n"
     ]
    },
    {
     "name": "stdout",
     "output_type": "stream",
     "text": [
      "647 개  The narrator describes his first nine months and thirteen days in England, during which he has made a table and chair out of trees in the royal park. The Lilliputians' common size is somewhat under six inches high, so there is an exact proportion in all other animals, plants and trees. Their learning is very peculiar, being neither from the left to the right nor from the right to the left, like the Arabians, nor from up to down. All crimes against the state are punished with the most severity, but if the person accused maketh his innocence plainly to appear upon his trial, the accuser is immediately put to an ignominious death. In England,\n"
     ]
    },
    {
     "name": "stderr",
     "output_type": "stream",
     "text": [
      "Your max_length is set to 142, but you input_length is only 137. You might consider decreasing max_length manually, e.g. summarizer('...', max_length=68)\n"
     ]
    },
    {
     "name": "stdout",
     "output_type": "stream",
     "text": [
      "635 개  The narrator describes his first nine months and thirteen days in England, during which he has made a table and chair out of trees in the royal park. The Lilliputians' common size is somewhat under six inches high, so there is an exact proportion in all other animals, plants and trees. Their learning is very peculiar, being neither from the left to the right nor from the right to the left, like the Arabians, nor from up to down. All crimes against the state are punished with the most severity, but if the person accused maketh his innocence plainly to appear upon his trial, the accuser is immediately put to an ignominious death.\n"
     ]
    },
    {
     "name": "stderr",
     "output_type": "stream",
     "text": [
      "\n",
      " 38%|████████████████▏                          | 6/16 [19:34<31:40, 190.10s/it]\u001b[A"
     ]
    },
    {
     "name": "stdout",
     "output_type": "stream",
     "text": [
      "635 개  The narrator describes his first nine months and thirteen days in England, during which he has made a table and chair out of trees in the royal park. The Lilliputians' common size is somewhat under six inches high, so there is an exact proportion in all other animals, plants and trees. Their learning is very peculiar, being neither from the left to the right nor from the right to the left, like the Arabians, nor from up to down. All crimes against the state are punished with the most severity, but if the person accused maketh his innocence plainly to appear upon his trial, the accuser is immediately put to an ignominious death.\n",
      "\n",
      " 요약 시작 타이틀 :  Gulliver's Travels.part 1.chapter 7\n",
      "글자수 길이 :  16328\n",
      "요약 단락 갯수 :  9\n",
      "글자수 길이 :  5692\n",
      "요약 단락 갯수 :  3\n"
     ]
    },
    {
     "name": "stderr",
     "output_type": "stream",
     "text": [
      "Your max_length is set to 142, but you input_length is only 140. You might consider decreasing max_length manually, e.g. summarizer('...', max_length=70)\n"
     ]
    },
    {
     "name": "stdout",
     "output_type": "stream",
     "text": [
      "610 개  In Chapter VII, the author is informed of a design to accuse him of high treason, and he decides to flee to Blefuscu. He has been a stranger to courts for his entire life, and has never been able to enter one before. One night, a man who is a member of the emperor's court comes to the author's house and asks to speak with him privately. He tells the author that the emperor has recently resolved a dispute between him and the king, and that the king has called several committees of council in a private manner on his account. The next day, he leaves the palace and goes to Blefur Skyrris Bolgolam, the high-\n"
     ]
    },
    {
     "name": "stderr",
     "output_type": "stream",
     "text": [
      "\n",
      " 44%|██████████████████▊                        | 7/16 [22:35<28:03, 187.07s/it]\u001b[A"
     ]
    },
    {
     "name": "stdout",
     "output_type": "stream",
     "text": [
      "610 개  In Chapter VII, the author is informed of a design to accuse him of high treason, and he decides to flee to Blefuscu. He has been a stranger to courts for his entire life, and has never been able to enter one before. One night, a man who is a member of the emperor's court comes to the author's house and asks to speak with him privately. He tells the author that the emperor has recently resolved a dispute between him and the king, and that the king has called several committees of council in a private manner on his account. The next day, he leaves the palace and goes to Blefur Skyrris Bolgolam, the high-\n",
      "\n",
      " 요약 시작 타이틀 :  Gulliver's Travels.part 1.chapter 8\n",
      "글자수 길이 :  13006\n",
      "요약 단락 갯수 :  7\n",
      "글자수 길이 :  4171\n",
      "요약 단락 갯수 :  3\n"
     ]
    },
    {
     "name": "stderr",
     "output_type": "stream",
     "text": [
      "Your max_length is set to 142, but you input_length is only 94. You might consider decreasing max_length manually, e.g. summarizer('...', max_length=47)\n",
      "Your max_length is set to 142, but you input_length is only 140. You might consider decreasing max_length manually, e.g. summarizer('...', max_length=70)\n"
     ]
    },
    {
     "name": "stdout",
     "output_type": "stream",
     "text": [
      "572 개  Scalcath sets sail from Blefuscu on the twenty-fourth day of September, 1701. He takes with him six cows and two bulls alive, with as many ewes and lambs, intending to carry them into his own country and propagate the breed. Three days after arriving on the island, the author notices a boat overturned in the sea. He wades to the shore and finds the overturned boat, which is being towed by the tide. He strips off his clothes and swims to the boat, where he is joined by seamen who provide him with a cord to tie it to a man-of-war. After a few days, the tide pushes the\n"
     ]
    },
    {
     "name": "stderr",
     "output_type": "stream",
     "text": [
      "\n",
      " 50%|█████████████████████▌                     | 8/16 [25:08<23:30, 176.34s/it]\u001b[A"
     ]
    },
    {
     "name": "stdout",
     "output_type": "stream",
     "text": [
      "564 개  Scalcath sets sail from Blefuscu on the twenty-fourth day of September, 1701. He takes with him six cows and two bulls alive, with as many ewes and lambs, intending to carry them into his own country and propagate the breed. Three days after arriving on the island, he notices a boat overturned in the sea. He wades to the shore and finds the overturned boat, which is being towed by the tide. He strips off his clothes and swims to the boat, where he is joined by seamen who provide him with a cord to tie it to a man-of-war. After a few days, the tide pushes the\n",
      "\n",
      " 요약 시작 타이틀 :  Gulliver's Travels.part 2.chapter 1\n",
      "글자수 길이 :  24333\n",
      "요약 단락 갯수 :  13\n",
      "글자수 길이 :  7858\n",
      "요약 단락 갯수 :  5\n",
      "글자수 길이 :  2484\n",
      "요약 단락 갯수 :  2\n"
     ]
    },
    {
     "name": "stderr",
     "output_type": "stream",
     "text": [
      "Your max_length is set to 142, but you input_length is only 118. You might consider decreasing max_length manually, e.g. summarizer('...', max_length=59)\n",
      "Your max_length is set to 142, but you input_length is only 141. You might consider decreasing max_length manually, e.g. summarizer('...', max_length=70)\n"
     ]
    },
    {
     "name": "stdout",
     "output_type": "stream",
     "text": [
      "654 개  The novel begins with a description of a great storm and ends with the author's description of the people of the island of Brobdingna. The author is rescued from the water and taken to a farmer's house, where he describes the people and their habits. He then describes his encounter with the island and describes some of the accidents that have happened there. The novel then moves on to describe a voyage to Brobbingna in which he is rescued by one of the natives and is taken to the house of a farmer. The narrator describes how he and the farmer are separated by a storm and the narrator is sent to the bottom of the sea to be rescued by a ship. A man\n"
     ]
    },
    {
     "name": "stderr",
     "output_type": "stream",
     "text": [
      "Your max_length is set to 142, but you input_length is only 120. You might consider decreasing max_length manually, e.g. summarizer('...', max_length=60)\n"
     ]
    },
    {
     "name": "stdout",
     "output_type": "stream",
     "text": [
      "538 개  The novel begins with a description of a great storm and ends with the author's description of the people of the island of Brobdingna. The author is rescued from the water and taken to a farmer's house, where he describes the people and their habits. The novel then moves on to describe a voyage to Brobbingna in which he is rescued by one of the natives and is taken to the house of a farmer. The narrator describes how he and the farmer are separated by a storm and the narrator is sent to the bottom of the sea to be rescued by a ship.\n"
     ]
    },
    {
     "name": "stderr",
     "output_type": "stream",
     "text": [
      "\n",
      " 56%|████████████████████████▏                  | 9/16 [29:48<24:19, 208.49s/it]\u001b[A"
     ]
    },
    {
     "name": "stdout",
     "output_type": "stream",
     "text": [
      "422 개  The novel begins with a description of a great storm and ends with the author's description of the people of the island of Brobdingna. The narrator describes how he and the farmer are separated by a storm and the narrator is sent to the bottom of the sea to be rescued by a ship. The novel then moves on to describe a voyage to Brobbingna in which he is rescued by one of the natives and is taken to the house of a farmer.\n",
      "\n",
      " 요약 시작 타이틀 :  Gulliver's Travels.part 2.chapter 2\n",
      "글자수 길이 :  11690\n",
      "요약 단락 갯수 :  7\n"
     ]
    },
    {
     "name": "stderr",
     "output_type": "stream",
     "text": [
      "Your max_length is set to 142, but you input_length is only 118. You might consider decreasing max_length manually, e.g. summarizer('...', max_length=59)\n"
     ]
    },
    {
     "name": "stdout",
     "output_type": "stream",
     "text": [
      "글자수 길이 :  3855\n",
      "요약 단락 갯수 :  3\n"
     ]
    },
    {
     "name": "stderr",
     "output_type": "stream",
     "text": [
      "Your max_length is set to 142, but you input_length is only 141. You might consider decreasing max_length manually, e.g. summarizer('...', max_length=70)\n"
     ]
    },
    {
     "name": "stdout",
     "output_type": "stream",
     "text": [
      "574 개  The author is taken to a market town and then to the Metropolis, where he meets a nine-year-old girl named Grildrig, who is the daughter of a farmer's wife. She is a good-natured girl, not above forty feet high, being little for her age, and very dexterous at needlework. She makes the author seven shirts of fine cloth of as fine cloth as could be got, which indeed was coarser than sackcloth. She was also his schoolmistress, to teach him the language. She gave him the name of Grildig, which the family took up, and afterwards the whole kingdom. The next morning, Glumdal\n"
     ]
    },
    {
     "name": "stderr",
     "output_type": "stream",
     "text": [
      "\n",
      " 62%|██████████████████████████▎               | 10/16 [32:03<18:35, 185.96s/it]\u001b[A"
     ]
    },
    {
     "name": "stdout",
     "output_type": "stream",
     "text": [
      "574 개  The author is taken to a market town and then to the Metropolis, where he meets a nine-year-old girl named Grildrig, who is the daughter of a farmer's wife. She is a good-natured girl, not above forty feet high, being little for her age, and very dexterous at needlework. She makes the author seven shirts of fine cloth of as fine cloth as could be got, which indeed was coarser than sackcloth. She was also his schoolmistress, to teach him the language. She gave him the name of Grildig, which the family took up, and afterwards the whole kingdom. The next morning, Glumdal\n",
      "\n",
      " 요약 시작 타이틀 :  Gulliver's Travels.part 2.chapter 3\n",
      "글자수 길이 :  20702\n",
      "요약 단락 갯수 :  11\n",
      "글자수 길이 :  6480\n",
      "요약 단락 갯수 :  4\n",
      "글자수 길이 :  2362\n",
      "요약 단락 갯수 :  2\n"
     ]
    },
    {
     "name": "stderr",
     "output_type": "stream",
     "text": [
      "Your max_length is set to 142, but you input_length is only 107. You might consider decreasing max_length manually, e.g. summarizer('...', max_length=53)\n",
      "Your max_length is set to 142, but you input_length is only 141. You might consider decreasing max_length manually, e.g. summarizer('...', max_length=70)\n"
     ]
    },
    {
     "name": "stdout",
     "output_type": "stream",
     "text": [
      "588 개  The author is sent to court by the queen, and is in high favor with the queen and her courtiers. He is given an apartment at court, and he is given the honor of being a member of the royal family. The queen orders her own cabinet-maker to make a room for her to live in and he builds a wooden chamber of 16 feet square and 12 feet high, with sash-windows. He gives three of the wasps to Gresham college and keeps one for himself. He has also given three of them to the university and one to himself. No one knows what happened to the fourth wasp. The wasps are an inch and a half long and\n"
     ]
    },
    {
     "name": "stderr",
     "output_type": "stream",
     "text": [
      "Your max_length is set to 142, but you input_length is only 135. You might consider decreasing max_length manually, e.g. summarizer('...', max_length=67)\n"
     ]
    },
    {
     "name": "stdout",
     "output_type": "stream",
     "text": [
      "569 개  The author is sent to court by the queen, and is in high favor with the queen and her courtiers. He is given an apartment at court, and he is given the honor of being a member of the royal family. The queen orders her own cabinet-maker to make a room for her to live in and he builds a wooden chamber of 16 feet square and 12 feet high. He gives three of the wasps to Gresham college and keeps one for himself. He has also given three of them to the university and one to himself. No one knows what happened to the fourth wasp. The wasps are an inch and a half long and\n"
     ]
    },
    {
     "name": "stderr",
     "output_type": "stream",
     "text": [
      "\n",
      " 69%|████████████████████████████▉             | 11/16 [36:13<17:07, 205.40s/it]\u001b[A"
     ]
    },
    {
     "name": "stdout",
     "output_type": "stream",
     "text": [
      "527 개  The author is sent to court by the queen, and is in high favor with the queen and her courtiers. He is given an apartment at court, and he is given the honor of being a member of the royal family. The queen orders her own cabinet-maker to make a room for her to live in and he builds a wooden chamber of 16 feet square and 12 feet high. He gives three of the wasps to Gresham college and keeps one for himself. He has also given three of them to the university and one to himself. No one knows what happened to the fourth wasp.\n",
      "\n",
      " 요약 시작 타이틀 :  Gulliver's Travels.part 2.chapter 4\n",
      "글자수 길이 :  8932\n",
      "요약 단락 갯수 :  5\n",
      "글자수 길이 :  3059\n",
      "요약 단락 갯수 :  2\n"
     ]
    },
    {
     "name": "stderr",
     "output_type": "stream",
     "text": [
      "Your max_length is set to 142, but you input_length is only 141. You might consider decreasing max_length manually, e.g. summarizer('...', max_length=70)\n"
     ]
    },
    {
     "name": "stdout",
     "output_type": "stream",
     "text": [
      "637 개  The author gives a brief description of the kingdom, describing it as a peninsula terminated to the northeast by a ridge of mountains, thirty miles high, which are altogether impassable, by reason of the volcanoes upon the tops. There is not one sea-port in the whole kingdom, and those parts of the rivers issue, are so full of pointed rocks, and the sea generally so rough, that there is no venturing with the smallest of their boats. The walls are nearly a hundred feet thick, built of hewn stone, and adorned on all sides with statues of statues of gods and emperors. The king's kitchen is a noble building, vaulted at top, and about\n"
     ]
    },
    {
     "name": "stderr",
     "output_type": "stream",
     "text": [
      "\n",
      " 75%|███████████████████████████████▌          | 12/16 [38:08<11:51, 177.93s/it]\u001b[A"
     ]
    },
    {
     "name": "stdout",
     "output_type": "stream",
     "text": [
      "637 개  The author gives a brief description of the kingdom, describing it as a peninsula terminated to the northeast by a ridge of mountains, thirty miles high, which are altogether impassable, by reason of the volcanoes upon the tops. There is not one sea-port in the whole kingdom, and those parts of the rivers issue, are so full of pointed rocks, and the sea generally so rough, that there is no venturing with the smallest of their boats. The walls are nearly a hundred feet thick, built of hewn stone, and adorned on all sides with statues of statues of gods and emperors. The king's kitchen is a noble building, vaulted at top, and about\n",
      "\n",
      " 요약 시작 타이틀 :  Gulliver's Travels.part 2.chapter 5\n",
      "글자수 길이 :  16000\n",
      "요약 단락 갯수 :  9\n",
      "글자수 길이 :  5261\n",
      "요약 단락 갯수 :  3\n"
     ]
    },
    {
     "name": "stderr",
     "output_type": "stream",
     "text": [
      "Your max_length is set to 142, but you input_length is only 141. You might consider decreasing max_length manually, e.g. summarizer('...', max_length=70)\n"
     ]
    },
    {
     "name": "stdout",
     "output_type": "stream",
     "text": [
      "624 개  In Chapter V, the author describes some of the adventures that have happened to him while he was living in the court of Glumdalclitch. He describes how he was injured by a hail storm and was so badly hurt that he was unable to go abroad for ten days. The author also describes a time when he was struck by hail stones that left him with such severe injuries that he could not leave the house for a week. He explains that he had to shelter himself on the lee-side of a border of lemon-thyme. A small white belonging to one of the chief gardeners happened to the place where he lay and carried him in his mouth. One day, while\n"
     ]
    },
    {
     "name": "stderr",
     "output_type": "stream",
     "text": [
      "\n",
      " 81%|██████████████████████████████████▏       | 13/16 [41:07<08:54, 178.33s/it]\u001b[A"
     ]
    },
    {
     "name": "stdout",
     "output_type": "stream",
     "text": [
      "597 개  In Chapter V, the author describes some of the adventures that have happened to him while he was living in the court of Glumdalclitch. He describes how he was injured by a hail storm and was so badly hurt that he was unable to go abroad for ten days. The author also describes a time when he was struck by hail stones that left him with such severe injuries that he could not leave the house for a week. He explains that he had to shelter himself on the lee-side of a border of lemon-thyme. One day, while one of the chief gardeners happened to the place where he lay and carried him in his mouth.\n",
      "\n",
      " 요약 시작 타이틀 :  Gulliver's Travels.part 2.chapter 6\n",
      "글자수 길이 :  17787\n",
      "요약 단락 갯수 :  10\n",
      "글자수 길이 :  6447\n",
      "요약 단락 갯수 :  4\n",
      "글자수 길이 :  2053\n",
      "요약 단락 갯수 :  2\n"
     ]
    },
    {
     "name": "stderr",
     "output_type": "stream",
     "text": [
      "Your max_length is set to 142, but you input_length is only 139. You might consider decreasing max_length manually, e.g. summarizer('...', max_length=69)\n"
     ]
    },
    {
     "name": "stdout",
     "output_type": "stream",
     "text": [
      "657 개  The King inquires into the state of England, which the author relates to him. Grildrig gives the king a detailed account of the events of the last century, and the king is astonished at the lack of violence and corruption. The king also asks about the education of the young nobility and how they spend their time. He concludes with a brief historical account of affairs and events in England. The King tells the king that he believes the majority of his people to be \"the most pernicious race of little odious vermin that nature ever suffered to crawl upon the surface of the earth.\" The king adds that he does not believe that men are \"ennobled on account\n"
     ]
    },
    {
     "name": "stderr",
     "output_type": "stream",
     "text": [
      "Your max_length is set to 142, but you input_length is only 107. You might consider decreasing max_length manually, e.g. summarizer('...', max_length=53)\n"
     ]
    },
    {
     "name": "stdout",
     "output_type": "stream",
     "text": [
      "512 개  Grildrig gives the king a detailed account of the events of the last century, and the king is astonished at the lack of violence and corruption. The king also asks about the education of the young nobility and how they spend their time. Grildrig concludes with a brief historical account of affairs and events in England. The King tells the king that he believes the majority of his people to be \"the most pernicious race of little odious vermin that nature ever suffered to crawl upon the surface of the earth.\"\n"
     ]
    },
    {
     "name": "stderr",
     "output_type": "stream",
     "text": [
      "\n",
      " 88%|████████████████████████████████████▊     | 14/16 [44:28<06:10, 185.30s/it]\u001b[A"
     ]
    },
    {
     "name": "stdout",
     "output_type": "stream",
     "text": [
      "420 개  Grildrig gives the king a detailed account of the events of the last century, and the king is astonished at the lack of violence and corruption. Grildrig concludes with a brief historical account of affairs and events in England. The King tells the king that he believes the majority of his people to be \"the most pernicious race of little odious vermin that nature ever suffered to crawl upon the surface of the earth.\"\n",
      "\n",
      " 요약 시작 타이틀 :  Gulliver's Travels.part 2.chapter 7\n",
      "글자수 길이 :  13671\n",
      "요약 단락 갯수 :  8\n"
     ]
    },
    {
     "name": "stderr",
     "output_type": "stream",
     "text": [
      "Your max_length is set to 142, but you input_length is only 101. You might consider decreasing max_length manually, e.g. summarizer('...', max_length=50)\n"
     ]
    },
    {
     "name": "stdout",
     "output_type": "stream",
     "text": [
      "글자수 길이 :  4737\n",
      "요약 단락 갯수 :  3\n"
     ]
    },
    {
     "name": "stderr",
     "output_type": "stream",
     "text": [
      "Your max_length is set to 142, but you input_length is only 141. You might consider decreasing max_length manually, e.g. summarizer('...', max_length=70)\n"
     ]
    },
    {
     "name": "stdout",
     "output_type": "stream",
     "text": [
      "669 개  Chapter VII is devoted to the author's love of his own country, and he makes a proposal to the king that is rejected. He argues that the king's ignorance of politics and the manners and customs of other countries should be given to a king who lives secluded from the rest of the world, and must therefore be completely unaware of the customs and manners of other nations. He also argues that he would like to hide the faults and deformities of his political mother, and place her virtues and beauty in the most advantageous light. Chapter VIII is dedicated to the law, the laws of the state and the laws and Glumdalclitch is able to borrow books from the queen's joiner\n"
     ]
    },
    {
     "name": "stderr",
     "output_type": "stream",
     "text": [
      "\n",
      " 94%|███████████████████████████████████████▍  | 15/16 [47:06<02:56, 176.90s/it]\u001b[A"
     ]
    },
    {
     "name": "stdout",
     "output_type": "stream",
     "text": [
      "584 개  Chapter VII is devoted to the author's love of his own country, and he makes a proposal to the king that is rejected. He argues that the king's ignorance of politics and the manners and customs of other countries should be given to a king who lives secluded from the rest of the world. He also argues that he would like to hide the faults and deformities of his political mother, and place her virtues and beauty in the most advantageous light. Chapter VIII is dedicated to the law, the laws of the state and the laws and Glumdalclitch is able to borrow books from the queen's joiner.\n",
      "\n",
      " 요약 시작 타이틀 :  Gulliver's Travels.part 2.chapter 8\n",
      "글자수 길이 :  29811\n",
      "요약 단락 갯수 :  16\n",
      "글자수 길이 :  9554\n",
      "요약 단락 갯수 :  5\n",
      "글자수 길이 :  3015\n",
      "요약 단락 갯수 :  2\n"
     ]
    },
    {
     "name": "stderr",
     "output_type": "stream",
     "text": [
      "Your max_length is set to 142, but you input_length is only 141. You might consider decreasing max_length manually, e.g. summarizer('...', max_length=70)\n"
     ]
    },
    {
     "name": "stdout",
     "output_type": "stream",
     "text": [
      "577 개  After two years in England, Swift returns to the kingdom of Lorbrulgrud. He is the favorite of the king and queen, and the delight of the whole court, but he cannot forget those domestic pledges he had left behind. The queen is ill with a small cold, and asks the page to take her out on a walk to the sea. While she is asleep, she is suddenly awakened by a violent pull on the ring. Swift introduces the term \"pistoles\" and \"trencher-side\" . Pistoles are about three dollars and sixty cents. Trencher side is a trencher or wooden plate attached to a wooden plate. Pillion is a\n"
     ]
    },
    {
     "name": "stderr",
     "output_type": "stream",
     "text": [
      "Your max_length is set to 142, but you input_length is only 139. You might consider decreasing max_length manually, e.g. summarizer('...', max_length=69)\n"
     ]
    },
    {
     "name": "stdout",
     "output_type": "stream",
     "text": [
      "572 개  After two years in England, Swift returns to the kingdom of Lorbrulgrud. He is the favorite of the king and queen, and the delight of the whole court, but he cannot forget those domestic pledges he had left behind. The queen is ill with a small cold, and asks the page to take her out on a walk to the sea. While she is asleep, she is suddenly awakened by a violent pull on the ring. Swift introduces the term \"pistoles\" and \"trencher-side\" . Pistoles are about three dollars and sixty cents. Trencher side is a trencher or wooden plate attached to a wooden plate. Pillion\n"
     ]
    },
    {
     "name": "stderr",
     "output_type": "stream",
     "text": [
      "\n",
      "100%|██████████████████████████████████████████| 16/16 [52:43<00:00, 197.70s/it]\u001b[A\n",
      " 80%|████████████████████████████████▊        | 4/5 [3:14:13<46:44, 2804.30s/it]"
     ]
    },
    {
     "name": "stdout",
     "output_type": "stream",
     "text": [
      "564 개  After two years in England, Swift returns to the kingdom of Lorbrulgrud. He is the favorite of the king and queen, and the delight of the whole court, but he cannot forget those domestic pledges he had left behind. The queen is ill with a small cold, and asks the page to take her out on a walk to the sea. While she is asleep, she is suddenly awakened by a violent pull on the ring. Swift introduces the term \"pistoles\" and \"trencher-side\" . Pistoles are about three dollars and sixty cents. Trencher side is a trencher or wooden plate attached to a wooden plate.\n",
      "\n",
      " 로미오와_줄리엣 요약 시작하겠습니다.!\n",
      "chapter 갯수 :  24\n"
     ]
    },
    {
     "name": "stderr",
     "output_type": "stream",
     "text": [
      "\n",
      "  0%|                                                    | 0/24 [00:00<?, ?it/s]\u001b[A"
     ]
    },
    {
     "name": "stdout",
     "output_type": "stream",
     "text": [
      "\n",
      " 요약 시작 타이틀 :  Romeo and Juliet.act 1.scene 1\n",
      "글자수 길이 :  11708\n",
      "요약 단락 갯수 :  7\n",
      "글자수 길이 :  3403\n",
      "요약 단락 갯수 :  2\n"
     ]
    },
    {
     "name": "stderr",
     "output_type": "stream",
     "text": [
      "Your max_length is set to 142, but you input_length is only 140. You might consider decreasing max_length manually, e.g. summarizer('...', max_length=70)\n"
     ]
    },
    {
     "name": "stdout",
     "output_type": "stream",
     "text": [
      "597 개  Sampson and Gregory enter Verona with swords and bucklers of the house of Capulet. Sampson tells Gregory that he will take the wall of any man or maid of Montague's house that moves him. Two other Montagues, Abram and Balthasar, enter with two other Servingmen and Sampson throws his naked weapon at them. He tells them to take it in the sense that feel it. Benvolio asks Gregory if it is the law of the side if he bites his thumb at them, and Gregory replies that he does not bite his thumb, but he will bite it at them if they Romeo and Juliet are talking about Romeo's father's death, and Romeo\n"
     ]
    },
    {
     "name": "stderr",
     "output_type": "stream",
     "text": [
      "\n",
      "  4%|█▊                                         | 1/24 [02:11<50:26, 131.58s/it]\u001b[A"
     ]
    },
    {
     "name": "stdout",
     "output_type": "stream",
     "text": [
      "587 개  Sampson and Gregory enter Verona with swords and bucklers of the house of Capulet. Sampson tells Gregory that he will take the wall of any man or maid of Montague's house that moves him. Two other Montagues, Abram and Balthasar, enter with two other Servingmen and Sampson throws his naked weapon at them. He tells them to take it in the sense that feel it. Benvolio asks Gregory if it is the law of the side if he bites his thumb at them, and Gregory replies that he does not bite his thumb, but he will bite it at them if they Romeo and Juliet are talking about Romeo's father's death.\n",
      "\n",
      " 요약 시작 타이틀 :  Romeo and Juliet.act 1.scene 2\n",
      "글자수 길이 :  5137\n",
      "요약 단락 갯수 :  3\n"
     ]
    },
    {
     "name": "stderr",
     "output_type": "stream",
     "text": [
      "\n",
      "  8%|███▋                                        | 2/24 [03:04<31:15, 85.27s/it]\u001b[A"
     ]
    },
    {
     "name": "stdout",
     "output_type": "stream",
     "text": [
      "584 개  Capulet asks the Clown to go with him to Verona to find the names of the women whose names are written on the list of those who are to be invited to stay at his house that night, and to invite them to the party. Benvolio asks Romeo to help him find them, and asks Romeo if he can read the letters and the language. The two men leave, and the next day, Romeo tells the others that he is mad, and is bound more than a madman is in prison. Ben Ben asks the servants to invite the Montagues and Capulets to a dinner party at Capulet's house. The servants tell Ben that they are taking Ros\n",
      "\n",
      " 요약 시작 타이틀 :  Romeo and Juliet.act 1.scene 3\n",
      "글자수 길이 :  5395\n",
      "요약 단락 갯수 :  3\n"
     ]
    },
    {
     "name": "stderr",
     "output_type": "stream",
     "text": [
      "\n",
      " 12%|█████▌                                      | 3/24 [03:54<24:16, 69.37s/it]\u001b[A"
     ]
    },
    {
     "name": "stdout",
     "output_type": "stream",
     "text": [
      "475 개  Capulet's Wife and Nurse enter the house, and Capulet's wife asks where his daughter is. Juliet enters and tells her mother that she is twelve years old, and that she has been weaned from her mother's womb eleven years ago, and will be 14 on Lammas Eve. Capulet tells his wife that his daughter will be fourteen on that day, and he will marry her that night. Juliet's mother asks her daughter, \"How stands your disposition to be married? It is an honour that I dream not of.\"\n",
      "\n",
      " 요약 시작 타이틀 :  Romeo and Juliet.act 1.scene 4\n",
      "글자수 길이 :  5634\n",
      "요약 단락 갯수 :  3\n"
     ]
    },
    {
     "name": "stderr",
     "output_type": "stream",
     "text": [
      "\n",
      " 17%|███████▎                                    | 4/24 [04:47<20:54, 62.70s/it]\u001b[A"
     ]
    },
    {
     "name": "stdout",
     "output_type": "stream",
     "text": [
      "537 개  Romeo, Mercutio, Benvolio, and five or six other Maskers enter a street carrying torches. They are the Torchbearers, who are carrying torches, and they ask the Maskers to give them a torch so they can carry the light. Romeo refuses, saying that he is too heavy to carry a torch, and that he cannot fly with Cupid's wings. He asks for a case to put his visage in, a visor for his visor, and a case for his beetle brows. Ben asks the mice to come to the masque, but they refuse, saying they have no wit to go. The constable tells them that\n",
      "\n",
      " 요약 시작 타이틀 :  Romeo and Juliet.act 1.scene 5\n",
      "글자수 길이 :  8171\n",
      "요약 단락 갯수 :  5\n",
      "글자수 길이 :  2485\n",
      "요약 단락 갯수 :  2\n"
     ]
    },
    {
     "name": "stderr",
     "output_type": "stream",
     "text": [
      "Your max_length is set to 142, but you input_length is only 127. You might consider decreasing max_length manually, e.g. summarizer('...', max_length=63)\n",
      "Your max_length is set to 142, but you input_length is only 141. You might consider decreasing max_length manually, e.g. summarizer('...', max_length=70)\n"
     ]
    },
    {
     "name": "stdout",
     "output_type": "stream",
     "text": [
      "562 개  The Maskers enter Capulet's house, and Capulet tells them that he is past his dancing days, and that he and Juliet are past their dancing days. Tyb, Cap.'s uncle, tells Romeo that he has come to kill him, for he is a Montague, and Romeo replies that it is not a sin for him to strike him dead, for by the stock and honour of his kin, he holds it not a crime to do so. Ben tells the Maskers to go to bed, but Romeo tells them to stay, saying that the more restless he is, the more unrestful he is. Juliet's mother wants to speak with Romeo about her daughter, and\n"
     ]
    },
    {
     "name": "stderr",
     "output_type": "stream",
     "text": [
      "\n",
      " 21%|█████████▏                                  | 5/24 [06:39<25:32, 80.66s/it]\u001b[A"
     ]
    },
    {
     "name": "stdout",
     "output_type": "stream",
     "text": [
      "562 개  The Maskers enter Capulet's house, and Capulet tells them that he is past his dancing days, and that he and Juliet are past their dancing days. Tyb, Cap.'s uncle, tells Romeo that he has come to kill him, for he is a Montague, and Romeo replies that it is not a sin for him to strike him dead, for by the stock and honour of his kin, he holds it not a crime to do so. Ben tells the Maskers to go to bed, but Romeo tells them to stay, saying that the more restless he is, the more unrestful he is. Juliet's mother wants to speak with Romeo about her daughter, and\n",
      "\n",
      " 요약 시작 타이틀 :  Romeo and Juliet.act 2.scene 1\n",
      "글자수 길이 :  2283\n",
      "요약 단락 갯수 :  2\n"
     ]
    },
    {
     "name": "stderr",
     "output_type": "stream",
     "text": [
      "\n",
      " 25%|███████████                                 | 6/24 [07:18<19:52, 66.26s/it]\u001b[A"
     ]
    },
    {
     "name": "stdout",
     "output_type": "stream",
     "text": [
      "521 개  In Act II, Scene I, Romeo climbs the wall of Capulet's orchard and leaps down into the orchard. Mercutio and Benvolio enter with Romeo and ask him to conjure Romeo, who is hiding among the trees, to speak to them in the likeness of Rosaline's voice and to speak only one word: \"Love\" or \"dove\" . Ben Volio calls on Romeo to speak one word of rhyme: \"Hear but one rhyme, pronounce but 'love' and 'dove' . . . Speak to my gossip Venus one fair word, one nickname for her purblind son and heir, Young Adam Cupid.\" Romeo asks\n",
      "\n",
      " 요약 시작 타이틀 :  Romeo and Juliet.act 2.scene 2\n",
      "글자수 길이 :  9596\n",
      "요약 단락 갯수 :  5\n",
      "글자수 길이 :  2810\n",
      "요약 단락 갯수 :  2\n"
     ]
    },
    {
     "name": "stderr",
     "output_type": "stream",
     "text": [
      "Your max_length is set to 142, but you input_length is only 139. You might consider decreasing max_length manually, e.g. summarizer('...', max_length=69)\n"
     ]
    },
    {
     "name": "stdout",
     "output_type": "stream",
     "text": [
      "546 개  Romeo and Juliet are in Capulet's orchard in the orchard, and Romeo jests at scars that never felt a wound. Juliet is sick and pale with grief, and her vestal livery is green and sick and green, and none but fools do wear it. She speaks, yet she says nothing. Romeo asks her to speak again, bright angel, for he wants to hear her speak again. She tells him to deny his father and refuse his name, and if he refuses, he will no longer be a Capulet. She asks Romeo to send a letter to her father's cell at 9 a.m., and he promises to return at 9 p.m\n"
     ]
    },
    {
     "name": "stderr",
     "output_type": "stream",
     "text": [
      "\n",
      " 29%|████████████▊                               | 7/24 [09:16<23:33, 83.16s/it]\u001b[A"
     ]
    },
    {
     "name": "stdout",
     "output_type": "stream",
     "text": [
      "546 개  Romeo and Juliet are in Capulet's orchard in the orchard, and Romeo jests at scars that never felt a wound. Juliet is sick and pale with grief, and her vestal livery is green and sick and green, and none but fools do wear it. She speaks, yet she says nothing. Romeo asks her to speak again, bright angel, for he wants to hear her speak again. She tells him to deny his father and refuse his name, and if he refuses, he will no longer be a Capulet. She asks Romeo to send a letter to her father's cell at 9 a.m., and he promises to return at 9 p.m\n",
      "\n",
      " 요약 시작 타이틀 :  Romeo and Juliet.act 2.scene 3\n",
      "글자수 길이 :  4744\n",
      "요약 단락 갯수 :  3\n"
     ]
    },
    {
     "name": "stderr",
     "output_type": "stream",
     "text": [
      "\n",
      " 33%|██████████████▋                             | 8/24 [10:08<19:34, 73.39s/it]\u001b[A"
     ]
    },
    {
     "name": "stdout",
     "output_type": "stream",
     "text": [
      "605 개  Friar Laurence tells his son Romeo that he must up-fill the earth with weeds and flowers to fill the empty space left by the dead bodies of the dead. He explains that the earth is the mother of all things, and the earth that's mother is her tomb, and nature's children are the children of her womb. The earth is full of virtues and vice, but it is also full of grace and power, and it is possible to turn vice into virtue by action, and vice by action dignified. He tells Romeo to go to bed, and Romeo tells his father that he will see him in the morning. The next morning, Friar Friar asks Romeo where he\n",
      "\n",
      " 요약 시작 타이틀 :  Romeo and Juliet.act 2.scene 4\n",
      "글자수 길이 :  9985\n",
      "요약 단락 갯수 :  6\n",
      "글자수 길이 :  3301\n",
      "요약 단락 갯수 :  2\n"
     ]
    },
    {
     "name": "stderr",
     "output_type": "stream",
     "text": [
      "Your max_length is set to 142, but you input_length is only 141. You might consider decreasing max_length manually, e.g. summarizer('...', max_length=70)\n"
     ]
    },
    {
     "name": "stdout",
     "output_type": "stream",
     "text": [
      "562 개  Tybalt, the kinsman to old Capulet, sends a letter to his father's house, challenging Benvolio and Mercutio to confront him. Tybalt's letter is addressed to Romeo, who is not at home, and asks that he answer the letter. BenVolio replies that he has spoken with his man, who tells him that Romeo is already dead, having been stabbed with a wench's black eye, shot through the ear with a love song, and cleft with a blind bow-boy's butt-shaft. The nurse tells the merchant that she will take him down if he speaks anything against her, and if he does not, she will\n"
     ]
    },
    {
     "name": "stderr",
     "output_type": "stream",
     "text": [
      "\n",
      " 38%|████████████████▌                           | 9/24 [12:17<22:41, 90.77s/it]\u001b[A"
     ]
    },
    {
     "name": "stdout",
     "output_type": "stream",
     "text": [
      "562 개  Tybalt, the kinsman to old Capulet, sends a letter to his father's house, challenging Benvolio and Mercutio to confront him. Tybalt's letter is addressed to Romeo, who is not at home, and asks that he answer the letter. BenVolio replies that he has spoken with his man, who tells him that Romeo is already dead, having been stabbed with a wench's black eye, shot through the ear with a love song, and cleft with a blind bow-boy's butt-shaft. The nurse tells the merchant that she will take him down if he speaks anything against her, and if he does not, she will\n",
      "\n",
      " 요약 시작 타이틀 :  Romeo and Juliet.act 2.scene 5\n",
      "글자수 길이 :  4044\n",
      "요약 단락 갯수 :  3\n"
     ]
    },
    {
     "name": "stderr",
     "output_type": "stream",
     "text": [
      "\n",
      " 42%|█████████████████▉                         | 10/24 [12:57<17:30, 75.05s/it]\u001b[A"
     ]
    },
    {
     "name": "stdout",
     "output_type": "stream",
     "text": [
      "567 개  Juliet returns to Capulet's orchard and tells him that she has not yet met him, and that she will be back in half an hour. She asks Peter to stay at the gate and asks Nurse Jesu to stay with her for a few minutes, saying that she is out of breath. When she returns, she tells him she has met Capulet, and asks him to send Peter away. She then asks him if his news is good or bad, and he tells her that it is either good or not, and she will stay in the circumstance. The next day, Juliet asks the nurse to give her a poultice for her aching bones. The nurse tells her\n",
      "\n",
      " 요약 시작 타이틀 :  Romeo and Juliet.act 2.scene 6\n",
      "글자수 길이 :  1931\n",
      "요약 단락 갯수 :  1\n"
     ]
    },
    {
     "name": "stderr",
     "output_type": "stream",
     "text": [
      "\n",
      " 46%|███████████████████▋                       | 11/24 [13:10<12:10, 56.23s/it]\u001b[A"
     ]
    },
    {
     "name": "stdout",
     "output_type": "stream",
     "text": [
      "595 개  Laurence and Romeo are alone in Friar Laurence's cell. Juliet enters, and Friar Friar tells Juliet that he is going to make short work of the two of them, and that he will not leave them alone until the Holy Church incorporates the two in one. Juliet tells him that she is not in love with him, but that she loves him more than money, and he replies that he cannot sum up the value of his love for her. He tells her that his true love is so great that it cannot be measured, and asks her to give him the measure of her joy. Juliet replies that she would rather have his joy than his money. Friar\n",
      "\n",
      " 요약 시작 타이틀 :  Romeo and Juliet.act 3.scene 1\n",
      "글자수 길이 :  10403\n",
      "요약 단락 갯수 :  6\n",
      "글자수 길이 :  3318\n",
      "요약 단락 갯수 :  2\n"
     ]
    },
    {
     "name": "stderr",
     "output_type": "stream",
     "text": [
      "Your max_length is set to 142, but you input_length is only 140. You might consider decreasing max_length manually, e.g. summarizer('...', max_length=70)\n"
     ]
    },
    {
     "name": "stdout",
     "output_type": "stream",
     "text": [
      "553 개  Mercutio, Benvolio, Tybalt, and Men enter a public place and Mercutio suggests that they retire, since it is hot and the Capulets are abroad. Ben Volio, however, says that they must not retire, for they will not be able to avoid a brawl because of the \"mad blood stirring\" in the heat of the day. They argue about the nature of a quarrel between two men, one of whom would kill the other, and Mercuio says that he is so prone to quarrels that he would sell his life for the fee simple of an hour and a quarter to avoid it. Romeo enters, and he tells Tyb\n"
     ]
    },
    {
     "name": "stderr",
     "output_type": "stream",
     "text": [
      "\n",
      " 50%|█████████████████████▌                     | 12/24 [15:22<15:48, 79.02s/it]\u001b[A"
     ]
    },
    {
     "name": "stdout",
     "output_type": "stream",
     "text": [
      "558 개  Mercutio, Benvolio, Tybalt, and Men enter a public place and Mercutio suggests that they retire, since it is hot and the Capulets are abroad. Ben Volio, however, says that they must not retire, for they will not be able to avoid a brawl because of the \"mad blood stirring\" in the heat of the day. They argue about the nature of a quarrel between two men, one of whom would kill the other, and Mercuio says that he is so prone to quarrels that he would sell his life for the fee simple of an hour and a quarter to avoid it. Romeo enters, and he tells Tyb that\n",
      "\n",
      " 요약 시작 타이틀 :  Romeo and Juliet.act 3.scene 2\n",
      "글자수 길이 :  7113\n",
      "요약 단락 갯수 :  4\n",
      "글자수 길이 :  2318\n",
      "요약 단락 갯수 :  2\n"
     ]
    },
    {
     "name": "stderr",
     "output_type": "stream",
     "text": [
      "Your max_length is set to 142, but you input_length is only 91. You might consider decreasing max_length manually, e.g. summarizer('...', max_length=45)\n",
      "Your max_length is set to 142, but you input_length is only 139. You might consider decreasing max_length manually, e.g. summarizer('...', max_length=69)\n"
     ]
    },
    {
     "name": "stdout",
     "output_type": "stream",
     "text": [
      "588 개  Juliet enters the orchard alone and tells Romeo that she has bought the mansion of a love, but she has not yet possessed it. She asks him to give her his Romeo, and she will cut him out in stars when he dies, and he will make the face of heaven so fine that all the world will be in love with night and pay no worship to the garish sun. The nurse returns with the news that Tybalt is dead, and Romeo is banished from the court, and the two are separated by a heavy bier. Juliet asks Romeo if he has slain himself, and The nurse tells Juliet to give the ring to Laurence, and to give it to\n"
     ]
    },
    {
     "name": "stderr",
     "output_type": "stream",
     "text": [
      "\n",
      " 54%|███████████████████████▎                   | 13/24 [17:00<15:32, 84.76s/it]\u001b[A"
     ]
    },
    {
     "name": "stdout",
     "output_type": "stream",
     "text": [
      "552 개  The nurse returns with the news that Tybalt is dead, and Romeo is banished from the court. Juliet asks Romeo if he has slain himself, and the nurse tells Juliet to give the ring to Laurence, and to give it to Romeo. Juliet enters the orchard alone and tells Romeo that she has bought the mansion of a love, but she has not yet possessed it. She asks him to give her his Romeo, and she will cut him out in stars when he dies, and he will make the face of heaven so fine that all the world will be in love with night and pay no worship to the garish sun.\n",
      "\n",
      " 요약 시작 타이틀 :  Romeo and Juliet.act 3.scene 3\n",
      "글자수 길이 :  8760\n",
      "요약 단락 갯수 :  5\n",
      "글자수 길이 :  2857\n",
      "요약 단락 갯수 :  2\n"
     ]
    },
    {
     "name": "stderr",
     "output_type": "stream",
     "text": [
      "Your max_length is set to 142, but you input_length is only 131. You might consider decreasing max_length manually, e.g. summarizer('...', max_length=65)\n"
     ]
    },
    {
     "name": "stdout",
     "output_type": "stream",
     "text": [
      "523 개  The next morning, Romeo returns to the house and is greeted by the nurse, who tells him to tell his wife that he has come, and to tell her to prepare to chide her husband. She warns him not to stay too long, for the watch will be set Romeo is coming, and the nurse gives him a ring to give to the Friar. The Friar tells him that he must go, for it is too late, and that he will return to Mantua to find out the identity of the man. He tells Romeo that he is sorry to part with him, but that a joy past joy calls out on him.\n"
     ]
    },
    {
     "name": "stderr",
     "output_type": "stream",
     "text": [
      "\n",
      " 58%|█████████████████████████                  | 14/24 [18:57<15:45, 94.54s/it]\u001b[A"
     ]
    },
    {
     "name": "stdout",
     "output_type": "stream",
     "text": [
      "523 개  The next morning, Romeo returns to the house and is greeted by the nurse, who tells him to tell his wife that he has come, and to tell her to prepare to chide her husband. She warns him not to stay too long, for the watch will be set Romeo is coming, and the nurse gives him a ring to give to the Friar. The Friar tells him that he must go, for it is too late, and that he will return to Mantua to find out the identity of the man. He tells Romeo that he is sorry to part with him, but that a joy past joy calls out on him.\n",
      "\n",
      " 요약 시작 타이틀 :  Romeo and Juliet.act 3.scene 4\n",
      "글자수 길이 :  1827\n",
      "요약 단락 갯수 :  1\n"
     ]
    },
    {
     "name": "stderr",
     "output_type": "stream",
     "text": [
      "\n",
      " 62%|██████████████████████████▉                | 15/24 [19:10<10:31, 70.14s/it]\u001b[A"
     ]
    },
    {
     "name": "stdout",
     "output_type": "stream",
     "text": [
      "568 개  Capulet's house. Old Capulet, his Wife, and Paris enter, and Capulet tells them that Juliet will not come down to-night because she is too upset by the death of Tybalt. He tells them to tell Juliet of Paris' love for her, and ask her to marry him on Wednesday next week. Paris asks Capulet if they will be ready for the wedding on that day, and he suggests a Thursday. Capulet replies that it is too late, and that he would have been asleep an hour ago if it were not for his wife's company. He then tells his wife to go to Juliet's room and tell her of his son Paris'\n",
      "\n",
      " 요약 시작 타이틀 :  Romeo and Juliet.act 3.scene 5\n",
      "글자수 길이 :  12050\n",
      "요약 단락 갯수 :  7\n"
     ]
    },
    {
     "name": "stderr",
     "output_type": "stream",
     "text": [
      "Your max_length is set to 142, but you input_length is only 134. You might consider decreasing max_length manually, e.g. summarizer('...', max_length=67)\n"
     ]
    },
    {
     "name": "stdout",
     "output_type": "stream",
     "text": [
      "글자수 길이 :  3976\n",
      "요약 단락 갯수 :  3\n"
     ]
    },
    {
     "name": "stderr",
     "output_type": "stream",
     "text": [
      "Your max_length is set to 142, but you input_length is only 141. You might consider decreasing max_length manually, e.g. summarizer('...', max_length=70)\n"
     ]
    },
    {
     "name": "stdout",
     "output_type": "stream",
     "text": [
      "571 개  Tybalt tells his wife that Romeo is still alive, and that she should not weep for his death, but for that of the villain who killed him. He tells her that he will send a poison to a man in Mantua to give it to Romeo, so that he can keep him company. He will also tell her that Romeo will marry her the next day. The next day, Lady Wisdom asks her husband to speak to her, but he refuses to listen to her. She asks him to get her to church on a Thursday, or she will never look him in the face again. She tells him that she is too hot, too tired, and too ill to speak, and\n"
     ]
    },
    {
     "name": "stderr",
     "output_type": "stream",
     "text": [
      "\n",
      " 67%|████████████████████████████▋              | 16/24 [21:35<12:21, 92.64s/it]\u001b[A"
     ]
    },
    {
     "name": "stdout",
     "output_type": "stream",
     "text": [
      "557 개  Tybalt tells his wife that Romeo is still alive, and that she should not weep for his death, but for that of the villain who killed him. He tells her that he will send a poison to a man in Mantua to give it to Romeo, so that he can keep him company. He will also tell her that Romeo will marry her the next day. Lady Wisdom asks her husband to speak to her, but he refuses to listen to her. She asks him to get her to church on a Thursday, or she will never look him in the face again. She tells him that she is too hot, too tired, and too ill to speak, and\n",
      "\n",
      " 요약 시작 타이틀 :  Romeo and Juliet.act 4.scene 1\n",
      "글자수 길이 :  6231\n",
      "요약 단락 갯수 :  4\n",
      "글자수 길이 :  2252\n",
      "요약 단락 갯수 :  2\n"
     ]
    },
    {
     "name": "stderr",
     "output_type": "stream",
     "text": [
      "Your max_length is set to 142, but you input_length is only 77. You might consider decreasing max_length manually, e.g. summarizer('...', max_length=38)\n",
      "Your max_length is set to 142, but you input_length is only 140. You might consider decreasing max_length manually, e.g. summarizer('...', max_length=70)\n"
     ]
    },
    {
     "name": "stdout",
     "output_type": "stream",
     "text": [
      "590 개  Juliet enters Friar Laurence's cell and tells him that her father has arranged for her to be married to him on Thursday. The Friar tells her that he does not know what her mind is, but that he is sure that she does not love him. Juliet confesses to the Friar that she loves him, and that she will confess it to him if he will not deny it to his father. She says that she would confess it behind his back if he would allow it, but if he does, it will be of more price than if she confesses it in front of him. She asks him to tell her how she can prevent the execution of her husband. Father\n"
     ]
    },
    {
     "name": "stderr",
     "output_type": "stream",
     "text": [
      "\n",
      " 71%|██████████████████████████████▍            | 17/24 [23:11<10:54, 93.44s/it]\u001b[A"
     ]
    },
    {
     "name": "stdout",
     "output_type": "stream",
     "text": [
      "582 개  Juliet enters Friar Laurence's cell and tells him that her father has arranged for her to be married to him on Thursday. The Friar tells her that he does not know what her mind is, but that he is sure that she does not love him. Juliet confesses to the Friar that she loves him and that she will confess it to him if he will not deny it to his father. She says that she would confess it behind his back if he would allow it, but if he does, it will be of more price than if she confesses it in front of him. She asks him to tell her how she can prevent the execution of her husband.\n",
      "\n",
      " 요약 시작 타이틀 :  Romeo and Juliet.act 4.scene 2\n",
      "글자수 길이 :  2621\n",
      "요약 단락 갯수 :  2\n"
     ]
    },
    {
     "name": "stderr",
     "output_type": "stream",
     "text": [
      "\n",
      " 75%|████████████████████████████████▎          | 18/24 [23:49<07:42, 77.05s/it]\u001b[A"
     ]
    },
    {
     "name": "stdout",
     "output_type": "stream",
     "text": [
      "590 개  Capulet asks his servants to hire twenty cooks, but one of them refuses to do so, saying that he cannot lick his own fingers. The next morning, he tells his mother that they will be short in their provision, and that they must go to the church to-day. He asks his wife to go with them, and she tells him that she will go with him. He tells his wife that he is going to play the housewife for this once, and asks her to help him deck up Juliet. She agrees, and they go to church. Capulet's mother says she will wait until Thursday, and he tells her that he will go to County Paris to prepare\n",
      "\n",
      " 요약 시작 타이틀 :  Romeo and Juliet.act 4.scene 3\n",
      "글자수 길이 :  3047\n",
      "요약 단락 갯수 :  2\n"
     ]
    },
    {
     "name": "stderr",
     "output_type": "stream",
     "text": [
      "\n",
      " 79%|██████████████████████████████████         | 19/24 [24:28<05:27, 65.59s/it]\u001b[A"
     ]
    },
    {
     "name": "stdout",
     "output_type": "stream",
     "text": [
      "579 개  Juliet asks the nurse and mother to leave her alone to-night, for she needs to act alone. She fears that Romeo will not be able to redeem her, for he has been married to her before and has not yet been tried as a holy man. The nurse gives her a vial of poison and tells her to put it in her handkerchief. The next morning, Juliet tells Romeo that she will not marry him until the next day. She is afraid that if the poison does not work, she will be buried in the tomb, and Romeo will never see her again. She also fears that Tybalt, who has been dead for a century, is buried in\n",
      "\n",
      " 요약 시작 타이틀 :  Romeo and Juliet.act 4.scene 4\n",
      "글자수 길이 :  1801\n",
      "요약 단락 갯수 :  1\n"
     ]
    },
    {
     "name": "stderr",
     "output_type": "stream",
     "text": [
      "\n",
      " 83%|███████████████████████████████████▊       | 20/24 [24:42<03:20, 50.03s/it]\u001b[A"
     ]
    },
    {
     "name": "stdout",
     "output_type": "stream",
     "text": [
      "517 개  Capulet's house. Lady of the House and Nurse fetch more spices, nurse. They call for dates and quinces in the pastry. Old Capulet stirs, stirs and stirs. The curfew bell has rung, 'tis three o'clock. Nurse. Nurse: Go waken Juliet; go and trim her up; I'll go and chat with Paris. Capulet: The bridegroom he is come already: Make haste, I say. Exeunt Lady and Nurse. Three or four Fellows, with spits and logs and baskets, with things for the cook, sir; but I know not what. The County will be here with music straight\n",
      "\n",
      " 요약 시작 타이틀 :  Romeo and Juliet.act 4.scene 5\n",
      "글자수 길이 :  7072\n",
      "요약 단락 갯수 :  4\n",
      "글자수 길이 :  2329\n",
      "요약 단락 갯수 :  2\n"
     ]
    },
    {
     "name": "stderr",
     "output_type": "stream",
     "text": [
      "Your max_length is set to 142, but you input_length is only 140. You might consider decreasing max_length manually, e.g. summarizer('...', max_length=70)\n",
      "Your max_length is set to 142, but you input_length is only 138. You might consider decreasing max_length manually, e.g. summarizer('...', max_length=69)\n"
     ]
    },
    {
     "name": "stdout",
     "output_type": "stream",
     "text": [
      "577 개  Juliet is asleep in her bed, and the nurse enters to wake her. She tells her to take her pennyworths and sleep for a week. The next night, the County Paris will take her in his bed for the night, and she will only rest a little. The Friar and the County arrive, and Friar asks Juliet if she is ready to go to church. Juliet tells them that she is not ready, and they tell her to go, but never to return. Juliet's mother enters, and tells the nurse that her daughter is dead. The nurse tells the Friar that Juliet's blood has settled, and her joints are stiff, and that life and\n"
     ]
    },
    {
     "name": "stderr",
     "output_type": "stream",
     "text": [
      "\n",
      " 88%|█████████████████████████████████████▋     | 21/24 [26:25<03:17, 65.86s/it]\u001b[A"
     ]
    },
    {
     "name": "stdout",
     "output_type": "stream",
     "text": [
      "576 개  Juliet is asleep in her bed, and the nurse enters to wake her. She tells her to take her pennyworths and sleep for a week. The next night, the County Paris will take her in his bed for the night, and she will only rest a little. The Friar and the County arrive, and Friar asks Juliet if she is ready to go to church. Juliet tells them that she is not ready, and they tell her to go, but never to return. Juliet's mother enters and tells the nurse that her daughter is dead. The nurse tells the Friar that Juliet's blood has settled, and her joints are stiff, and that life and\n",
      "\n",
      " 요약 시작 타이틀 :  Romeo and Juliet.act 5.scene 1\n",
      "글자수 길이 :  4362\n",
      "요약 단락 갯수 :  3\n"
     ]
    },
    {
     "name": "stderr",
     "output_type": "stream",
     "text": [
      "\n",
      " 92%|███████████████████████████████████████▍   | 22/24 [27:17<02:03, 61.90s/it]\u001b[A"
     ]
    },
    {
     "name": "stdout",
     "output_type": "stream",
     "text": [
      "525 개  In Mantua, a beggar named Apoth is living in a house covered in weeds and surrounded by weeds. He has a tortoise hanging in his shop, an alligator stuff'd, and other skins of ill-shaped fishes; and about his shelves are empty boxes, green earthen pots, bladders, and musty seeds. Apoth asks for forty ducats to buy a dram of poison, but Mantua's law is death to any man who utters the words \"poison\" . The beggar's shop is shut for the holiday, so Apoth goes to the apothecary, who offers to sell him the poison for a quarter\n",
      "\n",
      " 요약 시작 타이틀 :  Romeo and Juliet.act 5.scene 2\n",
      "글자수 길이 :  1500\n",
      "요약 단락 갯수 :  1\n"
     ]
    },
    {
     "name": "stderr",
     "output_type": "stream",
     "text": [
      "\n",
      " 96%|█████████████████████████████████████████▏ | 23/24 [27:31<00:47, 47.28s/it]\u001b[A"
     ]
    },
    {
     "name": "stdout",
     "output_type": "stream",
     "text": [
      "596 개  The Friar Laurence enters the cell of Friar John and asks him to send Romeo's letter to Juliet, but John is unable to do so, for the plague has closed the doors of the house, and the townspeople are afraid of infection. Laurence tells John that he will write to Romeo again and ask him to keep Juliet in his cell until Romeo arrives. John tells him that Juliet will wake in three hours, and that he must go to the monument alone. The Friar asks John to get an iron crow and bring Juliet's letter back to him, and John agrees. The friar tells the friar that he cannot send the letter to Romeo, for\n",
      "\n",
      " 요약 시작 타이틀 :  Romeo and Juliet.act 5.scene 3\n",
      "글자수 길이 :  16266\n",
      "요약 단락 갯수 :  9\n",
      "글자수 길이 :  5244\n",
      "요약 단락 갯수 :  3\n"
     ]
    },
    {
     "name": "stderr",
     "output_type": "stream",
     "text": [
      "Your max_length is set to 142, but you input_length is only 139. You might consider decreasing max_length manually, e.g. summarizer('...', max_length=69)\n"
     ]
    },
    {
     "name": "stdout",
     "output_type": "stream",
     "text": [
      "602 개  Romeo and Cleopatra enter the tomb of Montague, who has been banished for the murder of Romeo's cousin's wife. The two men discuss how they will apprehend Montague and convince him to go with them in order to bring justice to the dead bodies. Juliet enters the tomb and finds Romeo and Paris dead, and asks the Friar to dispose of her husband and Paris among a sisterhood of nuns. She takes Romeo's dagger and gives it to him, saying, \"This is thy sheath; there rest, and let me die.\" She then stabs herself and falls on Romeo's body. The Watch enters, and the Chief Watch tells them that the ground is\n"
     ]
    },
    {
     "name": "stderr",
     "output_type": "stream",
     "text": [
      "\n",
      "100%|███████████████████████████████████████████| 24/24 [30:36<00:00, 76.53s/it]\u001b[A\n",
      "100%|█████████████████████████████████████████| 5/5 [3:44:50<00:00, 2698.09s/it]"
     ]
    },
    {
     "name": "stdout",
     "output_type": "stream",
     "text": [
      "602 개  Romeo and Cleopatra enter the tomb of Montague, who has been banished for the murder of Romeo's cousin's wife. The two men discuss how they will apprehend Montague and convince him to go with them in order to bring justice to the dead bodies. Juliet enters the tomb and finds Romeo and Paris dead, and asks the Friar to dispose of her husband and Paris among a sisterhood of nuns. She takes Romeo's dagger and gives it to him, saying, \"This is thy sheath; there rest, and let me die.\" She then stabs herself and falls on Romeo's body. The Watch enters, and the Chief Watch tells them that the ground is\n"
     ]
    },
    {
     "name": "stderr",
     "output_type": "stream",
     "text": [
      "\n"
     ]
    }
   ],
   "source": [
    "#book_dict={}    # 저장할 딕셔너리 지정 초기화 되지 않게 유의\n",
    "for book in tqdm(book_list):\n",
    "    book_name = book.split('(')[1].split(')')[0]\n",
    "    print(\"\\n\", book_name, \"요약 시작하겠습니다.!\")\n",
    "    small_book_dict={}\n",
    "    bk = pd.read_csv(book)\n",
    "    print(\"chapter 갯수 : \",len(bk))\n",
    "    # bk[\"chapter\"] = bk[\"chapter\"].apply(lambda x: ).  텍스트 전처리 \\n 없애기 형용사 명사 분리 등등.\n",
    "    go_title = list(bk[\"book_id\"])\n",
    "    go_chapter = list(bk[\"chapter\"])\n",
    "    for g in tqdm(range(len(go_title))):\n",
    "        print(\"\\n\", \"요약 시작 타이틀 : \", go_title[g])\n",
    "        t = split_text(go_chapter[g])\n",
    "        small_book_dict[go_title[g]] = t\n",
    "    book_dict[book_name] = small_book_dict"
   ]
  },
  {
   "cell_type": "code",
   "execution_count": 13,
   "metadata": {
    "id": "bW0mpaPfn0nJ"
   },
   "outputs": [],
   "source": [
    "# # 요약본 저장\n",
    "# import pickle\n",
    "# with open('data_dict.pkl','wb') as f:\n",
    "#     pickle.dump(book_dict,f)"
   ]
  },
  {
   "cell_type": "code",
   "execution_count": 1,
   "metadata": {
    "id": "Z-BbxSM3oEgE"
   },
   "outputs": [],
   "source": [
    "import pickle\n",
    "with open('data_dict.pkl','rb') as f:\n",
    "    book_dict = pickle.load(f)"
   ]
  },
  {
   "cell_type": "code",
   "execution_count": 2,
   "metadata": {},
   "outputs": [
    {
     "data": {
      "text/plain": [
       "dict_keys(['이상한_나라의_앨리스', '드라큘라', '주홍글씨', '베니스의_상인', '햄릿', '걸리버_여행기', '로미오와_줄리엣'])"
      ]
     },
     "execution_count": 2,
     "metadata": {},
     "output_type": "execute_result"
    }
   ],
   "source": [
    "book_dict.keys()"
   ]
  },
  {
   "cell_type": "code",
   "execution_count": 3,
   "metadata": {},
   "outputs": [
    {
     "data": {
      "text/plain": [
       "{'이상한_나라의_앨리스': {'Alice in Wonderland.chapter 1': 'Alice falls down a rabbit-hole and finds herself in a long, low hall. She asks a woman if it is New Zealand or Australia. The woman asks her if she is in New Zealand and Alice replies, \"No, Ma\\'am, is it Australia or New Zealand?\" The White Rabbit is still in sight, hurrying down a long passage, and Alice is close behind it, but the Rabbit is no longer to be seen. Alice is beginning to get sleepy and asks herself, \"Do cats eat bats? Do cats eat?\" Alice has forgotten the golden key, and when she returns to the table for it, she finds she can not possibly reach it. She decides to eat',\n",
       "  'Alice in Wonderland.chapter 2': 'Alice is nine feet high when she realizes that her feet are no longer with her. She takes the key to the door and goes to the garden to look out into the garden, but is unable to get through the garden door. The White Rabbit returns with a pair of white kid gloves in one hand and a large fan in the other. He tells Alice that the Duchess is waiting for her. The Rabbit drops the gloves and the fan and skurries off into the darkness. Alice continues to talk about how strange everything is. She wonders if she has been changed in the night.',\n",
       "  'Alice in Wonderland.chapter 3': 'The Mouse tells the party that William the Conqueror, whose cause was favoured by the pope, was soon submitted to by the English, who wanted leaders, and had been of late much accustomed to usurpation and conquest. Edwin and Morcar, the earls of Mercia and Northumbria, declared for him, and even Stigand, the patriotic archbishop of Canterbury, found it advisable. The Lory tells Alice that the Mouse is leaving, and she calls after it, \"Please come back and finish your story!\"',\n",
       "  'Alice in Wonderland.chapter 4': 'The White Rabbit returns looking for the fan and gloves, and Alice goes hunting for them, but they are nowhere to be seen. She is about to leave the room when she notices a little bottle with the words \"DRINK ME\" written on it. She drinks the bottle, hoping that it will make her grow larger. It does, and she grows so large that she is unable to get out of the room. She puts one arm out the window, and one foot up the chimney, and says to herself, \"Now I can do no more, whatever happens, what will become of me?\" The Rabbit comes to look for Alice, who is now about a thousand times as large',\n",
       "  'Alice in Wonderland.chapter 5': 'Alice is unable to distinguish between the right-hand and the left-hand bit of the mushroom. She bites the right bit to see if she can tell which side is which, but the next moment she feels a violent blow underneath her chin. A large pigeon has flown into her face, and is beating her violently with its wings. The Pigeon screams, \"Serpent!\" at her, and she protests that she is not a serpent and that she has no idea what the pigeon is talking about. The pigeon goes on to tell Alice that it has tried every trick in the book to try and get her to eat an egg. Alice is shocked by this revelation and tries',\n",
       "  'Alice in Wonderland.chapter 6': \"Alice goes to the Duke and Duchess of York's house and knocks on the door, but is ignored by a footman in livery. Another footman, a frog-like one with a round face and large eyes like a fish, opens the door. He delivers a letter from the Queen to the Duchess, asking for an invitation to play croquet with the Queen. The Duchess is nursing a baby, and the cook is stirring a large cauldron full of soup. The only things in the kitchen that do not sneeze are the cook and a large cat which is sitting on the hearth and grinning from ear to ear. Alice asks the\",\n",
       "  'Alice in Wonderland.chapter 7': \"The March Hare and the Hatter and the Hare are having tea at a table under a tree in front of the house. A Dormouse is fast asleep between them, and they are using it as a cushion, resting their elbows on it and talking over its head. The Hare and Hare continue to ask riddles, and Alice answers that she thinks she knows the answer to the riddle. The Hatter asks Alice what day of the month it is, and she tells him that it is the fourth of the fourth month. He then asks her to tell him what year it is. Alice replies that her watch doesn't tell her what day it is because it\",\n",
       "  'Alice in Wonderland.chapter 8': 'The White Rabbit tells Alice that the Duchess of York has been sentenced to death. The Queen orders everyone to play croquet, and Alice joins in the procession. The balls are live hedgehogs, the mallets live flamingoes, and the soldiers have to double themselves up and stand on their hands and feet to make the arches. Alice finds it difficult to manage her flamingo, but she manages to tuck it in.',\n",
       "  'Alice in Wonderland.chapter 9': 'The Duchess tells Alice that there are things that make people hot-tempered, such as vinegar that makes them sour and camomile that make them bitter, and barley-sugar that make children sweet-temper. She also explains that everything has a moral, if only you can find it. The Queen tells the Duchess that either she or her head must be off in half an hour. The Duchess takes her choice, and is gone in a moment. Alice is too frightened to say a word, but slowly follows the Duchess back to the croquet-ground.',\n",
       "  'Alice in Wonderland.chapter 10': 'The Mock Turtle and the Gryphon perform the Lobster Quadrille, a dance in which you advance twice, set to partners, change lobsters, and retire in the same order, and then throw the lobsters as far out to sea as you can, and swim after them. The Turtle sings a song about a snail who is being chased by a porpoise and a whiting. The snail tells the whiting that he will not join the dance because he has no idea how delightful it will be to be thrown out of the sea with the lobster and the turtle. The Mock Turtle sings the song again and again, asking the snail to join in the dance.',\n",
       "  'Alice in Wonderland.chapter 11': 'The King and Queen of Hearts are seated on their throne, with a great crowd assembled about them. The twelve jurors are all writing very busily on slates. Alice notices that one of the jurors has a pencil that squeaks. She takes it away from the juror who is holding it, and he is forced to write with one finger for the rest of the day. The trial is The King asks the Hatter when he began and the Hare and the Dormouse tell him that it was on the 15th of March. The jury writes down the dates The White Rabbit reads out',\n",
       "  'Alice in Wonderland.chapter 12': 'The King tells the jury that the trial cannot proceed until all the jurymen are back in their places, and he demands that Alice put the Lizard back in the jury-box. The White Rabbit picks up a piece of paper and says it is a letter from the prisoner, written by the prisoner to someone. The King reads it out again and reads it aloud: \"Forty-two. All PERSONS More than a Mile High to the King and Queen\" . The King says that the prisoner must have imitated someone else\\'s hand, and the Queen says that proves his guilt, but the White Rabbit says that he didn\\'t write it, and that they can\\'t prove it.'},\n",
       " '드라큘라': {'Dracula.chapter 1': \"The next day, on the eve of St. George's Day, the old lady asks Jonathan if he will go to the castle of Count Dracula. In Transylvania there are four distinct nationalities: Saxons in the South, Wallachs, Magyars in the West, and Szekelys in the East and North. Dracula is going among the latter, who claim to be descended from Attila and the Huns. A caleche with four horses, driven by a tall man with a long brown beard and a great black hat, overtakes the coach and draws up beside the coach. The driver tells the passengers that it is an hour less than the time\",\n",
       "  'Dracula.chapter 2': 'David awakens to find a cold breakfast laid out for him and a card on the table with a note that reads, \"I have to be absent for a while. Do not wait for me--D.\" Dracula tells the narrator that he is near London on the east side of England. The walls of his castle are broken, the shadows are many, and the wind breathes cold through the broken battlements. He tells David to go safely and leave something of the happiness he brings with him.',\n",
       "  'Dracula.chapter 3': \"On May 12, Dracula's diary begins with a brief account of the events of the previous day. The Countess asks him about Transylvania's history, and he tells her that the pride of his house and name is his own pride. Lucy writes two letters to Hawkins and one to Mina, and the Count takes up her two and places them on the table. He tells Lucy to write only formal notes, but to write in shorthand, which would puzzle the Count, if he did see it. On May 17th, the Count returns to the castle and finds the key to the Count's room. He unhooks the chains from the chains, but the door is locked.\",\n",
       "  'Dracula.chapter 4': 'The Count of Bistritz asks the maid to write three letters to the Count saying that his work is nearly done and that he should leave the castle in a few days. The next day, the maid writes that she has left the castle and that she is now in the toils. She writes that the Count has told her to write a letter to him saying that her work is almost done and to start for home. The Count has two letters from the Szgany, one from Mina and the other from Peter Hawkins. He tells Peter that he will send the letters to Mina in shorthand and asks Mr. Hawkins to communicate with her in shorthand.',\n",
       "  'Dracula.chapter 5': 'Lucy Westenra writes to Mina Murray to tell her that she has received three proposals in one day. She asks Mina not to tell any of the other girls about the proposals, or they will think that they have been injured and slighted if they do not receive six proposals in their very first day at home. The next day, Mina receives a letter from Arthur asking her to write him a letter of introduction. Arthur tells Mina that he hopes she will be happy, and that if she ever wanted a friend again, she would have to count him one of her best friends.',\n",
       "  'Dracula.chapter 6': \"Lucy returns to Whitby, where she has rented a house with her husband. She is unable to walk much in her sleep, but she seems to have lost her anaemic look. Jonathan writes to Mr. Holmwood, saying that his father has been taken seriously ill. He tells Lucy that he is going to die soon and that he doesn't want to die if he can help it. Lucy is to be married in the autumn, and she is already planning out her dresses and how her house will be arranged. She and Jonathan will have to start work on the house.\",\n",
       "  'Dracula.chapter 7': \"The Demeter, a Russian schooner, is swept away by the wind between the piers between Whitby's two piers. The searchlight followed her, and a shiver ran through all who saw her, for lashed to the helm was a corpse, with drooping head, which swung horribly to and fro at each motion of the ship. The dog that landed on the ship has not been found and it is feared that it has fled to the moors and is hiding in terror. The next day, Mina writes that the town of Tate Hill is mourning the loss of the dog. Lucy seemed much upset.\",\n",
       "  'Dracula.chapter 8': \"On 19 August, Wilhelmina receives a letter from Sister Agatha informing her that Jonathan Harker is recovering from a brain fever. She writes to Peter Hawkins, asking him to write for Jonathan to say that he is sorry for his delay, and that all of his work is completed. She also writes to Lucy to tell her that she has cried over the Sister's letter and that she will keep it in her bosom to comfort her until she says goodbye to Jonathan. The next morning, the night-watchman tells the doctor that Renfield has escaped from the hospital. Renfield climbs the wall between the chapel and the deserted house and tells the watchman to get the watch\",\n",
       "  'Dracula.chapter 9': 'Lucy writes to Jonathan to tell him that she has arrived in Hull and that he is \"a wreck of himself, and he does not remember anything that has happened to him for a long time past.\" Sister Agatha, who is a good nurse and a born nurse, tells Lucy that Jonathan raved of dreadful things whilst he was off his head. Lucy wraps up the book she found under Jonathan\\'s pillow and wraps it up in white paper and ties it with a little bit of pale blue ribbon which was round her neck, and seals it over the knot with sealing-wax. Then she kisses it and shows it to her husband and tells him she will keep it as an keepsake',\n",
       "  'Dracula.chapter 10': 'Van Helsing gives Lucy a narcotic and tells her to drink it \"like a good child\" The next day, Van Helsing tells Arthur that Lucy needs blood and that she must have it or die. He and John are about to perform a blood transfusion of blood. Lucy wakes up from her opiate opiate-induced coma and is in a much better mood. She is still very weak, but her spirits are much higher than they were before. Seward asks the patient if she would like to sleep, and she replies that she does not.',\n",
       "  'Dracula.chapter 11': \"Seward's Diary, 17 September 17, is the last chapter of his diary. He describes the night that he was woken by the flapping of a bat outside the window. He is afraid to go out, for he can hear the howl of the wolf through the broken window. Seward is alone with his mother's body and tells his mother that it is time to kill her. He writes a note to himself, leaving it on Lucy's phonograph, explaining that he will leave it there so that no one may get into trouble through him. Dr. Van Helsing arrives at Hillingham with Lucy Westenra, who tells him that Lucy is still asleep.\",\n",
       "  'Dracula.chapter 12': \"Van Helsing arrives at Hillingham and finds the house locked and locked up. He and Lucy's mother are unable to get in, so they go to the back of the house and find a window in the kitchen and go in. Lucy is covered with a white sheet, with a look of terror fixed on her face. The flowers which had been round her neck we found upon her mother's bosom and her throat was bare, showing the two little wounds which we had found. Van Helsing tells Seward that he cannot leave the house until Seward sends word that Lucy is fine. Quincey Morris comes in with a telegram from Seward, who has not heard from Jonathan\",\n",
       "  'Dracula.chapter 13': 'Van Helsing wakes Lucy the next morning and tells her not to worry about the knives because it is too late or too early. He then shows her the golden crucifix he has stolen from Westenra, which he says was stolen in the night. Lucy asks him how he can get it back from the woman who stole it, and he explains that she stole it from the dead and the living, and that she will be punished for her crime, but not through him. The funeral is held the next day, and Lucy and her mother are buried together. There are no relatives at hand, and Van Helsing and John are unable to notify any one who should have been forbidden from attending',\n",
       "  'Dracula.chapter 14': \"Van Helsing writes to Mina Harker asking for permission to read Lucy's letters and papers. He tells Mina that he is a friend of Lord Godalming and Dr. Seward and is concerned about certain matters vitally important. He implores Mina to forgive him for reading the letters and asks for her help in finding out more about Lucy's illness. Mina tells Van Helsing to come to Exeter the next day by train at quarter-past ten, and that she will see him at any time. She is excited about the visit, for she hopes that it will shed some light upon Jonathan's sad experience with Lucy. She also hopes that he will tell\",\n",
       "  'Dracula.chapter 15': \"The next day, Dr. Vincent and Arthur find Lucy's body in the churchyard and find that she is alive and well. She has some punctures on her throat, but they are smaller and fresher than the ones on Lucy's throat. Vincent suggests that she must have been bitten by a rat or a bat. He gives Arthur the key to Lucy's tomb and tells him that they will spend the night there. They will tell Arthur nothing, but only that they wish to learn what they can from Lucy and then they will go back to the church and spend the rest of the night in the graveyard. The next morning, Lucy is awake and eating and Dr. Van Helsing tells\",\n",
       "  'Dracula.chapter 16': \"Van Helsing leads the group to the tomb of Lucy's body. He locks the door and points to the coffin. Quincey Morris answers for Van Helsing, saying that he answered for him. Seward says that he had removed garlic from the coffin, which the Un-Dead cannot bear. The next night there was no exodus, so to-night before the sundown he took away his garlic and other items, and so it is we find this coffin empty. The Professor tells them that they must find the author of all this sorrow and stamp him out.\",\n",
       "  'Dracula.chapter 17': 'Mrs. Harker tells Lord Godalming and Mr. Morris that she has read all the papers and diaries of Dr. Seward and Dr. Van Helsing. She finds that the thirst of the workers is due solely to the dusty nature of the job and the thirst engendered in the operators. The workers have no comment on the strange. The next day, Lucy tells Lucy that she wishes she could comfort all those who suffer from the heart. She promises to be there for him.',\n",
       "  'Dracula.chapter 18': 'Mrs. Harker asks Dr. Seward to let her see her patient, Mr. Renfield, because she wants to read what he has written about him in his diary. She is so appealing and so pretty that Seward is unable to refuse her request. He tells her to wait a minute while he tidies up the house, and when he returns, he sits on the edge of his bed with his eyelids raised so that he can see her as she enters. For a moment, Seward thinks that he might have some homicidal intent, but then he remembers how quiet he was before he attacked him. When John goes to meet Van Helsing, Mina is with',\n",
       "  'Dracula.chapter 19': \"On October 1, Seward, Van Helsing, Lord Godalming, and Mr. Morris begin their search for Mr. Renfield. Seward gives John a wreath of withered garlic blossoms, a revolver, a knife, and small electric lamps. He also gives a portion of Sacred Wafer, which he puts in an envelope and gives to John. The Professor gives John the skeleton keys to open the door of the house. The Count's remains are still in the chest, and the Professor is frightened by the sight of the Count's face. The next day, Professor Snelling tells Mina that they have found twenty-one boxes that have been removed from the house\",\n",
       "  'Dracula.chapter 20': \"On October 1st, Thomas Snelling is unable to remember the incident of the boxes. He is too drunk to remember anything, and his wife tells him that he is only the assistant to Joseph Smollet, who of the two mates is the responsible person for the boxes' whereabouts. Mr. Smollett is a decent, intelligent fellow, distinctly a good, reliable type of workman, and with a headpiece of his own. He remembers all about the incident, and from a dog's-eared notebook he produced from some mysterious receptacle about the seat of his trousers, he gives the destinations of the six boxes. There were, he said, six in the\",\n",
       "  'Dracula.chapter 21': \"Renfield is found lying in a pool of blood on the floor of his room. His back is broken, his arm and leg are paralysed, and his face is severely bruised. The next time we see Jonathan, he is sleeping soundly in his bed. He has taken the sleeping draught, and it seems as if he had taken it himself, for he is so soundly asleep that he is unable to wake him. Next thing we see is a tall, thin man, all in black, standing beside the bed, holding Jonathan's throat and threatening to kill him if he makes a sound. He speaks in a sort of keen, cutting whisper, pointing as he speaks to Jonathan\",\n",
       "  'Dracula.chapter 22': 'Dr. Seward and Dr. Van Helsing are to meet in the study at six o\\'clock to eat something to eat, for if they do not eat they will not be able to work as well as they should. They have just returned from seeing Renfield, who was found lying on the floor, bruised and crushed in, with broken bones and broken bones in his neck. Renfield had called out loudly several times, \"God! God! God!\" several times before falling to the floor. The Professor, Quincey Morris, and VanHelsing arrive at the Count\\'s house. They find the Count not in the house, but they do find eight boxes of earth',\n",
       "  'Dracula.chapter 23': 'Van Helsing tells Jonathan Harker that Arthur and Quincey are on their way, and that they must go sure, if slow, and lose no chance of being caught. The Count enters the hall and sees the Crucifix and Wafer in his left hand and cowers back. The count sneers at them as he passes through the door, and tells them to follow him. He tells them that he will be sorry for leaving them and that his revenge has only just begun. They go back to the house of Mina, who is waiting for them and thanks them for saving her husband.',\n",
       "  'Dracula.chapter 24': 'Van Helsing tells Mina that he is certain that the Count is still on board the ship, and that they have proof of that. He says that they must pursue the Count, for it is necessary for their own sake and for the sake of humanity. David writes that he will travel with Mina, and they will travel together. David also writes in his diary that he has made his will.',\n",
       "  'Dracula.chapter 25': \"Jonathan and Mina arrive in Varna and Jonathan reads the service from the Burial of the Dead. Mina is well, and looks to be getting stronger; her colour is coming back. She warns Jonathan that the time of her death may come quickly and unexpectedly, and warns him to use his opportunity to escape. The next day, Seward writes a diary of the events of the past three weeks. He notes that Mina's condition continues to deteriorate, and that she has lost some of her colour. Seward and Van Helsing have arranged with officials that the instant the Czarina Catherine is seen, they will be informed by a special messenger. They have not told Mrs\",\n",
       "  'Dracula.chapter 26': 'Mrs. Harker goes into a trance, and Van Helsing and Quincey ask her questions, and she tells them that she can see nothing, hear nothing, and feels nothing. The next morning, they are three hours late for their journey to Bucharest, and they are unable to reach Galatz until well after sun-up, so they are forced to wait for another two hours. They hope that she will give them two more hypnotic Van Helsings. The Captain, Donelson, tells them of his voyage to the Black Sea. He explains that he has never had such a favourable run in his life, but that a fog fell on the ship and prevented him from',\n",
       "  'Dracula.chapter 27': 'Van Helsing and Dr. Helsing take turns driving through the night to reach Borgo Pass, hoping to reach the Carpathian Mountains the next morning. Mina points to a road and says, \"This is the way.\" She knows the way because Jonathan wrote about it in his diary. The next morning, Van Helsing takes Mina to a hollow in a rock and places her in a shelter. He brings in our furs and makes a snug nest for her and makes provisions for her, but she refuses to eat. He is sad'},\n",
       " '주홍글씨': {'The Scarlet Letter.chapter 1': 'The first prison is described as an ugly wooden jail, covered with weather-stains and covered in rust. On the other side of the prison door is a rose-bush, which is covered with delicate gems. The rose is a symbol of a moral blossom that may be found along the track, or relieve the darkening close of a tale of human frailty and sorrow. The reader is told that the rose is the flower of Ann Hutchinson, who entered the prison in the footsteps of the sainted Ann Hutchinson. We pluck one of the flowers and present it to the reader to symbolize some sweet moral blossoms that may find their way along the road.',\n",
       "  'The Scarlet Letter.chapter 2': 'Two centuries ago, a large number of the inhabitants of Boston stood outside the jail, all with their eyes fastened on the iron-clamped oaken door of the jail. The women who were standing about the prison-door stood within less than half a century of the period when the man-like Elizabeth had been the not altogether unsuitable representative of the sex. They were her countrywomen; and the beef and ale of their native land, with a moral diet not a whit more refined, entered largely into their composition. The bright morning sun shone on broad shoulders and well-developed busts, and on round and ruddy cheeks, that had ripened in the far-off island',\n",
       "  'The Scarlet Letter.chapter 3': \"The Reverend John Wilson, the eldest clergyman of Boston, stands before Hester Prynne. He is a great scholar and a man of kind and genial spirit, but his intellectual gifts have not been developed as well as his moral gifts. He tells Hester that he has been trying to persuade her to confess her guilt to her younger brother, who is sitting beside her. Reverend Mr. Dimmesdale, a young clergyman from one of the great English universities, addresses the crowd. He says that the Governor and Mr. Wilson have asked him to speak openly to the woman's soul, and he has no choice but to do so.\",\n",
       "  'The Scarlet Letter.chapter 4': 'Hester returns to the prison and is treated by a doctor who is a scholar. He gives her a draught of the medicine that he learned from an Indian, a recipe that an Indian taught him, in requital of some lessons of his own that were as old as Paracelsus. Hester tells her husband that she feels no love for him, and he tells her that he felt no love either. He says that he feels no remorse for having betrayed her, and that they have both wronged each other. He asks her to tell him who the man is who has wronged them both, but Hester says that she will not tell him, but the scholar',\n",
       "  'The Scarlet Letter.chapter 5': 'Hester Prynne is released from prison and returns to the forest to hide her identity under a new exterior. She does not flee from New England because she believes that she is bound by an iron chain that can never be broken. She believes that the torture of her daily shame will purge her soul, and work out another purity than that which she had lost. On the outskirts of the town, on the verge of the peninsula, there is a small thatched cottage. There, Hester sees a man whom she believes to be the one who will bring them together before the bar of final judgment, and make that their marriage-altar.',\n",
       "  'The Scarlet Letter.chapter 6': 'Hester Prynne gives birth to a daughter named Pearl. Pearl is described as having \"a native grace which does not invariably coexist with faultless beauty.\" Her attire, however, always impressed the beholder as if it were the very garb that precisely became it best. Pearl\\'s aspect was imbued with a spell of infinite variety; in this one child there were many children, comprehending the full scope between the wild-flower prettiness of a peasant-baby and the pomp, in little, of an infant princess. Throughout all, there was a trait of passion, a certain depth of hue, which she never lost.',\n",
       "  'The Scarlet Letter.chapter 7': 'Hester Prynne goes to the Bellingham mansion of Governor Bellingham to deliver a pair of gloves that she has embroidered to his order. She is concerned that there is a plan on the part of some of the leading inhabitants, cherishing the more rigid order of principles in religion and government, to deprive her of her child. Among those who promote the design is Governor Bellhampton, who is said to be one of the most busy among the colonial magistrates. Hester is also concerned that Pearl is of demon origin, and wants to know if the child is capable of moral and religious growth, and if so, should be transferred from her care to that of the',\n",
       "  'The Scarlet Letter.chapter 8': 'Governor Bellingham asks Hester Wilson to examine her daughter, Pearl, to see if she has had \"Christian nurture as befits a child of her age.\" Bellingham then asks where is the child\\'s mother, and Hester tells him that it is the same child of whom they have held speech together. She has no idea who made her, and would have gone with them if they had not taken her daughter from her. This is an illustration of the young minister\\'s argument against suing. Herein is the sinful mother happier than the sinful father.',\n",
       "  'The Scarlet Letter.chapter 9': \"Reverend Arthur Dimmesdale moves in with a pious widow, of good social rank, who lives near the site of King's Chapel. He is given a front apartment with a sunny exposure, and heavy window-curtains to create a noontide shadow. The two men, so different in age, come gradually to spend much time together. There is a fascination for the Reverend for Hester Prynne. The physician is moved to look into the character and qualities of the patient, and they take long walks on the sea-shore or in the forest.\",\n",
       "  'The Scarlet Letter.chapter 10': 'Dr. Dimmesdale and Roger Chillingworth continue their daily visits to the old man\\'s house. Roger asks the doctor where he found the herbs, and the doctor replies that he found them growing on a grave that bore no tombstone. The next day, Roger is overcome by a sense of wonder and throws his arms up towards the ceiling and stamps his foot upon the floor. He has lost his soul to heaven and Satan has won it into his kingdom. The physician\\'s ecstasy differs from Satan\\'s in that it has a \"trait of wonder\" in it: it is the \"exquisite wonder\" of the human condition.',\n",
       "  'The Scarlet Letter.chapter 11': \"After the incident last described, the intercourse between the clergyman and the physician is of another character than it had previously been. Roger Chillingworth is inclined to be less satisfied with the aspect of affairs, which Providence has substituted for his black devices. The clergyman's shy and sensitive reserve had balked at the idea of confiding in Dimmesdale, but now he can play upon him as he chooses. He becomes, then, not a spectator only, but a chief actor, in the poor minister's interior world. A revelation, he could almost say, had been granted to him. By its aid, in all the subsequent relations betwixt him and Dimmes,\",\n",
       "  'The Scarlet Letter.chapter 12': 'Mr. Dimmesdale returns to the spot where Hester Prynne had lived through her first hours of public ignominy. He is overcome with a great horror of mind, as if the universe were gazing at a scarlet token on his naked breast, right over his heart. On that spot, there was, and there had long been, the gnawing and poisonous tooth of bodily pain. He shrieked aloud; an outcry that went pealing through the night, and was beaten back from one house to another, and reverberated from the hills in the background. The town did',\n",
       "  'The Scarlet Letter.chapter 13': \"Hester is shocked to find Dimmesdale's moral force reduced to childish weakness. She decides, moreover, that he has a right to her aid. The links that united her to the rest of human kind had all been broken. Here was the iron link of mutual crime, which neither he nor she could break. Even the attractiveness of her person has undergone a similar change. There seems to be no longer anything in Hester's face for Love to dwell upon. Some attribute had departed from her, the permanence of which had been essential to keep her a woman. If she be all tenderness, she will\",\n",
       "  'The Scarlet Letter.chapter 14': 'Hester Prynne tells Roger Chillingworth that the scarlet letter has \" avenged thee\" and that she must reveal the secret to him. She asks him to forgive her for the hatred that has \"transformed a wise and just man to a fiend\" . Roger replies that he pityes Hester for the \"good that has been wasted in thy nature.\" Hester \"Peace, Hester, peace!\" replied the old man, with gloomy sternness.',\n",
       "  'The Scarlet Letter.chapter 15': \"The next day, Hester and Pelear go to the Prynnes' house, and Hester thinks of the happy times when she and Roger Chillingworth used to sit together in the study of their home, and he used to bask in the light of her nuptial smile. Such scenes had once appeared not otherwise than happy, but now, as viewed through the dismal medium of her subsequent life, they classed themselves among her ugliest remembrances. She marvelled how such scenes could have been, and how she could ever have been wrought upon to marry him. She deemed it her crime most to be repented of, that she reciprocated the\",\n",
       "  'The Scarlet Letter.chapter 16': \"The next day, Hester tells Dimmesdale the truth about the man who has crept into her life. The Reverend has gone to visit the Apostle Eliot, among his Indian converts, and that he will probably return that afternoon. Hester takes Pearl, who is necessarily the companion of all her mother's trips, with her on a forest walk. Pearl tells Hester that the sun is afraid of her bosom and runs away, but Hester assures her that she will catch it and catch it when she is a grown woman. When they are done, the sun has disappeared, and Hester is able to reach out and touch it.\",\n",
       "  'The Scarlet Letter.chapter 17': \"Arthur Dimmesdale and Hester Prynne meet in the woods. They are both shocked by the sight of the scarlet letter, and they question one another's existence. Hester confesses to Arthur that she lied to him about her marriage to Roger Chillingworth. She asks Arthur to forgive her for lying to him, but he refuses to do so. He says that he wishes he could have a friend to weep with him over his sin, but that is not possible. He tells Hester that he must die, that he has no strength or courage left to venture into the world alone.\",\n",
       "  'The Scarlet Letter.chapter 18': \"Hester has been estranged from society for so long that she has become accustomed to a kind of free-floating speculation that is foreign to the clergyman. For years she has looked at human institutions with less reverence than the Indian would feel for the clerical band, the pillory, the gallows, the fireside, or the church. The scarlet letter was her passport into regions where other women dared not tread. These had been her teachers,--stern and wild ones,--and they had Arthur Dimmesdal's seven years of outlaw and ignominy had been little.\",\n",
       "  'The Scarlet Letter.chapter 19': \"Hester Prynne and Arthur Dimmesdale sit on a mossy tree trunk, waiting for Pearl to arrive. The mother and the minister are both struck by the beauty of the child, and Hester tells Arthur that she will love her dearly. Arthur worries that his own features will be imprinted on the child's face, but Hester assures him that she is mostly his. The two are united in their love for Pearl, who is the link between their lives and their destinies. In her seven years past, she had been offered to the world as the living hieroglyphic, in which was revealed the secret they had kept for seven years.\",\n",
       "  'The Scarlet Letter.chapter 20': 'When Dimmesdale returns to town, he is amazed to find that he has not changed much from the place he left two days before. He is also struck by how different the people he met are from the ones to whom he had given a parting glance two days earlier. He also notices that his own church is very different from the one he left, and he is struck by the fact that it is not as old or younger as he thought. He meets the eldest female member of his church, a most pious and exemplary old dame, poor, widowed, and with a heart as full of reminiscences about her dead husband and children, and her dead friends of The Reverend',\n",
       "  'The Scarlet Letter.chapter 21': \"Hester Prynne and Pearl enter the market-place on the day of the new Governor's inauguration. Hester is dressed in the same gray garment as she has worn every day for seven years. The scarlet letter brings her back from the shadows of the past and reveals her under the moral aspect of its own moral aspect. She shows her face, so long familiar to the towns-people with the marble quietude which they were accustomed to behold there. It is like a mask, like the frozen calmness of a dead woman's features. Pearl asks her mother if the minister will be there, and her mother says he will be. But he will not greet her.\",\n",
       "  'The Scarlet Letter.chapter 22': 'Mistress Hibbin tells Hester Prynne that she has seen Dimmesdale in the procession, and that he is a \"divine man\" and a \"saint on earth\" . Hester is shocked by the old lady\\'s confidence, but she is also startled by the fact that she believes that the two women have a personal connection between them and the \"evil one\" . The two women stand in front of the crowd, and the crowd begins to move away from them, fearing the touch of Hester\\'s dress. Even the Indians are affected by the cold shadow of the white man\\'s curiosity, and they place their snake-like black eyes on Hester. Hester',\n",
       "  'The Scarlet Letter.chapter 23': 'Seven years later, Dimmesdale confesses to the people of New England that he has been guilty of sin. He pleads with them to forgive him, and says that they have loved him and deemed him holy. He tells the congregation that he and his wife have broken the law, and that he fears that they will never be able to see each other again. It is revealed that Hester has escaped the clutches of Roger Chillingworth. The clergyman\\'s dying eyes are fixed on the old man, and he says, \"My little Pearl\"',\n",
       "  'The Scarlet Letter.chapter 24': 'Hester returns to the cottage where she had lived as a child and finds that it is filled with possessions that only wealth could have imagined for her. There is a scarlet letter on Hester\\'s breast and Hester returns it to her mother. Hester has returned, and has taken up her long-forsaken shame. But where is little Pearl? If Hester Prynne returns to New England, where she has made a new life for herself, the scarred letter has become something to be sorrowed over. On page 147, the writer changes the word \"physican\" from \"physician\" to \"physicist\"'},\n",
       " '베니스의_상인': {'The Merchant of Venice.act 1.scene 1': 'Antonio tells Salsanio that he is sad because he has no idea how he came to be sad, or how he caught it, found it, or came by it, and that such a want-wit sadness makes him want to know himself. Antonio tells them to leave him alone, for he has business to attend to, and asks them to meet him at dinner the next day. Lorenzo and Lorenzo tell him that they will go to dinner with him, and Bassanio tells him that he will not fail him. Antonio asks Lorenzo what he has promised to tell him.',\n",
       "  'The Merchant of Venice.act 1.scene 2': \"Nerissa and Portia discuss the three chests of gold, silver, and lead that her father gave her. Portia tells Nerissa that she will never be able to choose one of the suitors. Nerissa suggests that Portia over-name them, and then she will describe them to Portia. The suitors are the Neapolitan prince, the Italian prince, and the Venetian prince, who is also a friend of Portia's father's. The four suitors seek for Nerissa to take their leave; and there is a forerunner from a fifth, the Prince of\",\n",
       "  'The Merchant of Venice.act 1.scene 3': 'Antonio asks Bassano and Shylock to give him three thousand ducats for three months, and he will have Antonio bound to him for the time being. Shylocks says that Antonio is a good man, but that his means are in supposition, and that he is not sufficient to pay for his bond. He adds that he will buy with Antonio, sell with him, talk to him, walk with him and so on, but he will not eat with him or drink with him. Antonio asks him why he would lend money to a man who has spurned him before, and then asks him to give',\n",
       "  'The Merchant of Venice.act 2.scene 1': \"The Prince of Morocco enters Portia's house and tells her that he does not like her because of her skin color, but because she is his neighbour and near bred. He asks her to bring him the fairest creature northward born, where Phoebus' fire scarce thaws the icicles, to prove whose blood is reddest, his or hers. Portia tells him that she does not fear the valiant, and that the best-regarded virgins of the clime have loved it too. The Prince tells Portia that he would not change this hue, except to steal her thoughts, for he is not solely led by the direction of a maiden's eyes. He tells\",\n",
       "  'The Merchant of Venice.act 2.scene 2': \"Lacelot tells his father that he is Launcelot, his son that was, your son that is, your child that shall be, and asks for his father's blessing. He has brought a present for Bassanio, a Jew who gives rare liveries, to give to his father. He asks Bassano to give him a livery that is more guarded than his fellow servants' livery. Bassano tells him that he cannot get a service because he has no tongue in his head. He tells Leonardo to put on a sober habit, talk with respect, and swear but now and then, and wear prayer-\",\n",
       "  'The Merchant of Venice.act 2.scene 3': \"Scenes 3 and 4 Scene 3 opens in a room in Shylock's house. Jessica tells Launcelot that she is sorry to have to leave her father's house, but there is a ducat for him and a letter for Lorenzo. She promises Lorenzo that if he keeps his promise to become a Christian, she will become his wife. Scene 4 opens in the same room. Lorenzo and Jessica leave. Scene 5 opens with a scene between Shylocks and Lorenzo. Lorenzo tells Jessica that he is leaving because he cannot bear to see her with her father. She tells him to give the letter to her father secretly. Scene 6 opens with the scene between Lorenzo and Sh\",\n",
       "  'The Merchant of Venice.act 2.scene 4': \"Lorenzo, Gratiano, Salanio, and Launcelot enter with the news that Jessica has sent them a letter. They plan to disguise themselves as torch-bearers for the masque, and Lorenzo promises to tell Jessica that he will not fail her. He tells them that he has received a letter from Jessica, and that she has instructed him how to take her from her father's house, and what gold and jewels she has in her possession. He then tells them to meet him at Gratano's lodging an hour later, where he will tell them that Jessica will be the torchbearer for them. The men leave, leaving Launcel\",\n",
       "  'The Merchant of Venice.act 2.scene 5': \"Shylock tells Jessica that he has been invited to a masque and asks her to lock up his house, but she refuses. Shylock says that he will not go to the masque because he is loath to go because he has dreamed of money, and that he does not want to see Christian fools with varnish-faced faces. He tells Jessica to lock the doors and not to look out the windows, because a Christian by will be worth a Jewess' eye. She agrees to do so, but warns him not to go out into the street to look at the Christian fools. She tells him that Jacob's staff will keep him away from the mas.\",\n",
       "  'The Merchant of Venice.act 2.scene 6': \"Lorenzo, dressed in boy's clothes, enters the penthouse of his father's house and tells his friends that he has waited too long for them to come and play the thieves for wives, and that he will watch as long as he has to. He asks Jessica to catch the casket of a casket and tells her that he is certain of their love, but that he cannot be certain of her being his. Antonio enters and Gratano tells him that there will be no masque to-night, since the wind has come about and he has sent twenty men out to seek for him. Antonio asks Gratino where the rest of the men are and Gr\",\n",
       "  'The Merchant of Venice.act 2.scene 7': 'The Prince of Morocco is presented with three caskets, one of which contains a picture of Portia, and the other two of a dull lead and gold. Portia chooses the dull lead casket, which carries the inscription: \"Who chooseth me shall gain what many men desire.\" The gold casket contains the inscription, \"Those who choose me shall get as much as he deserves.\" The silver casket has the inscription \"Those that choose me must give and hazard all he hath.\" The third casket is the one that contains Portia\\'s picture, and Portia decides to choose the one with her picture. The prince chooses the one of the dull cask Morocco opens',\n",
       "  'The Merchant of Venice.act 2.scene 8': 'Salarino tells Antonio that he saw Bassanio and Gratiano under sail, and that Lorenzo and Jessica were seen together in a gondola with Lorenzo and his amorous Jessica. Antonio tells Salarino that they were not in his ship. Antonio asks Salarsio to tell him what he has heard, but not suddenly, for it may grieve him. Antonio says that he will not tell him, for he is not a kind man, and he should keep his day. Salarina tells him that they should go and find the Jew and find out what he knows about the Jew. The Jew tells them that he knows nothing, but that he loves the',\n",
       "  'The Merchant of Venice.act 2.scene 9': 'The Prince of Arragon, Portia, and their trains arrive at Portia\\'s house. Portia asks Arragon to choose the casket in which she is to be buried. Aragon is enjoined by oath to never reveal to Portia which casket he chose. He is also enjoined to never woo a maid in the way of marriage, and if he fails to do so, to leave Portia immediately. The Prince asks Portia to tell him what the title of the chest he is to carry is, and Portia replies, \"Who chooseth me shall get as much as he deserves.\" Aragon opens the silver casket and reads the schedule for his fortunes',\n",
       "  'The Merchant of Venice.act 3.scene 1': \"The next day, Shylock tells Tubal that his daughter's diamond has been stolen, and that he has lost two thousand ducats in Frankfort. Tubal tells him that the thief is in Genoa, where he has heard that Antonio has lost a large sum of money. The servant enters with news that Antonio is at the house of his master's servant, and asks if they can speak with him. He tells them that Antonio wants to speak with them about the villaiy they are about to execute. When they tell him that they have not found her, Tubal says that he will send an officer to find the thief and torture him. The next day\",\n",
       "  'The Merchant of Venice.act 3.scene 2': \"Bassano tells Salansio that he has been invited to accompany him on a trip to Venice. Salansi tells Bassano that Bassano has engag'd himself to a dear friend, Engag'd his friend to his mere enemy, to feed his means. Bassano gives Nerissa a ring with the promise that if he loses it, it will ruin his love for Nerissa. Nerissa tells him that she will never marry him, and that she wishes him all the joy in the world. He asks Portia if Antonio owes him three thousand ducats, and Bassano responds that he owes Antonio twenty times. Portia tells him to pay six duc\",\n",
       "  'The Merchant of Venice.act 3.scene 3': 'Shylock, Salarino, Antonio, and Gaoler enter the street, and Shylock tells them that he will have his bond, and that he has sworn an oath to the Duke of Venice that he would have justice. The gaoler tells them to leave him alone, and they leave. Shyllock tells the gaoler that the Duke will grant him justice, but warns him to beware his fangs, since he is a dog. The Gaoler says that he is sure the Duke cannot deny the course of law, since the trade and profit of the city will be affected if the law is not followed, and asks them to pray that Bassanio will',\n",
       "  'The Merchant of Venice.act 3.scene 4': \"Lorenzo, Nerissa, Portia, Jessica, and Balthasar enter Portia's house. Portia tells Lorenzo to take charge of the house until Bassanio's return. She tells Lorenzo that she has made a vow to live in prayer and contemplation in a monastery two miles away. Lorenzo tells Jessica that he will obey Portia with all his heart, and asks Jessica to wish him good luck. Nerissa tells Baltharas to take the letter to Padua and deliver it to Doctor Bellario, who will give it to her cousin. She then asks BALTHasar to bring the notes and clothes to Venice, where they will be seen by their husbands.\",\n",
       "  'The Merchant of Venice.act 3.scene 5': \"Lucellot and Jessica enter the garden, and he tells her that the sins of the father are to be laid upon the children, and that he fears for her. She tells him that she will be saved by her husband, Launcelot, who has made her a Christian. He tells her there is no mercy for her in heaven, because she is a Jew's daughter, and she is no good to the commonwealth, for converting Jews to Christians will raise the price of pork. He then asks Jessica if she would like the Lord Bassanio's wife, and Jessica replies that she does not, but that she would rather have Portia as a wife. Lacon\",\n",
       "  'The Merchant of Venice.act 4.scene 1': 'Ven Antonio and Shylock are brought before the Duke of Venice, who asks them to explain the difference between the two cases. Antonio confesses that he is a Jew and that he has a bond on his head, and asks for mercy from the Duke. Antonio tells the judge that he will give his hand to his wife, but only if she will give it to him. He offers to give her his hand in marriage, but she refuses him, saying that she loves him more than life itself. Shylocks offers to pay twice the amount offered by Portia for the bond, but he refuses, saying he will be bound to pay it ten times the amount if he is not.',\n",
       "  'The Merchant of Venice.act 4.scene 2': \"Porteria and Nerissa go to Shylock's house and ask him to give them the deed to the Jew's house. They are going to leave the next day, hoping to be home in time for Lorenzo's return. NerisSA asks Gratiano to show her husband's ring, which she had made him swear to keep for ever. She also asks him to take her to the house of her youth, who has given it to her husband. Gratiano enters and tells Nerisza that he has received the ring from Bassanio, and asks her to give it to him. She refuses, saying that she has made her husband swear to\",\n",
       "  'The Merchant of Venice.act 5.scene 1': \"Act V opens in Carthage, where Lorenzo and Jessica are standing on the avenue leading to Portia's house. Jessica tells Lorenzo that she has heard from Dido, who is in Venice, and that she is going to Belmont with a holy hermit and her maid. The musicians enter the house, and Lorrenzo tells them that he has received a post from his master informing him that his master is on his way with good news. He asks them to bring their music into the house and to wake Diana with a hymn and draw her home with music. He tells Jessica that he is never merry when he hears sweet music. Bassano enters, and tells Porticia that he\"},\n",
       " '햄릿': {'Hamlet.act 1.scene 1': 'Act I opens on a platform before the Castle of Elsinore. Two Sentinels, Francisco and Bernardo, watch over the castle. Bernardo asks Francisco if he has seen Horatio and Marcellus, and Francisco replies that he has not seen them. Horatio enters and tells Bernardo that they have seen a piece of him, but that it is only a \"fantasy.\" Bernardo tells Horatio that he will not let belief take hold of him and that they must not believe in it. The next night, Marcelles and Horatio discuss the ghost again, and the ghost tells them that both times it has been in the same form as the dead Danish',\n",
       "  'Hamlet.act 1.scene 2': \"Claudius, King of Denmark, Gertrude the Queen, Polonius, Laertes and his sister Ophelia, Voltemand, Cornelius, and Elsinore are mourning the death of their brother Hamlet, who was killed in a battle with the enemy. Claudius tells them that he has written to Norway, the uncle of Fortinbras, asking for the surrender of the lands lost by his father, with all bands of law, to his most valiant brother. Cornelius replies that his uncle is impotent and bedrid, and that they should dispatch Cornelius to suppress his nephew's rebellion. Hamlet is shocked to see that his father\",\n",
       "  'Hamlet.act 1.scene 3': 'Ophelia and Laertes discuss Hamlet\\'s love for Ophelia, and she tells him that it is not possible for Hamlet to love her, for he is a \"violet in the youth of primy nature, not permanent- sweet, not lasting\" . He tells her to fear it, for his love is not his own, but that of the people of Denmark, and that he is subject to the will of his birth. He warns her to think no more of Hamlet, for \"the temple waxes, and the inward service of the mind and soul ... Grows wide withal.\" He warns his sister to be wary of his love for Laert',\n",
       "  'Hamlet.act 1.scene 4': 'Hamlet, Horatio, and Marcellus enter the platform before the Castle. The ghost of Hamlet appears to Hamlet and tells him to follow it, but Hamlet refuses to go with it. Hamlet asks Horatio what this means, and Horatio replies that it means that the King will wake to-night and take his rouse, keep wassail, and the swaggling upspring reels, and, as he drains his draughts of Rhenish down, the kettledrum and trumpet thus bray out the triumph of his pledge. Ghost enters and tells Hamlet that it is a custom to marry in the breach rather than',\n",
       "  'Hamlet.act 1.scene 5': \"The ghost of Hamlet's father enters the castle and tells Hamlet that his time is near and that he is bound to tell Hamlet the truth about his past. Hamlet asks the ghost to lead him away from the castle, and the ghost tells him that he has been imprisoned there for a certain term and that the serpent that stung him while sleeping in his orchard is now wearing his crown. The ghost says that Hamlet will hear the truth of his past, and promises to tell it to his son. The Ghost then tells the ghost that he will tell the truth to Hamlet, and Hamlet promises to do so.\",\n",
       "  'Hamlet.act 2.scene 1': \"Act Two opens in a room in the house of Polonius and Reynaldo. Reynaldo tells his master that he knows the whereabouts of the Danskers in Paris, and that he has some distant knowledge of his son. He tells the master that they know his son and his father and his friends, and in part him. He also says that they are addicted to gambling, drinking, fencing, swearing, quarreling, and fighting. The master asks Reynaldo to give him the money and the notes he has with him, and tells him that he will visit him to inquire into his son's behaviour. He says that he does not want to put another scandal on him. Op\",\n",
       "  'Hamlet.act 2.scene 2': \"King Polonius and Queen Elsinore welcome Rosencrantz and Guildenstern to the castle. They tell them about Hamlet's transformation and ask them to stay with him for a few days to give him some time to recuperate from his ordeal. Hamlet tells them that he has heard much about them, and that they are the only two men in the world to whom he adheres. The king and queen give up their service to them, saying that they will give their service freely at their feet to Hamlet. Voltem Norway, overcome with joy, gives him three thousand crowns in annual fee, and his commission to employ those soldiers, so that he\",\n",
       "  'Hamlet.act 3.scene 1': \"The King asks Ros Ros to explain to him why Hamlet is so distracted. Ros tells him that certain players have been invited to play before Hamlet, and that he seems to be enjoying the attention. The King asks Gertrude to send Hamlet to the court to give him an edge as well. Hamlet goes to the castle to see King Polonius and Queen Ophelia. He asks them to read the book they have brought with them and to give it to him. They tell him that they are often to blame for the misfortunes of the world, that with devotion's visage and pious action we do sugar o'er the Devil himself.\",\n",
       "  'Hamlet.act 3.scene 2': 'Hamlet and three of the Players enter the Castle and Elsinore instructs them to speak their lines as if they were the town crier. She tells them to be gentle with their speech and not to be too loud. Polonius asks Ham if the King will hear this piece of work and Ham replies that the King and the Queen will hear it and that they must leave the theater immediately. The King, Queen, Ophelia, Rosencrantz, Guildenstern, and other Lords attendant, with the Guard attendant, enter carrying torches carrying torches',\n",
       "  'Hamlet.act 3.scene 3': \"The next day, Hamlet kneels before God and asks for forgiveness for his brother's murther. He asks God to forgive him, but is unable to do so, for he still has his own crown, his own ambition, and his queen. Hamlet asks God what form of prayer can serve his turn, since he cannot ask for forgiveness because he is still in possession of the effects of the murther, and he cannot be pardoned and retain the offence. He pleads with God to pardon him and asks him to help him be saved from the consequences of his actions. He begs God to make him free from the curse of his brother, and begs him to make\",\n",
       "  'Hamlet.act 3.scene 4': 'Hamlet enters the Queen\\'s closet and tells her that he has killed Polonius, the King\\'s brother. The Queen asks him what he has done, but Hamlet says he knows not, and that he is the son of the king\\'s brother and the daughter of the queen\\'s brother\\'s wife. She tells him that she is his mother and that she has taken him for his \"better fortune\" . Hamlet asks his mother what a bloody deed he has committed, and she tells him it is almost as bad as killing a king and marrying his brother. He asks her to look at the picture of the two brothers and to see that they are the image of gods.',\n",
       "  'Hamlet.act 4.scene 1': \"The King and Queen enter with Rosencrantz and Guildenstern and ask where their son Hamlet is. Hamlet has dragged Polonius from his mother's closet and dragged him into the chapel. The Queen tells the King that they will ship Hamlet off to prison, and that they must do this with all their majesty and skill. The two men go to find Hamlet and bring back the body. Rosencrrantz says that he is dismayed by what he has done, and asks Gertrude to come away with him. He is worried that he has made a mistake, for he has poisoned the poisoned shot and that it will miss the name of his\",\n",
       "  'Hamlet.act 4.scene 2': 'Hamlet enters the castle and tells Rosencrantz and Guildenstern that the body is with the King, but the King is not with the body. The two men ask Hamlet to tell them where it is, but Hamlet refuses, saying that he is only a \"sponge\" for the King. Hamlet then tells them that the King keeps the body in the corner of his mouth, like an ape, \"first mouth\\'d, to be last swallowed.\" Hamlet tells them to bring the body to the King and hide the fox, and all after. The men leave, and Hamlet returns to the castle. Scene II Hamlet enters and tells the',\n",
       "  'Hamlet.act 4.scene 3': 'King Polonius asks Hamlet and Guildenstern where the body is, and Hamlet tells him that it is in heaven. The king sends his messenger to find it, but Hamlet asks him to go to the place where he eats, not where he lives, but where he is eaten. Hamlet then tells the king that a man may fish with the worm that eats of a king, and eat of the fish that fed of that worm. The worm is the only emperor for diet, Hamlet says, and we fat ourselves for maggots. He then tells Hamlet that a king may go a progress through the guts of a beggar, and that Hamlet',\n",
       "  'Hamlet.act 4.scene 4': 'Hamlet, Rosencrantz, Guildenstern, and others enter the stage, and Hamlet asks the captain of Fortinbras\\' army where they are headed. The captain tells Hamlet that they are going to Poland to gain a little patch of ground that has \"no profit but the name\" . Hamlet thanks the captain for his advice, and the captain replies that the land is already garrisoned, and that he will not debate the question of whether or not to sell it to Norway or the Pole. Hamlet says he will be with the captain a little before the rendezvous. Marlow asks Hamlet how he can stand by and watch the death',\n",
       "  'Hamlet.act 4.scene 5': 'Ophelia\\'s father, Horatio, tells her that her father, Polonius, has died. She sings a song about him, and the Queen asks Oph, \"Where is the beauteous Majesty of Denmark?\" . Oph replies that he does not know, and asks the Queen, \"How should I your true-love know from another one? . . . By his cockle bat and\\' staff and his sandal shoon?\" . Ophelia sings again, \"He is dead and gone, lady, he is dead.\" Horatio tells them that they must be patient, but he weeps to',\n",
       "  'Hamlet.act 4.scene 6': 'Horatio enters the castle and is greeted by sailors who say they have letters for him from Hamlet. Horatio reads the letter and is told to give the letters to the King of England. Hamlet tells Horatio that Rosencrantz and Guildenstern are on their way back to England and that he has much to tell him. He asks Horatio to tell Hamlet where he is, and Horatio replies that he knows where Hamlet is. The two men leave, and Hamlet says that he will send the letters back to Horatio when he is ready. Horio tells Hamlet that he is going to give them to Hamlet, and that Ham',\n",
       "  'Hamlet.act 4.scene 7': \"Laertes asks Elsinore why he did not kill the man who killed his father, and Elsinores replies that he did it for two reasons: The first is to protect his mother and sister, and the second is for the love of his mother's daughter, Elinore. He tells the king that he and his sister love each other, so that they can let their beard be shook with danger and think it a pastime. The king tells Elinores that he will soon tell her that he loves her and that she must\",\n",
       "  'Hamlet.act 5.scene 1': \"Elinor is buried in a churchyard and two clowns enter with spades and pickaxes. They argue that she drowned herself in her own defence, so she must have committed an act of self-defence. They also argue that there are no ancient gentlemen but gardners, ditchers, and grave-makers, and they hold up Adam's profession by saying he was the first man to dig without arms. Ophelia's father tells Hamlet that she should have been Hamlet's wife, and that he wishes she had not strewed her grave.\",\n",
       "  'Hamlet.act 5.scene 2': \"The next day, Hamlet tells Horatio that he had to unseal the commission for the play and that he found an exact command for him to write a new play. He then sat down and wrote a new commission and wrote it fair, but that he forgot how to do it. The next day Hamlet asks Horatio to explain how he got the Danish seal. He says he had his father's signet in his purse, which was the model of that Danish seal, and folded the writ up in the form of the other, Subscrib'd it, gave the\"},\n",
       " '걸리버_여행기': {\"Gulliver's Travels.part 1.chapter 1\": \"Part I begins with an account of the author's life in Nottinghamshire. He is the third of five sons and his father sent him to Emmanuel College in Cambridge at 14 years old. There he studied physic for two years and seven months, knowing it would be useful in long voyages. After his return from Leyden, he was an apprentice to Mr. James Bates, an eminent surgeon in London, for four years. When he left Mr. Bates, he went down to his father, where, by the assistance of his uncle John and some other relations, he got forty pounds and a promise of thirty pounds a year, to maintain him at Leyden.\",\n",
       "  \"Gulliver's Travels.part 1.chapter 2\": \"The emperor of Lilliput, accompanied by several of his advisors, comes to see the author in his confinement. He is surprised to find the author's weapons and weapons taken from him. The emperor orders all the villages to deliver in, every morning, six beeves, forty sheep, and other victuals for his sustenance. He orders six hundred servants, tailors, scholars, and scholars to make him a suit of clothes, and six hundred domestics to be his domestics. He also orders that the emperor's horses should be frequently exercised in my sight, to accustom themselves to me. In about three\",\n",
       "  \"Gulliver's Travels.part 1.chapter 3\": 'In Chapter III, The Diversions of the Court of Lilliput, the author has his liberty granted on certain conditions. He uses this privilege to divert attention from the emperor and his court by asking the emperor to entertain him with a dance on the rope. This diversion is only practised by those who are candidates for great employments and high favor at court. They are trained in this art from their youth and are not always of noble birth or liberal education. When a great office is vacant, five or six of those candidates petition the Emperor to entertain his majesty, and the court, and whoever jumps the highest, without falling, succeeds in the office.',\n",
       "  \"Gulliver's Travels.part 1.chapter 4\": \"The author is granted permission by the emperor to visit Milendo, the metropolis of Milendo. The city is an exact square, each side of the wall being five hundred feet long. The emperor's palace is in the centre of the city, where the two greatstreets meet. It is enclosed by a wall of two foot high, and twenty foot distant from the buildings. The town is capable of holding five hundred thousand souls; the houses are from three to five stories. The shops and markets are well provided.\",\n",
       "  \"Gulliver's Travels.part 1.chapter 5\": \"The Emperor of Blefuscu is on the island of Lilliput, separated from the rest of the empire by a channel of eight hundred yards wide. He has not yet seen the enemy's fleet at anchor in the harbor, so he orders orders for the strongest cable and iron bars of iron to be made into a hook. Having fixed fifty hooks to as many cables, he went back to the northeast coast and put off his coat, shoes, and stockings, walked into the sea in his leathern jerkin, and swam in the middle of the sea for about thirty yards. He arrived at the fleet in less than half an hour. The enemy were so frightened,\",\n",
       "  \"Gulliver's Travels.part 1.chapter 6\": \"The narrator describes his first nine months and thirteen days in England, during which he has made a table and chair out of trees in the royal park. The Lilliputians' common size is somewhat under six inches high, so there is an exact proportion in all other animals, plants and trees. Their learning is very peculiar, being neither from the left to the right nor from the right to the left, like the Arabians, nor from up to down. All crimes against the state are punished with the most severity, but if the person accused maketh his innocence plainly to appear upon his trial, the accuser is immediately put to an ignominious death.\",\n",
       "  \"Gulliver's Travels.part 1.chapter 7\": \"In Chapter VII, the author is informed of a design to accuse him of high treason, and he decides to flee to Blefuscu. He has been a stranger to courts for his entire life, and has never been able to enter one before. One night, a man who is a member of the emperor's court comes to the author's house and asks to speak with him privately. He tells the author that the emperor has recently resolved a dispute between him and the king, and that the king has called several committees of council in a private manner on his account. The next day, he leaves the palace and goes to Blefur Skyrris Bolgolam, the high-\",\n",
       "  \"Gulliver's Travels.part 1.chapter 8\": 'Scalcath sets sail from Blefuscu on the twenty-fourth day of September, 1701. He takes with him six cows and two bulls alive, with as many ewes and lambs, intending to carry them into his own country and propagate the breed. Three days after arriving on the island, he notices a boat overturned in the sea. He wades to the shore and finds the overturned boat, which is being towed by the tide. He strips off his clothes and swims to the boat, where he is joined by seamen who provide him with a cord to tie it to a man-of-war. After a few days, the tide pushes the',\n",
       "  \"Gulliver's Travels.part 2.chapter 1\": \"The novel begins with a description of a great storm and ends with the author's description of the people of the island of Brobdingna. The narrator describes how he and the farmer are separated by a storm and the narrator is sent to the bottom of the sea to be rescued by a ship. The novel then moves on to describe a voyage to Brobbingna in which he is rescued by one of the natives and is taken to the house of a farmer.\",\n",
       "  \"Gulliver's Travels.part 2.chapter 2\": \"The author is taken to a market town and then to the Metropolis, where he meets a nine-year-old girl named Grildrig, who is the daughter of a farmer's wife. She is a good-natured girl, not above forty feet high, being little for her age, and very dexterous at needlework. She makes the author seven shirts of fine cloth of as fine cloth as could be got, which indeed was coarser than sackcloth. She was also his schoolmistress, to teach him the language. She gave him the name of Grildig, which the family took up, and afterwards the whole kingdom. The next morning, Glumdal\",\n",
       "  \"Gulliver's Travels.part 2.chapter 3\": 'The author is sent to court by the queen, and is in high favor with the queen and her courtiers. He is given an apartment at court, and he is given the honor of being a member of the royal family. The queen orders her own cabinet-maker to make a room for her to live in and he builds a wooden chamber of 16 feet square and 12 feet high. He gives three of the wasps to Gresham college and keeps one for himself. He has also given three of them to the university and one to himself. No one knows what happened to the fourth wasp.',\n",
       "  \"Gulliver's Travels.part 2.chapter 4\": \"The author gives a brief description of the kingdom, describing it as a peninsula terminated to the northeast by a ridge of mountains, thirty miles high, which are altogether impassable, by reason of the volcanoes upon the tops. There is not one sea-port in the whole kingdom, and those parts of the rivers issue, are so full of pointed rocks, and the sea generally so rough, that there is no venturing with the smallest of their boats. The walls are nearly a hundred feet thick, built of hewn stone, and adorned on all sides with statues of statues of gods and emperors. The king's kitchen is a noble building, vaulted at top, and about\",\n",
       "  \"Gulliver's Travels.part 2.chapter 5\": 'In Chapter V, the author describes some of the adventures that have happened to him while he was living in the court of Glumdalclitch. He describes how he was injured by a hail storm and was so badly hurt that he was unable to go abroad for ten days. The author also describes a time when he was struck by hail stones that left him with such severe injuries that he could not leave the house for a week. He explains that he had to shelter himself on the lee-side of a border of lemon-thyme. One day, while one of the chief gardeners happened to the place where he lay and carried him in his mouth.',\n",
       "  \"Gulliver's Travels.part 2.chapter 6\": 'Grildrig gives the king a detailed account of the events of the last century, and the king is astonished at the lack of violence and corruption. Grildrig concludes with a brief historical account of affairs and events in England. The King tells the king that he believes the majority of his people to be \"the most pernicious race of little odious vermin that nature ever suffered to crawl upon the surface of the earth.\"',\n",
       "  \"Gulliver's Travels.part 2.chapter 7\": \"Chapter VII is devoted to the author's love of his own country, and he makes a proposal to the king that is rejected. He argues that the king's ignorance of politics and the manners and customs of other countries should be given to a king who lives secluded from the rest of the world. He also argues that he would like to hide the faults and deformities of his political mother, and place her virtues and beauty in the most advantageous light. Chapter VIII is dedicated to the law, the laws of the state and the laws and Glumdalclitch is able to borrow books from the queen's joiner.\",\n",
       "  \"Gulliver's Travels.part 2.chapter 8\": 'After two years in England, Swift returns to the kingdom of Lorbrulgrud. He is the favorite of the king and queen, and the delight of the whole court, but he cannot forget those domestic pledges he had left behind. The queen is ill with a small cold, and asks the page to take her out on a walk to the sea. While she is asleep, she is suddenly awakened by a violent pull on the ring. Swift introduces the term \"pistoles\" and \"trencher-side\" . Pistoles are about three dollars and sixty cents. Trencher side is a trencher or wooden plate attached to a wooden plate.'},\n",
       " '로미오와_줄리엣': {'Romeo and Juliet.act 1.scene 1': \"Sampson and Gregory enter Verona with swords and bucklers of the house of Capulet. Sampson tells Gregory that he will take the wall of any man or maid of Montague's house that moves him. Two other Montagues, Abram and Balthasar, enter with two other Servingmen and Sampson throws his naked weapon at them. He tells them to take it in the sense that feel it. Benvolio asks Gregory if it is the law of the side if he bites his thumb at them, and Gregory replies that he does not bite his thumb, but he will bite it at them if they Romeo and Juliet are talking about Romeo's father's death.\",\n",
       "  'Romeo and Juliet.act 1.scene 2': \"Capulet asks the Clown to go with him to Verona to find the names of the women whose names are written on the list of those who are to be invited to stay at his house that night, and to invite them to the party. Benvolio asks Romeo to help him find them, and asks Romeo if he can read the letters and the language. The two men leave, and the next day, Romeo tells the others that he is mad, and is bound more than a madman is in prison. Ben Ben asks the servants to invite the Montagues and Capulets to a dinner party at Capulet's house. The servants tell Ben that they are taking Ros\",\n",
       "  'Romeo and Juliet.act 1.scene 3': 'Capulet\\'s Wife and Nurse enter the house, and Capulet\\'s wife asks where his daughter is. Juliet enters and tells her mother that she is twelve years old, and that she has been weaned from her mother\\'s womb eleven years ago, and will be 14 on Lammas Eve. Capulet tells his wife that his daughter will be fourteen on that day, and he will marry her that night. Juliet\\'s mother asks her daughter, \"How stands your disposition to be married? It is an honour that I dream not of.\"',\n",
       "  'Romeo and Juliet.act 1.scene 4': \"Romeo, Mercutio, Benvolio, and five or six other Maskers enter a street carrying torches. They are the Torchbearers, who are carrying torches, and they ask the Maskers to give them a torch so they can carry the light. Romeo refuses, saying that he is too heavy to carry a torch, and that he cannot fly with Cupid's wings. He asks for a case to put his visage in, a visor for his visor, and a case for his beetle brows. Ben asks the mice to come to the masque, but they refuse, saying they have no wit to go. The constable tells them that\",\n",
       "  'Romeo and Juliet.act 1.scene 5': \"The Maskers enter Capulet's house, and Capulet tells them that he is past his dancing days, and that he and Juliet are past their dancing days. Tyb, Cap.'s uncle, tells Romeo that he has come to kill him, for he is a Montague, and Romeo replies that it is not a sin for him to strike him dead, for by the stock and honour of his kin, he holds it not a crime to do so. Ben tells the Maskers to go to bed, but Romeo tells them to stay, saying that the more restless he is, the more unrestful he is. Juliet's mother wants to speak with Romeo about her daughter, and\",\n",
       "  'Romeo and Juliet.act 2.scene 1': 'In Act II, Scene I, Romeo climbs the wall of Capulet\\'s orchard and leaps down into the orchard. Mercutio and Benvolio enter with Romeo and ask him to conjure Romeo, who is hiding among the trees, to speak to them in the likeness of Rosaline\\'s voice and to speak only one word: \"Love\" or \"dove\" . Ben Volio calls on Romeo to speak one word of rhyme: \"Hear but one rhyme, pronounce but \\'love\\' and \\'dove\\' . . . Speak to my gossip Venus one fair word, one nickname for her purblind son and heir, Young Adam Cupid.\" Romeo asks',\n",
       "  'Romeo and Juliet.act 2.scene 2': \"Romeo and Juliet are in Capulet's orchard in the orchard, and Romeo jests at scars that never felt a wound. Juliet is sick and pale with grief, and her vestal livery is green and sick and green, and none but fools do wear it. She speaks, yet she says nothing. Romeo asks her to speak again, bright angel, for he wants to hear her speak again. She tells him to deny his father and refuse his name, and if he refuses, he will no longer be a Capulet. She asks Romeo to send a letter to her father's cell at 9 a.m., and he promises to return at 9 p.m\",\n",
       "  'Romeo and Juliet.act 2.scene 3': \"Friar Laurence tells his son Romeo that he must up-fill the earth with weeds and flowers to fill the empty space left by the dead bodies of the dead. He explains that the earth is the mother of all things, and the earth that's mother is her tomb, and nature's children are the children of her womb. The earth is full of virtues and vice, but it is also full of grace and power, and it is possible to turn vice into virtue by action, and vice by action dignified. He tells Romeo to go to bed, and Romeo tells his father that he will see him in the morning. The next morning, Friar Friar asks Romeo where he\",\n",
       "  'Romeo and Juliet.act 2.scene 4': \"Tybalt, the kinsman to old Capulet, sends a letter to his father's house, challenging Benvolio and Mercutio to confront him. Tybalt's letter is addressed to Romeo, who is not at home, and asks that he answer the letter. BenVolio replies that he has spoken with his man, who tells him that Romeo is already dead, having been stabbed with a wench's black eye, shot through the ear with a love song, and cleft with a blind bow-boy's butt-shaft. The nurse tells the merchant that she will take him down if he speaks anything against her, and if he does not, she will\",\n",
       "  'Romeo and Juliet.act 2.scene 5': \"Juliet returns to Capulet's orchard and tells him that she has not yet met him, and that she will be back in half an hour. She asks Peter to stay at the gate and asks Nurse Jesu to stay with her for a few minutes, saying that she is out of breath. When she returns, she tells him she has met Capulet, and asks him to send Peter away. She then asks him if his news is good or bad, and he tells her that it is either good or not, and she will stay in the circumstance. The next day, Juliet asks the nurse to give her a poultice for her aching bones. The nurse tells her\",\n",
       "  'Romeo and Juliet.act 2.scene 6': \"Laurence and Romeo are alone in Friar Laurence's cell. Juliet enters, and Friar Friar tells Juliet that he is going to make short work of the two of them, and that he will not leave them alone until the Holy Church incorporates the two in one. Juliet tells him that she is not in love with him, but that she loves him more than money, and he replies that he cannot sum up the value of his love for her. He tells her that his true love is so great that it cannot be measured, and asks her to give him the measure of her joy. Juliet replies that she would rather have his joy than his money. Friar\",\n",
       "  'Romeo and Juliet.act 3.scene 1': 'Mercutio, Benvolio, Tybalt, and Men enter a public place and Mercutio suggests that they retire, since it is hot and the Capulets are abroad. Ben Volio, however, says that they must not retire, for they will not be able to avoid a brawl because of the \"mad blood stirring\" in the heat of the day. They argue about the nature of a quarrel between two men, one of whom would kill the other, and Mercuio says that he is so prone to quarrels that he would sell his life for the fee simple of an hour and a quarter to avoid it. Romeo enters, and he tells Tyb that',\n",
       "  'Romeo and Juliet.act 3.scene 2': 'The nurse returns with the news that Tybalt is dead, and Romeo is banished from the court. Juliet asks Romeo if he has slain himself, and the nurse tells Juliet to give the ring to Laurence, and to give it to Romeo. Juliet enters the orchard alone and tells Romeo that she has bought the mansion of a love, but she has not yet possessed it. She asks him to give her his Romeo, and she will cut him out in stars when he dies, and he will make the face of heaven so fine that all the world will be in love with night and pay no worship to the garish sun.',\n",
       "  'Romeo and Juliet.act 3.scene 3': 'The next morning, Romeo returns to the house and is greeted by the nurse, who tells him to tell his wife that he has come, and to tell her to prepare to chide her husband. She warns him not to stay too long, for the watch will be set Romeo is coming, and the nurse gives him a ring to give to the Friar. The Friar tells him that he must go, for it is too late, and that he will return to Mantua to find out the identity of the man. He tells Romeo that he is sorry to part with him, but that a joy past joy calls out on him.',\n",
       "  'Romeo and Juliet.act 3.scene 4': \"Capulet's house. Old Capulet, his Wife, and Paris enter, and Capulet tells them that Juliet will not come down to-night because she is too upset by the death of Tybalt. He tells them to tell Juliet of Paris' love for her, and ask her to marry him on Wednesday next week. Paris asks Capulet if they will be ready for the wedding on that day, and he suggests a Thursday. Capulet replies that it is too late, and that he would have been asleep an hour ago if it were not for his wife's company. He then tells his wife to go to Juliet's room and tell her of his son Paris'\",\n",
       "  'Romeo and Juliet.act 3.scene 5': 'Tybalt tells his wife that Romeo is still alive, and that she should not weep for his death, but for that of the villain who killed him. He tells her that he will send a poison to a man in Mantua to give it to Romeo, so that he can keep him company. He will also tell her that Romeo will marry her the next day. Lady Wisdom asks her husband to speak to her, but he refuses to listen to her. She asks him to get her to church on a Thursday, or she will never look him in the face again. She tells him that she is too hot, too tired, and too ill to speak, and',\n",
       "  'Romeo and Juliet.act 4.scene 1': \"Juliet enters Friar Laurence's cell and tells him that her father has arranged for her to be married to him on Thursday. The Friar tells her that he does not know what her mind is, but that he is sure that she does not love him. Juliet confesses to the Friar that she loves him and that she will confess it to him if he will not deny it to his father. She says that she would confess it behind his back if he would allow it, but if he does, it will be of more price than if she confesses it in front of him. She asks him to tell her how she can prevent the execution of her husband.\",\n",
       "  'Romeo and Juliet.act 4.scene 2': \"Capulet asks his servants to hire twenty cooks, but one of them refuses to do so, saying that he cannot lick his own fingers. The next morning, he tells his mother that they will be short in their provision, and that they must go to the church to-day. He asks his wife to go with them, and she tells him that she will go with him. He tells his wife that he is going to play the housewife for this once, and asks her to help him deck up Juliet. She agrees, and they go to church. Capulet's mother says she will wait until Thursday, and he tells her that he will go to County Paris to prepare\",\n",
       "  'Romeo and Juliet.act 4.scene 3': 'Juliet asks the nurse and mother to leave her alone to-night, for she needs to act alone. She fears that Romeo will not be able to redeem her, for he has been married to her before and has not yet been tried as a holy man. The nurse gives her a vial of poison and tells her to put it in her handkerchief. The next morning, Juliet tells Romeo that she will not marry him until the next day. She is afraid that if the poison does not work, she will be buried in the tomb, and Romeo will never see her again. She also fears that Tybalt, who has been dead for a century, is buried in',\n",
       "  'Romeo and Juliet.act 4.scene 4': \"Capulet's house. Lady of the House and Nurse fetch more spices, nurse. They call for dates and quinces in the pastry. Old Capulet stirs, stirs and stirs. The curfew bell has rung, 'tis three o'clock. Nurse. Nurse: Go waken Juliet; go and trim her up; I'll go and chat with Paris. Capulet: The bridegroom he is come already: Make haste, I say. Exeunt Lady and Nurse. Three or four Fellows, with spits and logs and baskets, with things for the cook, sir; but I know not what. The County will be here with music straight\",\n",
       "  'Romeo and Juliet.act 4.scene 5': \"Juliet is asleep in her bed, and the nurse enters to wake her. She tells her to take her pennyworths and sleep for a week. The next night, the County Paris will take her in his bed for the night, and she will only rest a little. The Friar and the County arrive, and Friar asks Juliet if she is ready to go to church. Juliet tells them that she is not ready, and they tell her to go, but never to return. Juliet's mother enters and tells the nurse that her daughter is dead. The nurse tells the Friar that Juliet's blood has settled, and her joints are stiff, and that life and\",\n",
       "  'Romeo and Juliet.act 5.scene 1': 'In Mantua, a beggar named Apoth is living in a house covered in weeds and surrounded by weeds. He has a tortoise hanging in his shop, an alligator stuff\\'d, and other skins of ill-shaped fishes; and about his shelves are empty boxes, green earthen pots, bladders, and musty seeds. Apoth asks for forty ducats to buy a dram of poison, but Mantua\\'s law is death to any man who utters the words \"poison\" . The beggar\\'s shop is shut for the holiday, so Apoth goes to the apothecary, who offers to sell him the poison for a quarter',\n",
       "  'Romeo and Juliet.act 5.scene 2': \"The Friar Laurence enters the cell of Friar John and asks him to send Romeo's letter to Juliet, but John is unable to do so, for the plague has closed the doors of the house, and the townspeople are afraid of infection. Laurence tells John that he will write to Romeo again and ask him to keep Juliet in his cell until Romeo arrives. John tells him that Juliet will wake in three hours, and that he must go to the monument alone. The Friar asks John to get an iron crow and bring Juliet's letter back to him, and John agrees. The friar tells the friar that he cannot send the letter to Romeo, for\",\n",
       "  'Romeo and Juliet.act 5.scene 3': 'Romeo and Cleopatra enter the tomb of Montague, who has been banished for the murder of Romeo\\'s cousin\\'s wife. The two men discuss how they will apprehend Montague and convince him to go with them in order to bring justice to the dead bodies. Juliet enters the tomb and finds Romeo and Paris dead, and asks the Friar to dispose of her husband and Paris among a sisterhood of nuns. She takes Romeo\\'s dagger and gives it to him, saying, \"This is thy sheath; there rest, and let me die.\" She then stabs herself and falls on Romeo\\'s body. The Watch enters, and the Chief Watch tells them that the ground is'}}"
      ]
     },
     "execution_count": 3,
     "metadata": {},
     "output_type": "execute_result"
    }
   ],
   "source": [
    "book_dict"
   ]
  },
  {
   "cell_type": "markdown",
   "metadata": {
    "id": "gd-vX3cavOCt"
   },
   "source": [
    "# **Stable Diffusion using Diffusers** 🎨 "
   ]
  },
  {
   "cell_type": "markdown",
   "metadata": {
    "id": "QYOlvQ1nQL7c"
   },
   "source": [
    "### Setup\n",
    "\n",
    "First, please make sure you are using a GPU runtime to run this notebook, so inference is much faster. If the following command fails, use the `Runtime` menu above and select `Change runtime type`."
   ]
  },
  {
   "cell_type": "code",
   "execution_count": 6,
   "metadata": {},
   "outputs": [
    {
     "data": {
      "text/plain": [
       "False"
      ]
     },
     "execution_count": 6,
     "metadata": {},
     "output_type": "execute_result"
    }
   ],
   "source": [
    "import torch\n",
    "torch.cuda.is_available()"
   ]
  },
  {
   "cell_type": "code",
   "execution_count": null,
   "metadata": {},
   "outputs": [],
   "source": [
    "!conda install pytorch torchvision torchaudio pytorch-cuda=11.6 -c pytorch -c nvidia"
   ]
  },
  {
   "cell_type": "code",
   "execution_count": 4,
   "metadata": {
    "id": "zHkHsdtnry57"
   },
   "outputs": [
    {
     "name": "stdout",
     "output_type": "stream",
     "text": [
      "Tue Nov 15 01:04:31 2022       \n",
      "+-----------------------------------------------------------------------------+\n",
      "| NVIDIA-SMI 512.15       Driver Version: 512.15       CUDA Version: 11.6     |\n",
      "|-------------------------------+----------------------+----------------------+\n",
      "| GPU  Name            TCC/WDDM | Bus-Id        Disp.A | Volatile Uncorr. ECC |\n",
      "| Fan  Temp  Perf  Pwr:Usage/Cap|         Memory-Usage | GPU-Util  Compute M. |\n",
      "|                               |                      |               MIG M. |\n",
      "|===============================+======================+======================|\n",
      "|   0  NVIDIA GeForce ... WDDM  | 00000000:01:00.0  On |                  N/A |\n",
      "| 50%   31C    P8     6W /  75W |    343MiB /  4096MiB |      2%      Default |\n",
      "|                               |                      |                  N/A |\n",
      "+-------------------------------+----------------------+----------------------+\n",
      "                                                                               \n",
      "+-----------------------------------------------------------------------------+\n",
      "| Processes:                                                                  |\n",
      "|  GPU   GI   CI        PID   Type   Process name                  GPU Memory |\n",
      "|        ID   ID                                                   Usage      |\n",
      "|=============================================================================|\n",
      "|    0   N/A  N/A      1184    C+G                                   N/A      |\n",
      "|    0   N/A  N/A      5036    C+G   ...y\\ShellExperienceHost.exe    N/A      |\n",
      "|    0   N/A  N/A      7276    C+G   C:\\Windows\\explorer.exe         N/A      |\n",
      "|    0   N/A  N/A      7568    C+G   ...lPanel\\SystemSettings.exe    N/A      |\n",
      "|    0   N/A  N/A      7692    C+G   ...logioptionsplus_agent.exe    N/A      |\n",
      "|    0   N/A  N/A      8200    C+G   ...me\\Application\\chrome.exe    N/A      |\n",
      "|    0   N/A  N/A     10416    C+G   ...artMenuExperienceHost.exe    N/A      |\n",
      "|    0   N/A  N/A     11328    C+G   ...5n1h2txyewy\\SearchApp.exe    N/A      |\n",
      "|    0   N/A  N/A     12612    C+G   ...cw5n1h2txyewy\\LockApp.exe    N/A      |\n",
      "|    0   N/A  N/A     15800    C+G   ...e\\PhoneExperienceHost.exe    N/A      |\n",
      "|    0   N/A  N/A     16168    C+G   ...2txyewy\\TextInputHost.exe    N/A      |\n",
      "|    0   N/A  N/A     17092    C+G   ...wekyb3d8bbwe\\Music.UI.exe    N/A      |\n",
      "|    0   N/A  N/A     17236    C+G   ...6.0.3.0\\GoogleDriveFS.exe    N/A      |\n",
      "|    0   N/A  N/A     18116    C+G   ...ge\\Application\\msedge.exe    N/A      |\n",
      "|    0   N/A  N/A     19692    C+G   ...t\\Teams\\current\\Teams.exe    N/A      |\n",
      "|    0   N/A  N/A     21184    C+G   ...t\\Teams\\current\\Teams.exe    N/A      |\n",
      "+-----------------------------------------------------------------------------+\n"
     ]
    }
   ],
   "source": [
    "!nvidia-smi"
   ]
  },
  {
   "cell_type": "code",
   "execution_count": null,
   "metadata": {
    "id": "aIrgth7sqFML"
   },
   "outputs": [],
   "source": [
    "!pip install diffusers==0.3.0\n",
    "!pip install transformers scipy ftfy\n",
    "!pip install \"ipywidgets>=7,<8\""
   ]
  },
  {
   "cell_type": "code",
   "execution_count": null,
   "metadata": {
    "id": "OtrOo8YPoM2b"
   },
   "outputs": [],
   "source": [
    "from google.colab import output\n",
    "output.enable_custom_widget_manager()"
   ]
  },
  {
   "cell_type": "code",
   "execution_count": null,
   "metadata": {
    "id": "8TRAh8G6sNfA"
   },
   "outputs": [],
   "source": [
    "# huggingface token 입력 (write token)\n",
    "from huggingface_hub import notebook_login\n",
    "\n",
    "notebook_login()"
   ]
  },
  {
   "cell_type": "markdown",
   "metadata": {
    "id": "3NnPOMAqAABv"
   },
   "source": [
    "### Stable Diffusion Pipeline 불러오기"
   ]
  },
  {
   "cell_type": "code",
   "execution_count": null,
   "metadata": {
    "id": "xSKWBKFPArKS"
   },
   "outputs": [],
   "source": [
    "import torch\n",
    "from diffusers import StableDiffusionPipeline\n",
    "\n",
    "# make sure you're logged in with `huggingface-cli login`\n",
    "pipe = StableDiffusionPipeline.from_pretrained(\"CompVis/stable-diffusion-v1-4\", revision=\"fp16\", torch_dtype=torch.float16, use_auth_token=True)  "
   ]
  },
  {
   "cell_type": "markdown",
   "metadata": {
    "id": "8MgNzTxwbASv"
   },
   "source": [
    "Next, let's move the pipeline to GPU to have faster inference."
   ]
  },
  {
   "cell_type": "code",
   "execution_count": null,
   "metadata": {
    "id": "LA9myHTxbDhm"
   },
   "outputs": [],
   "source": [
    "pipe = pipe.to(\"cuda\")"
   ]
  },
  {
   "cell_type": "code",
   "execution_count": null,
   "metadata": {
    "id": "yEErJFjlrSWS"
   },
   "outputs": [],
   "source": [
    "from torch import autocast\n",
    "from PIL import Image"
   ]
  },
  {
   "cell_type": "code",
   "execution_count": null,
   "metadata": {
    "id": "ckUKKBtQHB3E"
   },
   "outputs": [],
   "source": []
  },
  {
   "cell_type": "markdown",
   "metadata": {
    "id": "UZp-ynZLrS-S"
   },
   "source": [
    "## Pipeline with `diffusers`"
   ]
  },
  {
   "cell_type": "code",
   "execution_count": null,
   "metadata": {
    "id": "IA-VoQm3YW-5"
   },
   "outputs": [],
   "source": [
    "import torch\n",
    "torch_device = \"cuda\" if torch.cuda.is_available() else \"cpu\""
   ]
  },
  {
   "cell_type": "code",
   "execution_count": null,
   "metadata": {
    "id": "xlsKwQijWMpL"
   },
   "outputs": [],
   "source": [
    "from transformers import CLIPTextModel, CLIPTokenizer\n",
    "from diffusers import AutoencoderKL, UNet2DConditionModel, PNDMScheduler\n",
    "\n",
    "# 1. Load the autoencoder model which will be used to decode the latents into image space. \n",
    "vae = AutoencoderKL.from_pretrained(\"CompVis/stable-diffusion-v1-4\", subfolder=\"vae\", use_auth_token=True)\n",
    "\n",
    "# 2. Load the tokenizer and text encoder to tokenize and encode the text. \n",
    "tokenizer = CLIPTokenizer.from_pretrained(\"openai/clip-vit-large-patch14\")\n",
    "text_encoder = CLIPTextModel.from_pretrained(\"openai/clip-vit-large-patch14\")\n",
    "\n",
    "# 3. The UNet model for generating the latents.\n",
    "unet = UNet2DConditionModel.from_pretrained(\"CompVis/stable-diffusion-v1-4\", subfolder=\"unet\", use_auth_token=True)"
   ]
  },
  {
   "cell_type": "markdown",
   "metadata": {
    "id": "8eYstOqwVYGc"
   },
   "source": [
    "Now instead of loading the pre-defined scheduler, we load a K-LMS scheduler instead."
   ]
  },
  {
   "cell_type": "code",
   "execution_count": null,
   "metadata": {
    "id": "g-0W8UG6VXpD"
   },
   "outputs": [],
   "source": [
    "from diffusers import LMSDiscreteScheduler\n",
    "\n",
    "scheduler = LMSDiscreteScheduler(beta_start=0.00085, beta_end=0.012, beta_schedule=\"scaled_linear\", num_train_timesteps=1000)"
   ]
  },
  {
   "cell_type": "code",
   "execution_count": null,
   "metadata": {
    "id": "S3lJEXz7YgnC"
   },
   "outputs": [],
   "source": [
    "from torch import autocast\n",
    "\n",
    "vae = vae.to(torch_device)\n",
    "text_encoder = text_encoder.to(torch_device)\n",
    "unet = unet.to(torch_device) "
   ]
  },
  {
   "cell_type": "code",
   "execution_count": null,
   "metadata": {
    "id": "7uj6QlfqnqGh"
   },
   "outputs": [],
   "source": [
    "# ct_lst = context.split(\".\")\n",
    "# name = input()\n",
    "# data = [x for x in ct_lst if name in x]\n",
    "# data = '.'.join(data)"
   ]
  },
  {
   "cell_type": "code",
   "execution_count": null,
   "metadata": {
    "id": "swFEO5pey0CH"
   },
   "outputs": [],
   "source": [
    "book_title = 'Frankenstein'"
   ]
  },
  {
   "cell_type": "code",
   "execution_count": null,
   "metadata": {
    "id": "zze_RgqMsewE"
   },
   "outputs": [],
   "source": [
    "#context = \"It is with considerable difficulty that I remember the original aera of my being: all the events of that period appear confused and indistinct. A strange multiplicity of sensations seized me, and I saw, felt, heard, and smelt, at the same time; and it was, indeed, a long time before I learned to distinguish between the operations of my various senses. I was a poor, helpless, miserable wretch; I knew, and could not know, nothing; but, feeling pain invade me on all sides, I sat down and wept. Soon a gentle light stole over the heavens, and gave me a sensation of pleasure. It moved slowly, but\""
   ]
  },
  {
   "cell_type": "code",
   "execution_count": null,
   "metadata": {
    "id": "ot8RDV-2Y6uE"
   },
   "outputs": [],
   "source": [
    "prompt = ['4k wallpaper, high quality, high realism photo,' + context]\n",
    "width = 512                         # default width of Stable Diffusion\n",
    "\n",
    "num_inference_steps = 100            # Number of denoising steps\n",
    "\n",
    "guidance_scale = 7.5                # Scale for classifier-free guidance\n",
    "\n",
    "generator = torch.manual_seed(34)   # Seed generator to create the inital latent noise\n",
    "# generator = torch.manual_seed(1106)\n",
    "# generator = torch.manual_seed(322)\n",
    "# generator = torch.manual_seed(812)\n",
    "# generator = torch.manual_seed(321)\n",
    "\n",
    "batch_size = 1"
   ]
  },
  {
   "cell_type": "markdown",
   "metadata": {
    "id": "G47gEbg9Z4sJ"
   },
   "source": [
    "First, we get the text_embeddings for the prompt. These embeddings will be used to condition the UNet model."
   ]
  },
  {
   "cell_type": "code",
   "execution_count": null,
   "metadata": {
    "id": "mZpvyVT1Y6wq"
   },
   "outputs": [],
   "source": [
    "text_input = tokenizer(prompt, padding=\"max_length\", max_length=tokenizer.model_max_length, truncation=True, return_tensors=\"pt\")\n",
    "\n",
    "with torch.no_grad():\n",
    "  text_embeddings = text_encoder(text_input.input_ids.to(torch_device))[0]"
   ]
  },
  {
   "cell_type": "markdown",
   "metadata": {
    "id": "INGdc9eFaeWz"
   },
   "source": [
    "We'll also get the unconditional text embeddings for classifier-free guidance, which are just the embeddings for the padding token (empty text). They need to have the same shape as the conditional `text_embeddings` (`batch_size` and `seq_length`)"
   ]
  },
  {
   "cell_type": "code",
   "execution_count": null,
   "metadata": {
    "id": "wkuwhbFrY6zo"
   },
   "outputs": [],
   "source": [
    "max_length = text_input.input_ids.shape[-1]\n",
    "uncond_input = tokenizer(\n",
    "    [\"\"] * batch_size, padding=\"max_length\", max_length=max_length, return_tensors=\"pt\"\n",
    ")\n",
    "with torch.no_grad():\n",
    "  uncond_embeddings = text_encoder(uncond_input.input_ids.to(torch_device))[0]   "
   ]
  },
  {
   "cell_type": "markdown",
   "metadata": {
    "id": "3lKMrvoYbxzf"
   },
   "source": [
    "For classifier-free guidance, we need to do two forward passes. One with the conditioned input (`text_embeddings`), and another with the unconditional embeddings (`uncond_embeddings`). In practice, we can concatenate both into a single batch to avoid doing two forward passes."
   ]
  },
  {
   "cell_type": "code",
   "execution_count": null,
   "metadata": {
    "id": "AwnB7CIeY619"
   },
   "outputs": [],
   "source": [
    "text_embeddings = torch.cat([uncond_embeddings, text_embeddings])"
   ]
  },
  {
   "cell_type": "markdown",
   "metadata": {
    "id": "oxcaMgD0DPUD"
   },
   "source": [
    "Generate the intial random noise."
   ]
  },
  {
   "cell_type": "code",
   "execution_count": null,
   "metadata": {
    "id": "T8HlcBL_L7DX"
   },
   "outputs": [],
   "source": [
    "height = 512\n",
    "width = 512"
   ]
  },
  {
   "cell_type": "code",
   "execution_count": null,
   "metadata": {
    "id": "4NsfjxA-chAL"
   },
   "outputs": [],
   "source": [
    "latents = torch.randn(\n",
    "  (batch_size, unet.in_channels, height // 8, width // 8),\n",
    "  generator=generator,\n",
    ")\n",
    "latents = latents.to(torch_device)"
   ]
  },
  {
   "cell_type": "code",
   "execution_count": null,
   "metadata": {
    "id": "nC401krZfXOr"
   },
   "outputs": [],
   "source": [
    "latents.shape"
   ]
  },
  {
   "cell_type": "markdown",
   "metadata": {
    "id": "JDUOA1gHMp2Y"
   },
   "source": [
    "Cool $64 \\times 64$ is expected. The model will transform this latent representation (pure noise) into a `512 × 512` image later on.\n",
    "\n",
    "Next, we initialize the scheduler with our chosen `num_inference_steps`.\n",
    "This will compute the `sigmas` and exact time step values to be used during the denoising process."
   ]
  },
  {
   "cell_type": "code",
   "execution_count": null,
   "metadata": {
    "id": "f6UDqCyKwBpx"
   },
   "outputs": [],
   "source": [
    "scheduler.set_timesteps(num_inference_steps)"
   ]
  },
  {
   "cell_type": "markdown",
   "metadata": {
    "id": "xTOxOKeqW4XE"
   },
   "source": [
    "The K-LMS scheduler needs to multiply the `latents` by its `sigma` values. Let's do this here"
   ]
  },
  {
   "cell_type": "code",
   "execution_count": null,
   "metadata": {
    "id": "aTwTq9d-W_NP"
   },
   "outputs": [],
   "source": [
    "latents = latents * scheduler.sigmas[0]"
   ]
  },
  {
   "cell_type": "markdown",
   "metadata": {
    "id": "LdVkvYuYdjc6"
   },
   "source": [
    "We are ready to write the denoising loop."
   ]
  },
  {
   "cell_type": "code",
   "execution_count": null,
   "metadata": {
    "id": "Ylc3AIdZkFhl"
   },
   "outputs": [],
   "source": [
    "from tqdm.auto import tqdm\n",
    "from torch import autocast\n",
    "\n",
    "with autocast(\"cuda\"):\n",
    "  for i, t in tqdm(enumerate(scheduler.timesteps)):\n",
    "    # expand the latents if we are doing classifier-free guidance to avoid doing two forward passes.\n",
    "    latent_model_input = torch.cat([latents] * 2)\n",
    "    sigma = scheduler.sigmas[i]\n",
    "    latent_model_input = latent_model_input / ((sigma**2 + 1) ** 0.5)\n",
    "\n",
    "    # predict the noise residual\n",
    "    with torch.no_grad():\n",
    "      noise_pred = unet(latent_model_input, t, encoder_hidden_states=text_embeddings).sample\n",
    "\n",
    "    # perform guidance\n",
    "    noise_pred_uncond, noise_pred_text = noise_pred.chunk(2)\n",
    "    noise_pred = noise_pred_uncond + guidance_scale * (noise_pred_text - noise_pred_uncond)\n",
    "\n",
    "    # compute the previous noisy sample x_t -> x_t-1\n",
    "    latents = scheduler.step(noise_pred, i, latents).prev_sample"
   ]
  },
  {
   "cell_type": "markdown",
   "metadata": {
    "id": "sZUTKjm0kuDY"
   },
   "source": [
    "We now use the `vae` to decode the generated `latents` back into the image."
   ]
  },
  {
   "cell_type": "code",
   "execution_count": null,
   "metadata": {
    "id": "5YRzuJP7kMZo"
   },
   "outputs": [],
   "source": [
    "# scale and decode the image latents with vae\n",
    "latents = 1 / 0.18215 * latents # 색상 변경\n",
    "\n",
    "with torch.no_grad():\n",
    "  image = vae.decode(latents).sample"
   ]
  },
  {
   "cell_type": "markdown",
   "metadata": {
    "id": "PmdOa4_Dqrl8"
   },
   "source": [
    "And finally, let's convert the image to PIL so we can display or save it."
   ]
  },
  {
   "cell_type": "code",
   "execution_count": null,
   "metadata": {
    "id": "AAVZStIokTVv"
   },
   "outputs": [],
   "source": [
    "image = (image / 2 + 0.5).clamp(0, 1)\n",
    "image = image.detach().cpu().permute(0, 2, 3, 1).numpy()\n",
    "images = (image * 255).round().astype(\"uint8\")\n",
    "pil_images = [Image.fromarray(image) for image in images]\n",
    "pil_images[0]"
   ]
  },
  {
   "cell_type": "code",
   "execution_count": null,
   "metadata": {
    "id": "nO31u5Mzwc3M"
   },
   "outputs": [],
   "source": []
  }
 ],
 "metadata": {
  "accelerator": "GPU",
  "colab": {
   "collapsed_sections": [],
   "machine_shape": "hm",
   "provenance": []
  },
  "gpuClass": "standard",
  "kernelspec": {
   "display_name": "Python 3 (ipykernel)",
   "language": "python",
   "name": "python3"
  },
  "language_info": {
   "codemirror_mode": {
    "name": "ipython",
    "version": 3
   },
   "file_extension": ".py",
   "mimetype": "text/x-python",
   "name": "python",
   "nbconvert_exporter": "python",
   "pygments_lexer": "ipython3",
   "version": "3.9.7"
  }
 },
 "nbformat": 4,
 "nbformat_minor": 1
}
