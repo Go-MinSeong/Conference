{
 "cells": [
  {
   "cell_type": "code",
   "execution_count": 13,
   "id": "007200a9",
   "metadata": {},
   "outputs": [],
   "source": [
    "import pandas as pd\n",
    "book_data1=pd.read_csv(\"booksum_data/train.csv\")\n",
    "book_data2=pd.read_csv(\"booksum_data/test.csv\")\n",
    "book_data3=pd.read_csv(\"booksum_data/dev.csv\")"
   ]
  },
  {
   "cell_type": "code",
   "execution_count": 14,
   "id": "8349b903",
   "metadata": {},
   "outputs": [],
   "source": [
    "book_data1 = book_data1[[ \"chapter\", \"summary_text\"]]\n",
    "book_data2 = book_data2[[ \"chapter\", \"summary_text\"]]\n",
    "book_data3 = book_data3[[ \"chapter\", \"summary_text\"]]"
   ]
  },
  {
   "cell_type": "code",
   "execution_count": 15,
   "id": "f57ac14d",
   "metadata": {},
   "outputs": [],
   "source": [
    "for book_data in [book_data1, book_data2, book_data3]:\n",
    "    book_data[\"chapter\"] = book_data[\"chapter\"].apply(lambda x: x.replace(\"\\n\",\"\"))\n",
    "    book_data[\"summary_text\"] = book_data[\"summary_text\"].apply(lambda x: x.replace(\"\\n\",\"\"))"
   ]
  },
  {
   "cell_type": "code",
   "execution_count": 12,
   "id": "ee18d466",
   "metadata": {},
   "outputs": [],
   "source": [
    "book_data.to_csv(\"whole_data_1.csv\", index=False)"
   ]
  },
  {
   "cell_type": "code",
   "execution_count": 26,
   "id": "f7d64684",
   "metadata": {},
   "outputs": [
    {
     "data": {
      "text/html": [
       "<div>\n",
       "<style scoped>\n",
       "    .dataframe tbody tr th:only-of-type {\n",
       "        vertical-align: middle;\n",
       "    }\n",
       "\n",
       "    .dataframe tbody tr th {\n",
       "        vertical-align: top;\n",
       "    }\n",
       "\n",
       "    .dataframe thead th {\n",
       "        text-align: right;\n",
       "    }\n",
       "</style>\n",
       "<table border=\"1\" class=\"dataframe\">\n",
       "  <thead>\n",
       "    <tr style=\"text-align: right;\">\n",
       "      <th></th>\n",
       "      <th>chapter</th>\n",
       "      <th>summary_text</th>\n",
       "    </tr>\n",
       "  </thead>\n",
       "  <tbody>\n",
       "    <tr>\n",
       "      <th>0</th>\n",
       "      <td>London. Michaelmas term lately over, and the L...</td>\n",
       "      <td>The scene opens in London on a foggy, smoggy d...</td>\n",
       "    </tr>\n",
       "    <tr>\n",
       "      <th>1</th>\n",
       "      <td>Although the morning was raw, and although the...</td>\n",
       "      <td>Caddy Jellyby has spent the night in Esther an...</td>\n",
       "    </tr>\n",
       "    <tr>\n",
       "      <th>2</th>\n",
       "      <td>It was interesting when I dressed before dayli...</td>\n",
       "      <td>Esther and Mr. Jarndyce discuss the Chancery s...</td>\n",
       "    </tr>\n",
       "    <tr>\n",
       "      <th>3</th>\n",
       "      <td>A touch on the lawyer's wrinkled hand as he st...</td>\n",
       "      <td>Tulkinghorn and Krook find Nemo dead, apparent...</td>\n",
       "    </tr>\n",
       "    <tr>\n",
       "      <th>4</th>\n",
       "      <td>Richard left us on the very next evening to be...</td>\n",
       "      <td>Richard leaves to start his studies. He is hop...</td>\n",
       "    </tr>\n",
       "    <tr>\n",
       "      <th>...</th>\n",
       "      <td>...</td>\n",
       "      <td>...</td>\n",
       "    </tr>\n",
       "    <tr>\n",
       "      <th>1479</th>\n",
       "      <td>SCENE III.The forestEnter ROSALIND and CELIA  ...</td>\n",
       "      <td>Rosalind and Celia, still in disguise, briefly...</td>\n",
       "    </tr>\n",
       "    <tr>\n",
       "      <th>1480</th>\n",
       "      <td>ACT V. SCENE I.The forestEnter TOUCHSTONE and ...</td>\n",
       "      <td>Touchstone and Audrey wander through the fores...</td>\n",
       "    </tr>\n",
       "    <tr>\n",
       "      <th>1481</th>\n",
       "      <td>SCENE II.The forestEnter ORLANDO and OLIVER  O...</td>\n",
       "      <td>Orlando finds it hard to believe that Oliver h...</td>\n",
       "    </tr>\n",
       "    <tr>\n",
       "      <th>1482</th>\n",
       "      <td>SCENE III.The forestEnter TOUCHSTONE and AUDRE...</td>\n",
       "      <td>Touchstone looks forward to his marriage to Au...</td>\n",
       "    </tr>\n",
       "    <tr>\n",
       "      <th>1483</th>\n",
       "      <td>SCENE IV.The forestEnter DUKE SENIOR, AMIENS, ...</td>\n",
       "      <td>Your 'if' is the only peacemaker; much virtue ...</td>\n",
       "    </tr>\n",
       "  </tbody>\n",
       "</table>\n",
       "<p>1484 rows × 2 columns</p>\n",
       "</div>"
      ],
      "text/plain": [
       "                                                chapter  \\\n",
       "0     London. Michaelmas term lately over, and the L...   \n",
       "1     Although the morning was raw, and although the...   \n",
       "2     It was interesting when I dressed before dayli...   \n",
       "3     A touch on the lawyer's wrinkled hand as he st...   \n",
       "4     Richard left us on the very next evening to be...   \n",
       "...                                                 ...   \n",
       "1479  SCENE III.The forestEnter ROSALIND and CELIA  ...   \n",
       "1480  ACT V. SCENE I.The forestEnter TOUCHSTONE and ...   \n",
       "1481  SCENE II.The forestEnter ORLANDO and OLIVER  O...   \n",
       "1482  SCENE III.The forestEnter TOUCHSTONE and AUDRE...   \n",
       "1483  SCENE IV.The forestEnter DUKE SENIOR, AMIENS, ...   \n",
       "\n",
       "                                           summary_text  \n",
       "0     The scene opens in London on a foggy, smoggy d...  \n",
       "1     Caddy Jellyby has spent the night in Esther an...  \n",
       "2     Esther and Mr. Jarndyce discuss the Chancery s...  \n",
       "3     Tulkinghorn and Krook find Nemo dead, apparent...  \n",
       "4     Richard leaves to start his studies. He is hop...  \n",
       "...                                                 ...  \n",
       "1479  Rosalind and Celia, still in disguise, briefly...  \n",
       "1480  Touchstone and Audrey wander through the fores...  \n",
       "1481  Orlando finds it hard to believe that Oliver h...  \n",
       "1482  Touchstone looks forward to his marriage to Au...  \n",
       "1483  Your 'if' is the only peacemaker; much virtue ...  \n",
       "\n",
       "[1484 rows x 2 columns]"
      ]
     },
     "execution_count": 26,
     "metadata": {},
     "output_type": "execute_result"
    }
   ],
   "source": [
    "book_data"
   ]
  },
  {
   "cell_type": "code",
   "execution_count": 9,
   "id": "fde84827",
   "metadata": {},
   "outputs": [],
   "source": [
    "book_data[\"chapter\"]=book_data[\"chapter\"].apply(lambda x: x[:2000])"
   ]
  },
  {
   "cell_type": "code",
   "execution_count": 22,
   "id": "e0955aa8",
   "metadata": {},
   "outputs": [],
   "source": [
    "book_data1[\"chapter\"].to_csv(\"train_source.csv\", index=False)\n",
    "book_data1[\"summary_text\"].to_csv(\"train_target.csv\", index=False)\n",
    "book_data2[\"chapter\"].to_csv(\"test_source.csv\", index=False)\n",
    "book_data2[\"summary_text\"].to_csv(\"test_target.csv\", index=False)\n",
    "book_data3[\"chapter\"].to_csv(\"dev_source.csv\", index=False)\n",
    "book_data3[\"summary_text\"].to_csv(\"dev_target.csv\", index=False)"
   ]
  }
 ],
 "metadata": {
  "kernelspec": {
   "display_name": "Python 3.9.7 64-bit",
   "language": "python",
   "name": "python3"
  },
  "language_info": {
   "codemirror_mode": {
    "name": "ipython",
    "version": 3
   },
   "file_extension": ".py",
   "mimetype": "text/x-python",
   "name": "python",
   "nbconvert_exporter": "python",
   "pygments_lexer": "ipython3",
   "version": "3.9.7"
  },
  "vscode": {
   "interpreter": {
    "hash": "0412658f24b7d3979589ed8793c3b2dff1ef50d4ed37d8562a8f45b69e7e5e0d"
   }
  }
 },
 "nbformat": 4,
 "nbformat_minor": 5
}
